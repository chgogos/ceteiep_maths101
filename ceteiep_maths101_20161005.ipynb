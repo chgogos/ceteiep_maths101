{
 "cells": [
  {
   "cell_type": "markdown",
   "metadata": {},
   "source": [
    "## ΤΕΙ Ηπείρου - Τμήμα Μηχανικών Πληροφορικής ΤΕ \n",
    "### Παραδείγματα από το μάθημα (5/10/2016) Μαθηματικά για μηχανικούς  "
   ]
  },
  {
   "cell_type": "markdown",
   "metadata": {},
   "source": [
    "Απλές αριθμητικές πράξεις στην Python, η βιβλιοθήκη math"
   ]
  },
  {
   "cell_type": "code",
   "execution_count": null,
   "metadata": {
    "collapsed": false
   },
   "outputs": [],
   "source": [
    "a = 1 + 1\n",
    "b = 2**20\n",
    "import math\n",
    "c = math.sqrt(2)\n",
    "print(a,b,c, math.pi)"
   ]
  },
  {
   "cell_type": "markdown",
   "metadata": {},
   "source": [
    "Φόρτωση της βιβλιοθήκης sys, έλεγχος της έκδοσης της Python που εκτελείται"
   ]
  },
  {
   "cell_type": "code",
   "execution_count": null,
   "metadata": {
    "collapsed": false
   },
   "outputs": [],
   "source": [
    "import sys\n",
    "print(sys.version)  \n",
    "sys.version_info"
   ]
  },
  {
   "cell_type": "markdown",
   "metadata": {},
   "source": [
    "### Αριθμητικοί υπολογισμοί με την Python vs συμβολικοί υπολογισμοί με το SymPy\n",
    "Απλές αριθμητικές πράξεις"
   ]
  },
  {
   "cell_type": "code",
   "execution_count": null,
   "metadata": {
    "collapsed": false
   },
   "outputs": [],
   "source": [
    "a=5\n",
    "b=a+1\n",
    "c=a+b\n",
    "print(a,b,c)"
   ]
  },
  {
   "cell_type": "markdown",
   "metadata": {},
   "source": [
    "Παράδειγμα με λάθος αποτέλεσμα λόγω του τρόπου αναπαράστασης των πραγματικών αριθμών των μαθηματικών ως αριθμών κινητής υποδιαστολής"
   ]
  },
  {
   "cell_type": "code",
   "execution_count": null,
   "metadata": {
    "collapsed": false
   },
   "outputs": [],
   "source": [
    "x = 1.0 - 5 * 0.2\n",
    "y = 1.0 - 0.2 -0.2 -0.2 -0.2 -0.2\n",
    "print(x, y)"
   ]
  },
  {
   "cell_type": "raw",
   "metadata": {},
   "source": [
    "Εύρος τιμών με τη range"
   ]
  },
  {
   "cell_type": "code",
   "execution_count": null,
   "metadata": {
    "collapsed": false
   },
   "outputs": [],
   "source": [
    "r = range(10)\n",
    "list(r)"
   ]
  },
  {
   "cell_type": "markdown",
   "metadata": {},
   "source": [
    "Βρόχος επανάληψης στην Python με την εντολή for έτσι ώστε να υπολογιστεί το άθροισμα $1+2+3+...+ 1000$"
   ]
  },
  {
   "cell_type": "code",
   "execution_count": null,
   "metadata": {
    "collapsed": false
   },
   "outputs": [],
   "source": [
    "c=0\n",
    "for x in range(1,101):\n",
    "    c=c +x\n",
    "print(c)"
   ]
  },
  {
   "cell_type": "markdown",
   "metadata": {},
   "source": [
    "Συντομότερος τρόπος για τον υπολογισμό του ίδιου αθροίσματος"
   ]
  },
  {
   "cell_type": "code",
   "execution_count": null,
   "metadata": {
    "collapsed": false
   },
   "outputs": [],
   "source": [
    "sum(range(1,101))"
   ]
  },
  {
   "cell_type": "markdown",
   "metadata": {},
   "source": [
    "Συμβολικός υπολογισμός γινομένου συναρτήσεων με τη χρήση της βιβλιοθήκης sympy"
   ]
  },
  {
   "cell_type": "code",
   "execution_count": null,
   "metadata": {
    "collapsed": false
   },
   "outputs": [],
   "source": [
    "from sympy import *\n",
    "from IPython.display import display\n",
    "init_printing()\n",
    "x = Symbol('x')\n",
    "f_x = x**2 +3*x +5\n",
    "g_x = x**2-1\n",
    "h_x = f_x*g_x\n",
    "display(h_x)\n",
    "display(expand(h_x))"
   ]
  },
  {
   "cell_type": "markdown",
   "metadata": {
    "collapsed": true
   },
   "source": [
    "Υπολογισμός της σειράς $1+2+3+...+n$ με τη χρήση συμβολικών υπολογισμών. Υπολογισμός της τιμής για $n=100$"
   ]
  },
  {
   "cell_type": "code",
   "execution_count": null,
   "metadata": {
    "collapsed": false
   },
   "outputs": [],
   "source": [
    "n=Symbol('n') \n",
    "a_n = summation(n, [n,1,n])\n",
    "display(a_n)\n",
    "display(factor(a_n))\n",
    "a_n.subs(n,100).evalf()"
   ]
  },
  {
   "cell_type": "markdown",
   "metadata": {},
   "source": [
    "Σύνδεσμοι για εκμάθηση και εξάσκηση στην Python και στο sympy\n",
    "* <http://swcarpentry.github.io/python-novice-inflammation/>\n",
    "* <https://www.codingame.com>\n",
    "* [Guide to symbolic mathematics with SymPy](http://mattpap.github.io/scipy-2011-tutorial/html/)"
   ]
  }
 ],
 "metadata": {
  "anaconda-cloud": {},
  "kernelspec": {
   "display_name": "Python [default]",
   "language": "python",
   "name": "python3"
  },
  "language_info": {
   "codemirror_mode": {
    "name": "ipython",
    "version": 3
   },
   "file_extension": ".py",
   "mimetype": "text/x-python",
   "name": "python",
   "nbconvert_exporter": "python",
   "pygments_lexer": "ipython3",
   "version": "3.5.2"
  }
 },
 "nbformat": 4,
 "nbformat_minor": 1
}
