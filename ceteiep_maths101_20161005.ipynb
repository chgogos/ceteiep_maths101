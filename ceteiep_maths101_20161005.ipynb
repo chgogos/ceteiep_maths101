{
 "cells": [
  {
   "cell_type": "markdown",
   "metadata": {},
   "source": [
    "## ΤΕΙ Ηπείρου - Τμήμα Μηχανικών Πληροφορικής ΤΕ \n",
    "### Παραδείγματα από το μάθημα (5/10/2016) Μαθηματικά για μηχανικούς  "
   ]
  },
  {
   "cell_type": "markdown",
   "metadata": {},
   "source": [
    "Απλές αριθμητικές πράξεις στην Python, η βιβλιοθήκη math"
   ]
  },
  {
   "cell_type": "code",
   "execution_count": 31,
   "metadata": {
    "collapsed": false
   },
   "outputs": [
    {
     "name": "stdout",
     "output_type": "stream",
     "text": [
      "2 1048576 1.4142135623730951 3.141592653589793\n"
     ]
    }
   ],
   "source": [
    "a = 1 + 1\n",
    "b = 2**20\n",
    "import math\n",
    "c = math.sqrt(2)\n",
    "print(a,b,c, math.pi)"
   ]
  },
  {
   "cell_type": "markdown",
   "metadata": {},
   "source": [
    "Φόρτωση της βιβλιοθήκης sys, έλεγχος της έκδοσης της Python που εκτελείται"
   ]
  },
  {
   "cell_type": "code",
   "execution_count": 32,
   "metadata": {
    "collapsed": false
   },
   "outputs": [
    {
     "name": "stdout",
     "output_type": "stream",
     "text": [
      "3.5.2 |Anaconda 4.2.0 (x86_64)| (default, Jul  2 2016, 17:52:12) \n",
      "[GCC 4.2.1 Compatible Apple LLVM 4.2 (clang-425.0.28)]\n"
     ]
    },
    {
     "data": {
      "text/plain": [
       "sys.version_info(major=3, minor=5, micro=2, releaselevel='final', serial=0)"
      ]
     },
     "execution_count": 32,
     "metadata": {},
     "output_type": "execute_result"
    }
   ],
   "source": [
    "import sys\n",
    "print(sys.version)  \n",
    "sys.version_info"
   ]
  },
  {
   "cell_type": "markdown",
   "metadata": {},
   "source": [
    "### Αριθμητικοί υπολογισμοί με την Python vs συμβολικοί υπολογισμοί με το SymPy\n",
    "Απλές αριθμητικές πράξεις"
   ]
  },
  {
   "cell_type": "code",
   "execution_count": 33,
   "metadata": {
    "collapsed": false
   },
   "outputs": [
    {
     "name": "stdout",
     "output_type": "stream",
     "text": [
      "5 6 11\n"
     ]
    }
   ],
   "source": [
    "a=5\n",
    "b=a+1\n",
    "c=a+b\n",
    "print(a,b,c)"
   ]
  },
  {
   "cell_type": "markdown",
   "metadata": {},
   "source": [
    "Παράδειγμα με λάθος αποτέλεσμα λόγω του τρόπου αναπαράστασης των πραγματικών αριθμών των μαθηματικών ως αριθμών κινητής υποδιαστολής"
   ]
  },
  {
   "cell_type": "code",
   "execution_count": 34,
   "metadata": {
    "collapsed": false
   },
   "outputs": [
    {
     "name": "stdout",
     "output_type": "stream",
     "text": [
      "0.0 5.551115123125783e-17\n"
     ]
    }
   ],
   "source": [
    "x = 1.0 - 5 * 0.2\n",
    "y = 1.0 - 0.2 -0.2 -0.2 -0.2 -0.2\n",
    "print(x, y)"
   ]
  },
  {
   "cell_type": "raw",
   "metadata": {},
   "source": [
    "Εύρος τιμών με τη range"
   ]
  },
  {
   "cell_type": "code",
   "execution_count": 35,
   "metadata": {
    "collapsed": false
   },
   "outputs": [
    {
     "data": {
      "image/png": "[encoded data removed]",
      "text/latex": [
       "$$\\left [ 0, \\quad 1, \\quad 2, \\quad 3, \\quad 4, \\quad 5, \\quad 6, \\quad 7, \\quad 8, \\quad 9\\right ]$$"
      ],
      "text/plain": [
       "[0, 1, 2, 3, 4, 5, 6, 7, 8, 9]"
      ]
     },
     "execution_count": 35,
     "metadata": {},
     "output_type": "execute_result"
    }
   ],
   "source": [
    "r = range(10)\n",
    "list(r)"
   ]
  },
  {
   "cell_type": "markdown",
   "metadata": {},
   "source": [
    "Βρόχος επανάληψης στην Python με την εντολή for έτσι ώστε να υπολογιστεί το άθροισμα $1+2+3+...+ 1000$"
   ]
  },
  {
   "cell_type": "code",
   "execution_count": 36,
   "metadata": {
    "collapsed": false
   },
   "outputs": [
    {
     "name": "stdout",
     "output_type": "stream",
     "text": [
      "5050\n"
     ]
    }
   ],
   "source": [
    "c=0\n",
    "for x in range(1,101):\n",
    "    c=c +x\n",
    "print(c)"
   ]
  },
  {
   "cell_type": "markdown",
   "metadata": {},
   "source": [
    "Συντομότερος τρόπος για τον υπολογισμό του ίδιου αθροίσματος"
   ]
  },
  {
   "cell_type": "code",
   "execution_count": 37,
   "metadata": {
    "collapsed": false
   },
   "outputs": [
    {
     "data": {
      "image/png": "[encoded data removed]",
      "text/latex": [
       "$$5050$$"
      ],
      "text/plain": [
       "5050"
      ]
     },
     "execution_count": 37,
     "metadata": {},
     "output_type": "execute_result"
    }
   ],
   "source": [
    "sum(range(1,101))"
   ]
  },
  {
   "cell_type": "markdown",
   "metadata": {},
   "source": [
    "Συμβολικός υπολογισμός γινομένου συναρτήσεων με τη χρήση της βιβλιοθήκης sympy"
   ]
  },
  {
   "cell_type": "code",
   "execution_count": 38,
   "metadata": {
    "collapsed": false
   },
   "outputs": [
    {
     "data": {
      "image/png": "[encoded data removed]",
      "text/latex": [
       "$$\\left(x^{2} - 1\\right) \\left(x^{2} + 3 x + 5\\right)$$"
      ],
      "text/plain": [
       "⎛ 2    ⎞ ⎛ 2          ⎞\n",
       "⎝x  - 1⎠⋅⎝x  + 3⋅x + 5⎠"
      ]
     },
     "metadata": {},
     "output_type": "display_data"
    },
    {
     "data": {
      "image/png": "[encoded data removed]",
      "text/latex": [
       "$$x^{4} + 3 x^{3} + 4 x^{2} - 3 x - 5$$"
      ],
      "text/plain": [
       " 4      3      2          \n",
       "x  + 3⋅x  + 4⋅x  - 3⋅x - 5"
      ]
     },
     "metadata": {},
     "output_type": "display_data"
    }
   ],
   "source": [
    "from sympy import *\n",
    "from IPython.display import display\n",
    "init_printing()\n",
    "x = Symbol('x')\n",
    "f_x = x**2 +3*x +5\n",
    "g_x = x**2-1\n",
    "h_x = f_x*g_x\n",
    "display(h_x)\n",
    "display(expand(h_x))"
   ]
  },
  {
   "cell_type": "markdown",
   "metadata": {
    "collapsed": true
   },
   "source": [
    "Υπολογισμός της σειράς $1+2+3+...+n$ με τη χρήση συμβολικών υπολογισμών. Υπολογισμός της τιμής για $n=100$"
   ]
  },
  {
   "cell_type": "code",
   "execution_count": 39,
   "metadata": {
    "collapsed": false
   },
   "outputs": [
    {
     "data": {
      "image/png": "[encoded data removed]",
      "text/latex": [
       "$$\\frac{n^{2}}{2} + \\frac{n}{2}$$"
      ],
      "text/plain": [
       " 2    \n",
       "n    n\n",
       "── + ─\n",
       "2    2"
      ]
     },
     "metadata": {},
     "output_type": "display_data"
    },
    {
     "data": {
      "image/png": "[encoded data removed]",
      "text/latex": [
       "$$\\frac{n}{2} \\left(n + 1\\right)$$"
      ],
      "text/plain": [
       "n⋅(n + 1)\n",
       "─────────\n",
       "    2    "
      ]
     },
     "metadata": {},
     "output_type": "display_data"
    },
    {
     "data": {
      "image/png": "[encoded data removed]",
      "text/latex": [
       "$$5050.0$$"
      ],
      "text/plain": [
       "5050.00000000000"
      ]
     },
     "execution_count": 39,
     "metadata": {},
     "output_type": "execute_result"
    }
   ],
   "source": [
    "n=Symbol('n') \n",
    "a_n = summation(n, [n,1,n])\n",
    "display(a_n)\n",
    "display(factor(a_n))\n",
    "a_n.subs(n,100).evalf()"
   ]
  },
  {
   "cell_type": "markdown",
   "metadata": {},
   "source": [
    "Σύνδεσμοι για εκμάθηση και εξάσκηση στην Python και στο sympy\n",
    "* <http://swcarpentry.github.io/python-novice-inflammation/>\n",
    "* <https://www.codingame.com>\n",
    "* [Guide to symbolic mathematics with SymPy](http://mattpap.github.io/scipy-2011-tutorial/html/)"
   ]
  }
 ],
 "metadata": {
  "anaconda-cloud": {},
  "kernelspec": {
   "display_name": "Python [default]",
   "language": "python",
   "name": "python3"
  },
  "language_info": {
   "codemirror_mode": {
    "name": "ipython",
    "version": 3
   },
   "file_extension": ".py",
   "mimetype": "text/x-python",
   "name": "python",
   "nbconvert_exporter": "python",
   "pygments_lexer": "ipython3",
   "version": "3.5.2"
  }
 },
 "nbformat": 4,
 "nbformat_minor": 1
}
