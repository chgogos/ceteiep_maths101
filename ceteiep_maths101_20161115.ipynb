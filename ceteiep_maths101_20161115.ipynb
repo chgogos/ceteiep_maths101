{
 "cells": [
  {
   "cell_type": "markdown",
   "metadata": {},
   "source": [
    "## Μαθηματικά για μηχανικούς \n",
    "### ΤΕΙ Ηπείρου Τμήμα Μηχανικών Πληροφορικής ΤΕ\n",
    "\n",
    "####  Απόσταση σημείων - καρτεσιανές και πολικές συντεταγμένες"
   ]
  },
  {
   "cell_type": "code",
   "execution_count": 6,
   "metadata": {
    "collapsed": false
   },
   "outputs": [
    {
     "data": {
      "image/png": "[encoded data removed]",
      "text/latex": [
       "$$\\left ( \\sqrt{74}, \\quad 8.60232526704263\\right )$$"
      ],
      "text/plain": [
       "(√74, 8.60232526704263)"
      ]
     },
     "execution_count": 6,
     "metadata": {},
     "output_type": "execute_result"
    }
   ],
   "source": [
    "# απόσταση δύο σημείων στο καρτεσιανό επίπεδο\n",
    "from sympy.geometry import Point\n",
    "from sympy import init_printing\n",
    "from IPython.display import display\n",
    "init_printing()\n",
    "p1 = Point(3,2)\n",
    "p2 = Point(8,9)\n",
    "d = p1.distance(p2)\n",
    "d, d.evalf()"
   ]
  },
  {
   "cell_type": "code",
   "execution_count": 7,
   "metadata": {
    "collapsed": false
   },
   "outputs": [
    {
     "data": {
      "image/png": "[encoded data removed]",
      "text/latex": [
       "$$\\left ( \\sqrt{30}, \\quad 5.47722557505166\\right )$$"
      ],
      "text/plain": [
       "(√30, 5.47722557505166)"
      ]
     },
     "execution_count": 7,
     "metadata": {},
     "output_type": "execute_result"
    }
   ],
   "source": [
    "# απόσταση δύο σημείων στον τρισδιάστατο χώρο\n",
    "from sympy import Point3D\n",
    "p1 = Point3D(3,2,1)\n",
    "p2 = Point3D(1,7,2)\n",
    "d = p1.distance(p2)\n",
    "d, d.evalf()"
   ]
  },
  {
   "cell_type": "code",
   "execution_count": 1,
   "metadata": {
    "collapsed": false
   },
   "outputs": [
    {
     "name": "stdout",
     "output_type": "stream",
     "text": [
      "(14.76, 1.08rads)\n",
      "(14.76, 61.70degrees)\n"
     ]
    }
   ],
   "source": [
    "# μετατροπή από καρτεσιανές σε πολικές συντεταγμένες\n",
    "# παράδειγμα C(7,13) --> P(14.76,61.70)\n",
    "import math\n",
    "x = 7\n",
    "y = 13\n",
    "r = math.sqrt(x**2+y**2)\n",
    "theta_r = math.atan(y/x)\n",
    "print('({0:.2f}, {1:.2f}rads)'.format(r,theta_r))\n",
    "theta_d = math.degrees(theta_r)\n",
    "print('({0:.2f}, {1:.2f}degrees)'.format(r,theta_d))"
   ]
  },
  {
   "cell_type": "code",
   "execution_count": 2,
   "metadata": {
    "collapsed": false
   },
   "outputs": [
    {
     "name": "stdout",
     "output_type": "stream",
     "text": [
      "2.60, 1.50\n"
     ]
    }
   ],
   "source": [
    "# μετατροπή από πολικές σε καρτεσιανές συντεταγμένες\n",
    "# παράδειγμα P(3,π/6) --> C(2.60,1.5)\n",
    "import math\n",
    "r = 3\n",
    "theta = math.pi/6\n",
    "x = r * math.cos(theta)\n",
    "y = r * math.sin(theta)\n",
    "print('{0:.2f}, {1:.2f}'.format(x,y))"
   ]
  }
 ],
 "metadata": {
  "anaconda-cloud": {},
  "kernelspec": {
   "display_name": "Python [default]",
   "language": "python",
   "name": "python3"
  },
  "language_info": {
   "codemirror_mode": {
    "name": "ipython",
    "version": 3
   },
   "file_extension": ".py",
   "mimetype": "text/x-python",
   "name": "python",
   "nbconvert_exporter": "python",
   "pygments_lexer": "ipython3",
   "version": "3.5.2"
  }
 },
 "nbformat": 4,
 "nbformat_minor": 0
}
