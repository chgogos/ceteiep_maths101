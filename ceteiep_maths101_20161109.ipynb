{
 "cells": [
  {
   "cell_type": "markdown",
   "metadata": {},
   "source": [
    "## Μαθηματικά για μηχανικούς \n",
    "### ΤΕΙ Ηπείρου Τμήμα Μηχανικών Πληροφορικής ΤΕ\n",
    "### Πράξεις συνόλων και διαγράμματα Venn"
   ]
  },
  {
   "cell_type": "code",
   "execution_count": 1,
   "metadata": {
    "collapsed": false
   },
   "outputs": [
    {
     "name": "stdout",
     "output_type": "stream",
     "text": [
      "{'kostas', 'maria', 'nikos', 'dimitra', 'christos'}\n",
      "{'kostas', 'maria'}\n",
      "{'nikos'}\n"
     ]
    }
   ],
   "source": [
    "# σύνολα στη Python\n",
    "A = set([\"nikos\", \"maria\", \"kostas\"])\n",
    "B = set([\"kostas\", \"dimitra\", \"maria\", \"christos\"])\n",
    "# ένωση συνόλων\n",
    "print(A | B)\n",
    "# τομή συνόλων\n",
    "print(A & B)\n",
    "# διαφορά συνόλων\n",
    "print(A - B)"
   ]
  },
  {
   "cell_type": "code",
   "execution_count": 6,
   "metadata": {
    "collapsed": false
   },
   "outputs": [
    {
     "name": "stdout",
     "output_type": "stream",
     "text": [
      "Όλα τα υποσύνολα του συνόλου {0, 1, 2, 3}\n",
      "{0}\n",
      "{0, 1}\n",
      "{0, 2}\n",
      "{0, 3}\n",
      "{0, 1, 2}\n",
      "{0, 1, 3}\n",
      "{0, 2, 3}\n",
      "{0, 1, 2, 3}\n",
      "{1}\n",
      "{1, 2}\n",
      "{1, 3}\n",
      "{1, 2, 3}\n",
      "{2}\n",
      "{2, 3}\n",
      "{3}\n",
      "EmptySet()\n"
     ]
    }
   ],
   "source": [
    "# σ΄ύνολα στο sympy\n",
    "from sympy import FiniteSet \n",
    "\n",
    "s0=FiniteSet(0,1,2,3)\n",
    "\n",
    "print('Όλα τα υποσύνολα του συνόλου ' + str(s0))\n",
    "for e in s0.powerset():\n",
    "    print(e)"
   ]
  },
  {
   "cell_type": "code",
   "execution_count": 14,
   "metadata": {
    "collapsed": false
   },
   "outputs": [
    {
     "name": "stdout",
     "output_type": "stream",
     "text": [
      "Ένωση των συνόλων {1, 3, 5, 7, 9} και {0, 2, 4, 6, 8}\n",
      "0\n",
      "1\n",
      "2\n",
      "3\n",
      "4\n",
      "5\n",
      "6\n",
      "7\n",
      "8\n",
      "9\n",
      "Τομή των συνόλων {0, 1, 2} και {0, 2, 4, 6, 8}\n",
      "0\n",
      "1\n",
      "2\n",
      "4\n",
      "6\n",
      "8\n"
     ]
    }
   ],
   "source": [
    "s1=FiniteSet(1,3,5,7,9)\n",
    "s2=FiniteSet(0,2,4,6,8)\n",
    "\n",
    "print('Ένωση των συνόλων {0} και {1}'.format(str(s1), str(s2)))\n",
    "for e in s1.union(s2):\n",
    "    print(e)\n",
    "    \n",
    "print('Τομή των συνόλων {0} και {1}'.format(str(s0), str(s2)))\n",
    "for e in s0.union(s2):\n",
    "    print(e)"
   ]
  },
  {
   "cell_type": "code",
   "execution_count": 15,
   "metadata": {
    "collapsed": false
   },
   "outputs": [
    {
     "name": "stdout",
     "output_type": "stream",
     "text": [
      "Καρτεσιανό γινόμενο των συνόλων {1, 3, 5, 7, 9} και {0, 2, 4, 6, 8}\n",
      "(1, 0)\n",
      "(1, 2)\n",
      "(1, 4)\n",
      "(1, 6)\n",
      "(1, 8)\n",
      "(3, 0)\n",
      "(3, 2)\n",
      "(3, 4)\n",
      "(3, 6)\n",
      "(3, 8)\n",
      "(5, 0)\n",
      "(5, 2)\n",
      "(5, 4)\n",
      "(5, 6)\n",
      "(5, 8)\n",
      "(7, 0)\n",
      "(7, 2)\n",
      "(7, 4)\n",
      "(7, 6)\n",
      "(7, 8)\n",
      "(9, 0)\n",
      "(9, 2)\n",
      "(9, 4)\n",
      "(9, 6)\n",
      "(9, 8)\n"
     ]
    }
   ],
   "source": [
    "print(\"Καρτεσιανό γινόμενο των συνόλων {0} και {1}\".format(str(s1), str(s2)))\n",
    "for e in s1*s2:\n",
    "    print(e)      "
   ]
  },
  {
   "cell_type": "code",
   "execution_count": 12,
   "metadata": {
    "collapsed": false
   },
   "outputs": [
    {
     "data": {
      "image/png": "[encoded data removed]",
      "text/plain": [
       "<matplotlib.figure.Figure at 0xa978d30>"
      ]
     },
     "metadata": {},
     "output_type": "display_data"
    }
   ],
   "source": [
    "%matplotlib inline\n",
    "\"\"\"\n",
    "Σχεδίαση διαγράμματος Venn με δύο σύνολα 4 και 3 στοιχείων που έχουν 1 κοινό  στοιχείο\n",
    "\n",
    "θα πρέπει να εγκατασταθεί η third party βιβλιοθήκη matplotlib-venn δίνοντας την ακόλουθη εντολή στο command line\n",
    "pip install matplotlib-venn\n",
    "\"\"\"\n",
    "\n",
    "# venn2 είναι μια συνάρτηση του matplotlib_venn\n",
    "from matplotlib_venn import venn2 \n",
    "# pyplot είναι ένα τμήμα(module) του matplotlib\n",
    "import matplotlib.pyplot as plt \n",
    "\n",
    "venn2(subsets=(3,2,1), set_labels=('Set A', 'Set B'))\n",
    "plt.show()"
   ]
  }
 ],
 "metadata": {
  "anaconda-cloud": {},
  "kernelspec": {
   "display_name": "Python [default]",
   "language": "python",
   "name": "python3"
  },
  "language_info": {
   "codemirror_mode": {
    "name": "ipython",
    "version": 3
   },
   "file_extension": ".py",
   "mimetype": "text/x-python",
   "name": "python",
   "nbconvert_exporter": "python",
   "pygments_lexer": "ipython3",
   "version": "3.5.2"
  }
 },
 "nbformat": 4,
 "nbformat_minor": 0
}
