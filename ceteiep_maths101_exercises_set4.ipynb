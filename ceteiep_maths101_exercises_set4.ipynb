{
 "cells": [
  {
   "cell_type": "markdown",
   "metadata": {},
   "source": [
    "## ΤΕΙ Ηπείρου - Τμήμα Μηχανικών Πληροφορικής ΤΕ \n",
    "### Μαθηματικά για μηχανικούς  \n",
    "\n",
    "    Προαιρετικές ασκήσεις (Python + sympy) - Δ' ΣΕΤ\n",
    "\n",
    "Ανεβάστε το notebook με τις απαντήσεις των ασκήσεων στο github σε λογαριασμό που θα δημιουργήσετε έτσι ώστε να είναι εύκολα προσβάσιμο από οποιονδήποτε\n",
    "### Γεωμετρικοί μετασχηματισμοί"
   ]
  },
  {
   "cell_type": "markdown",
   "metadata": {},
   "source": [
    "#### 1.  Γραφική απεικόνιση πολυγώνου\n",
    "Απεικονίστε γραφικά χρησιμοποιώντας τη βιβλιοθήκη matplotlib το πεντάγωνο που φαίνεται στο ακόλουθο σχήμα\n",
    "![](https://cdn.pbrd.co/images/mQ7SsB1Va.png)"
   ]
  },
  {
   "cell_type": "code",
   "execution_count": 1,
   "metadata": {
    "collapsed": false
   },
   "outputs": [],
   "source": [
    "# σχεδίαση γραφήματος με πολύγωνο\n"
   ]
  },
  {
   "cell_type": "markdown",
   "metadata": {},
   "source": [
    "#### 2. Εφαρμόστε γραμμικό μετασχηματισμό πρώτα ως προς τον άξονα x=y και μετά κάνοντας στροφή προς τα αριστερά κατά 60 μοίρες"
   ]
  },
  {
   "cell_type": "code",
   "execution_count": 2,
   "metadata": {
    "collapsed": false
   },
   "outputs": [],
   "source": [
    "# απεικόνιση του πολυγώνου ως πίνακα 2x5\n",
    "\n",
    "# γραμμικοί μετασχηματισμοί\n"
   ]
  },
  {
   "cell_type": "code",
   "execution_count": 3,
   "metadata": {
    "collapsed": false
   },
   "outputs": [],
   "source": [
    "# γραφική απεικόνιση του πολυγώνου και της εικόνας του μετά τους γραμμικούς μετασχηματισμούς\n",
    "\n"
   ]
  }
 ],
 "metadata": {
  "anaconda-cloud": {},
  "kernelspec": {
   "display_name": "Python [default]",
   "language": "python",
   "name": "python3"
  },
  "language_info": {
   "codemirror_mode": {
    "name": "ipython",
    "version": 3
   },
   "file_extension": ".py",
   "mimetype": "text/x-python",
   "name": "python",
   "nbconvert_exporter": "python",
   "pygments_lexer": "ipython3",
   "version": "3.5.2"
  }
 },
 "nbformat": 4,
 "nbformat_minor": 1
}
