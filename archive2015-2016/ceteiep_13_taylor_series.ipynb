{
 "cells": [
  {
   "cell_type": "markdown",
   "metadata": {},
   "source": [
    "## Μαθηματικά για μηχανικούς \n",
    "### ΤΕΙ Ηπείρου Τμήμα Μηχανικών Πληροφορικής ΤΕ\n",
    "### Σειρές Taylor και Mclaurin\n",
    "Γκόγκος Χρήστος"
   ]
  },
  {
   "cell_type": "code",
   "execution_count": 14,
   "metadata": {
    "collapsed": true
   },
   "outputs": [],
   "source": [
    "from sympy import *\n",
    "init_printing()"
   ]
  },
  {
   "cell_type": "markdown",
   "metadata": {},
   "source": [
    "### Α. Να προσεγγιστεί η συνάρτηση $f(x)=\\ln{(1+x)}$ με μια σειρά Mclaurin βαθμού 3"
   ]
  },
  {
   "cell_type": "code",
   "execution_count": 15,
   "metadata": {
    "collapsed": false
   },
   "outputs": [
    {
     "data": {
      "image/png": "[encoded data removed]",
      "text/latex": [
       "$$\\log{\\left (x + 1 \\right )}$$"
      ],
      "text/plain": [
       "log(x + 1)"
      ]
     },
     "execution_count": 15,
     "metadata": {},
     "output_type": "execute_result"
    }
   ],
   "source": [
    "x = Symbol('x')\n",
    "f = log(1+x)\n",
    "f"
   ]
  },
  {
   "cell_type": "code",
   "execution_count": 16,
   "metadata": {
    "collapsed": false
   },
   "outputs": [
    {
     "data": {
      "image/png": "[encoded data removed]",
      "text/latex": [
       "$$\\frac{x^{3}}{3} - \\frac{x^{2}}{2} + x$$"
      ],
      "text/plain": [
       " 3    2    \n",
       "x    x     \n",
       "── - ── + x\n",
       "3    2     "
      ]
     },
     "execution_count": 16,
     "metadata": {},
     "output_type": "execute_result"
    }
   ],
   "source": [
    "df = diff(f,x)\n",
    "d2f= diff(f,x,2)\n",
    "d3f= diff(f,x,3)\n",
    "d4f= diff(f,x,4)\n",
    "ms = f.subs(x,0) + df.subs(x,0)*x/factorial(1) + d2f.subs(x,0)*x**2/factorial(2) + d3f.subs(x,0)*x**3/factorial(3) \n",
    "# ms = ms + d4f.subs(x,0)*x**4/factorial(4) \n",
    "ms"
   ]
  },
  {
   "cell_type": "code",
   "execution_count": 17,
   "metadata": {
    "collapsed": false
   },
   "outputs": [
    {
     "name": "stdout",
     "output_type": "stream",
     "text": [
      "f(-0.30)=-0.35667  προσέγγιση σειράς Mclaurin=-0.35400\n",
      "f(-0.25)=-0.28768  προσέγγιση σειράς Mclaurin=-0.28646\n",
      "f(-0.20)=-0.22314  προσέγγιση σειράς Mclaurin=-0.22267\n",
      "f(-0.15)=-0.16252  προσέγγιση σειράς Mclaurin=-0.16238\n",
      "f(-0.10)=-0.10536  προσέγγιση σειράς Mclaurin=-0.10533\n",
      "f(-0.05)=-0.05129  προσέγγιση σειράς Mclaurin=-0.05129\n",
      "f(-0.00)=0.00000  προσέγγιση σειράς Mclaurin=-0.00000\n",
      "f(0.05)=0.04879  προσέγγιση σειράς Mclaurin=0.04879\n",
      "f(0.10)=0.09531  προσέγγιση σειράς Mclaurin=0.09533\n",
      "f(0.15)=0.13976  προσέγγιση σειράς Mclaurin=0.13987\n",
      "f(0.20)=0.18232  προσέγγιση σειράς Mclaurin=0.18267\n",
      "f(0.25)=0.22314  προσέγγιση σειράς Mclaurin=0.22396\n",
      "f(0.30)=0.26236  προσέγγιση σειράς Mclaurin=0.26400\n"
     ]
    }
   ],
   "source": [
    "i=-0.3\n",
    "while i <= 0.3 :\n",
    "    print(\"f(%.2f)=%.5f  προσέγγιση σειράς Mclaurin=%.5f\" % (i, f.subs(x,i).evalf(), ms.subs(x,i).evalf()))\n",
    "    i += 0.05"
   ]
  },
  {
   "cell_type": "code",
   "execution_count": 18,
   "metadata": {
    "collapsed": false
   },
   "outputs": [
    {
     "data": {
      "image/png": "[encoded data removed]",
      "text/plain": [
       "<matplotlib.figure.Figure at 0x883fd68>"
      ]
     },
     "metadata": {},
     "output_type": "display_data"
    }
   ],
   "source": [
    "%matplotlib inline\n",
    "from sympy.plotting import plot\n",
    "import warnings\n",
    "p1 = plot(f, xlim=(-1,1), ylim=(-1,1), show=False)\n",
    "p2 = plot(ms, xlim=(-1,1), show=False, line_color='r')\n",
    "p1.extend(p2)\n",
    "p1.show()"
   ]
  },
  {
   "cell_type": "markdown",
   "metadata": {},
   "source": [
    "### B. Να προσεγγιστεί η συνάρτηση $f(x)=sin(x)$ με σειρά Taylor βαθμού 5 στη περιοχή του σημείου $a=\\frac{\\pi}{3}$ "
   ]
  },
  {
   "cell_type": "code",
   "execution_count": 19,
   "metadata": {
    "collapsed": false
   },
   "outputs": [
    {
     "name": "stdout",
     "output_type": "stream",
     "text": [
      "όρος 0 sin(x) sqrt(3)/2 sqrt(3)/2\n",
      "όρος 1 cos(x) 1/2 1/2\n",
      "όρος 2 -sin(x) -sqrt(3)/2 -sqrt(3)/4\n",
      "όρος 3 -cos(x) -1/2 -1/12\n",
      "όρος 4 sin(x) sqrt(3)/2 sqrt(3)/48\n",
      "όρος 5 cos(x) 1/2 1/240\n"
     ]
    },
    {
     "data": {
      "image/png": "[encoded data removed]",
      "text/latex": [
       "$$\\frac{x}{2} + \\frac{1}{240} \\left(x - \\frac{\\pi}{3}\\right)^{5} + \\frac{\\sqrt{3}}{48} \\left(x - \\frac{\\pi}{3}\\right)^{4} - \\frac{1}{12} \\left(x - \\frac{\\pi}{3}\\right)^{3} - \\frac{\\sqrt{3}}{4} \\left(x - \\frac{\\pi}{3}\\right)^{2} - \\frac{\\pi}{6} + \\frac{\\sqrt{3}}{2}$$"
      ],
      "text/plain": [
       "           5                4          3                2            \n",
       "    ⎛    π⎞      ___ ⎛    π⎞    ⎛    π⎞      ___ ⎛    π⎞             \n",
       "    ⎜x - ─⎟    ╲╱ 3 ⋅⎜x - ─⎟    ⎜x - ─⎟    ╲╱ 3 ⋅⎜x - ─⎟          ___\n",
       "x   ⎝    3⎠          ⎝    3⎠    ⎝    3⎠          ⎝    3⎠    π   ╲╱ 3 \n",
       "─ + ──────── + ────────────── - ──────── - ────────────── - ─ + ─────\n",
       "2     240            48            12            4          6     2  "
      ]
     },
     "execution_count": 19,
     "metadata": {},
     "output_type": "execute_result"
    }
   ],
   "source": [
    "f=sin(x)\n",
    "t5p=0\n",
    "for i in range(0,6):\n",
    "    df = diff(f,x,i)\n",
    "    print(\"όρος %d %s %s %s\" % (i,df, df.subs(x,pi/3), df.subs(x,pi/3)/factorial(i)))\n",
    "    t5p+=df.subs(x,pi/3)/factorial(i)*(x-pi/3)**i\n",
    "t5p"
   ]
  },
  {
   "cell_type": "code",
   "execution_count": 20,
   "metadata": {
    "collapsed": false
   },
   "outputs": [
    {
     "name": "stdout",
     "output_type": "stream",
     "text": [
      "0.811782175678686 πραγματική τιμή \n",
      "0.811782176871366 προσέγγιση με πολυώνυμο Mclaurin βαθμού 4 \n"
     ]
    }
   ],
   "source": [
    "r = pi/3 - 0.1\n",
    "print(sin(r).evalf(), \"πραγματική τιμή \")\n",
    "print(t5p.subs(x,r).evalf(), \"προσέγγιση με πολυώνυμο Mclaurin βαθμού 4 \")"
   ]
  },
  {
   "cell_type": "markdown",
   "metadata": {},
   "source": [
    "### Γ. Σειρές Taylor με τις συναρτήσεις του SymPy"
   ]
  },
  {
   "cell_type": "markdown",
   "metadata": {},
   "source": [
    "#### Γ1. Να προσεγγιστεί η συνάρτηση $f(x)=\\ln{(1+x)}$ με μια σειρά Mclaurin βαθμού 3"
   ]
  },
  {
   "cell_type": "code",
   "execution_count": 21,
   "metadata": {
    "collapsed": false
   },
   "outputs": [
    {
     "data": {
      "image/png": "[encoded data removed]",
      "text/latex": [
       "$$x - \\frac{x^{2}}{2} + \\mathcal{O}\\left(x^{3}\\right)$$"
      ],
      "text/plain": [
       "     2        \n",
       "    x     ⎛ 3⎞\n",
       "x - ── + O⎝x ⎠\n",
       "    2         "
      ]
     },
     "execution_count": 21,
     "metadata": {},
     "output_type": "execute_result"
    }
   ],
   "source": [
    "f = log(1+x)\n",
    "ms = series(f,x,0,3)\n",
    "ms"
   ]
  },
  {
   "cell_type": "code",
   "execution_count": 22,
   "metadata": {
    "collapsed": false
   },
   "outputs": [
    {
     "data": {
      "image/png": "[encoded data removed]",
      "text/latex": [
       "$$- \\frac{x^{2}}{2} + x$$"
      ],
      "text/plain": [
       "   2    \n",
       "  x     \n",
       "- ── + x\n",
       "  2     "
      ]
     },
     "execution_count": 22,
     "metadata": {},
     "output_type": "execute_result"
    }
   ],
   "source": [
    "ms=ms.removeO()\n",
    "ms"
   ]
  },
  {
   "cell_type": "code",
   "execution_count": 23,
   "metadata": {
    "collapsed": false
   },
   "outputs": [
    {
     "data": {
      "image/png": "[encoded data removed]",
      "text/plain": [
       "<matplotlib.figure.Figure at 0x98e0278>"
      ]
     },
     "metadata": {},
     "output_type": "display_data"
    }
   ],
   "source": [
    "p1 = plot(f, xlim=(-1,1), ylim=(-1,1), show=False)\n",
    "p2 = plot(ms, xlim=(-1,1), show=False, line_color='r')\n",
    "p1.extend(p2)\n",
    "p1.show()"
   ]
  },
  {
   "cell_type": "markdown",
   "metadata": {},
   "source": [
    "#### Γ2. Να προσεγγιστεί η συνάρτηση $f(x)=sin(x)$ με σειρά Taylor βαθμού 5 στη περιοχή του σημείου $a=\\frac{\\pi}{3}$ "
   ]
  },
  {
   "cell_type": "code",
   "execution_count": 24,
   "metadata": {
    "collapsed": false
   },
   "outputs": [
    {
     "data": {
      "image/png": "[encoded data removed]",
      "text/latex": [
       "$$\\frac{\\sqrt{3}}{2} - \\frac{\\pi}{6} - \\frac{\\sqrt{3}}{4} \\left(x - \\frac{\\pi}{3}\\right)^{2} - \\frac{1}{12} \\left(x - \\frac{\\pi}{3}\\right)^{3} + \\frac{\\sqrt{3}}{48} \\left(x - \\frac{\\pi}{3}\\right)^{4} + \\frac{x}{2} + \\mathcal{O}\\left(\\left(x - \\frac{\\pi}{3}\\right)^{5}; x\\rightarrow\\frac{\\pi}{3}\\right)$$"
      ],
      "text/plain": [
       "                         2          3                4                        \n",
       "              ___ ⎛    π⎞    ⎛    π⎞      ___ ⎛    π⎞                         \n",
       "  ___       ╲╱ 3 ⋅⎜x - ─⎟    ⎜x - ─⎟    ╲╱ 3 ⋅⎜x - ─⎟         ⎛       5       \n",
       "╲╱ 3    π         ⎝    3⎠    ⎝    3⎠          ⎝    3⎠    x    ⎜⎛    π⎞       π\n",
       "───── - ─ - ────────────── - ──────── + ────────────── + ─ + O⎜⎜x - ─⎟ ; x → ─\n",
       "  2     6         4             12            48         2    ⎝⎝    3⎠       3\n",
       "\n",
       " \n",
       " \n",
       "⎞\n",
       "⎟\n",
       "⎟\n",
       "⎠"
      ]
     },
     "execution_count": 24,
     "metadata": {},
     "output_type": "execute_result"
    }
   ],
   "source": [
    "f = sin(x)\n",
    "t5p = series(f,x,pi/3,5)\n",
    "t5p"
   ]
  },
  {
   "cell_type": "code",
   "execution_count": 25,
   "metadata": {
    "collapsed": false
   },
   "outputs": [
    {
     "data": {
      "image/png": "[encoded data removed]",
      "text/latex": [
       "$$\\frac{x}{2} + \\frac{1}{240} \\left(x - \\frac{\\pi}{3}\\right)^{5} + \\frac{\\sqrt{3}}{48} \\left(x - \\frac{\\pi}{3}\\right)^{4} - \\frac{1}{12} \\left(x - \\frac{\\pi}{3}\\right)^{3} - \\frac{\\sqrt{3}}{4} \\left(x - \\frac{\\pi}{3}\\right)^{2} - \\frac{\\pi}{6} + \\frac{\\sqrt{3}}{2}$$"
      ],
      "text/plain": [
       "           5                4          3                2            \n",
       "    ⎛    π⎞      ___ ⎛    π⎞    ⎛    π⎞      ___ ⎛    π⎞             \n",
       "    ⎜x - ─⎟    ╲╱ 3 ⋅⎜x - ─⎟    ⎜x - ─⎟    ╲╱ 3 ⋅⎜x - ─⎟          ___\n",
       "x   ⎝    3⎠          ⎝    3⎠    ⎝    3⎠          ⎝    3⎠    π   ╲╱ 3 \n",
       "─ + ──────── + ────────────── - ──────── - ────────────── - ─ + ─────\n",
       "2     240            48            12            4          6     2  "
      ]
     },
     "execution_count": 25,
     "metadata": {},
     "output_type": "execute_result"
    }
   ],
   "source": [
    "t5p = t4p.removeO()\n",
    "t5p"
   ]
  },
  {
   "cell_type": "code",
   "execution_count": 26,
   "metadata": {
    "collapsed": false
   },
   "outputs": [
    {
     "name": "stdout",
     "output_type": "stream",
     "text": [
      "0.811782175678686 πραγματική τιμή \n",
      "0.811782176871366 προσέγγιση με πολυώνυμο Mclaurin βαθμού 5 \n"
     ]
    }
   ],
   "source": [
    "r = pi/3 - 0.1\n",
    "print(sin(r).evalf(), \"πραγματική τιμή \")\n",
    "print(t4p.subs(x,r).evalf(), \"προσέγγιση με πολυώνυμο Mclaurin βαθμού 5 \")"
   ]
  }
 ],
 "metadata": {
  "kernelspec": {
   "display_name": "Python 3",
   "language": "python",
   "name": "python3"
  },
  "language_info": {
   "codemirror_mode": {
    "name": "ipython",
    "version": 3
   },
   "file_extension": ".py",
   "mimetype": "text/x-python",
   "name": "python",
   "nbconvert_exporter": "python",
   "pygments_lexer": "ipython3",
   "version": "3.4.3"
  }
 },
 "nbformat": 4,
 "nbformat_minor": 0
}
