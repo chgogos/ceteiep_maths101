{
 "cells": [
  {
   "cell_type": "markdown",
   "metadata": {},
   "source": [
    "Έστω ότι το ποσό των 2000€ έχει κατατεθεί σε έναν λογαριασμό που ανατοκίζεται 2 φορές τον χρόνο.  Αν το ποσό σε 5 έτη γίνει 2437.99€ ποια θα είναι η αξία του μετά από 10 έτη με το ίδιο επιτόκιο αλλά με 4 ανατοκισμούς ανά έτος. Δίνεται ο τύπος του ανατοκισμού\n",
    "$$ F = P\\left(1+\\frac{r}{n}\\right)^{nt}$$"
   ]
  },
  {
   "cell_type": "code",
   "execution_count": 4,
   "metadata": {
    "collapsed": false
   },
   "outputs": [
    {
     "name": "stdout",
     "output_type": "stream",
     "text": [
      "-4.04000009706447\n",
      "0.0400000970644675\n",
      "-3.6503947470517 - 1.19908197172971*I\n",
      "-3.6503947470517 + 1.19908197172971*I\n",
      "-2.63039469851946 - 1.94015538555591*I\n",
      "-2.63039469851946 + 1.94015538555591*I\n",
      "-1.36960530148054 - 1.94015538555591*I\n",
      "-1.36960530148054 + 1.94015538555591*I\n",
      "-0.349605252948304 - 1.19908197172971*I\n",
      "-0.349605252948304 + 1.19908197172971*I\n",
      "('Rate ', 0.0400000970644675)\n",
      "('Future value after ', 2977.73032887611)\n"
     ]
    }
   ],
   "source": [
    "from sympy import Symbol, solve, Eq \n",
    "r = Symbol('r')\n",
    "expr = 2000*(1+r/2)**10\n",
    "sols = solve(Eq(expr, 2437.99))\n",
    "for sol in sols:\n",
    "    print(sol) \n",
    "rate = sols[1]\n",
    "print('Rate ', rate)\n",
    "\n",
    "fv10 = 2000*(1 + rate/4)**40\n",
    "print('Future value after ', fv10)\n"
   ]
  },
  {
   "cell_type": "markdown",
   "metadata": {},
   "source": [
    "### Μετατροπή βάσης λογαρίθμου"
   ]
  },
  {
   "cell_type": "code",
   "execution_count": 7,
   "metadata": {
    "collapsed": false
   },
   "outputs": [
    {
     "name": "stdout",
     "output_type": "stream",
     "text": [
      "('logarithm of 50 with base 16 ', 1.410964047443681)\n",
      "('logarithm of 50 with base 16 ', 1.410964047443681)\n"
     ]
    }
   ],
   "source": [
    "import math\n",
    "l1 = math.log(50,16)\n",
    "l2 = math.log(50)/math.log(16)\n",
    "print('logarithm of 50 with base 16 ', l1)\n",
    "print('logarithm of 50 with base 16 ', l2)"
   ]
  },
  {
   "cell_type": "code",
   "execution_count": null,
   "metadata": {
    "collapsed": true
   },
   "outputs": [],
   "source": []
  }
 ],
 "metadata": {
  "kernelspec": {
   "display_name": "Python 2",
   "language": "python",
   "name": "python2"
  },
  "language_info": {
   "codemirror_mode": {
    "name": "ipython",
    "version": 2
   },
   "file_extension": ".py",
   "mimetype": "text/x-python",
   "name": "python",
   "nbconvert_exporter": "python",
   "pygments_lexer": "ipython2",
   "version": "2.7.10"
  }
 },
 "nbformat": 4,
 "nbformat_minor": 0
}
