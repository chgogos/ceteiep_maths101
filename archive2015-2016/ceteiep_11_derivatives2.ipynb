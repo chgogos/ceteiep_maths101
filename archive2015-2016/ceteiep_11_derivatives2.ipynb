{
 "cells": [
  {
   "cell_type": "markdown",
   "metadata": {},
   "source": [
    "## Μαθηματικά για μηχανικούς \n",
    "### ΤΕΙ Ηπείρου Τμήμα Μηχανικών Πληροφορικής ΤΕ\n",
    "### Παραγώγιση - 2\n",
    "Γκόγκος Χρήστος"
   ]
  },
  {
   "cell_type": "code",
   "execution_count": 1,
   "metadata": {
    "collapsed": false
   },
   "outputs": [],
   "source": [
    "from sympy import *\n",
    "init_printing()"
   ]
  },
  {
   "cell_type": "code",
   "execution_count": 2,
   "metadata": {
    "collapsed": false
   },
   "outputs": [],
   "source": [
    "x = Symbol('x')"
   ]
  },
  {
   "cell_type": "markdown",
   "metadata": {},
   "source": [
    "Είναι η συνάρτηση $\n",
    "f(x) = \n",
    "\\left\\{\n",
    "\\begin{array}{ll}\n",
    "      -x^2 & x < 0 \\\\\n",
    "      x^2 & x \\geq 0\\\\\n",
    "\\end{array} \n",
    "\\right.\n",
    "$ παραγωγίσιμη στο μηδέν;"
   ]
  },
  {
   "cell_type": "code",
   "execution_count": 3,
   "metadata": {
    "collapsed": false
   },
   "outputs": [
    {
     "name": "stdout",
     "output_type": "stream",
     "text": [
      "Όριο στο μηδέν από αριστερά  0\n",
      "Όριο στο μηδέν από δεξιά     0\n"
     ]
    }
   ],
   "source": [
    "f = Piecewise((-x**2,x<0),(x**2,x>=0))\n",
    "f1 = (f - f.subs(x,0)) / (x-0)\n",
    "print('Όριο στο μηδέν από αριστερά ', limit(f1,x,0, dir=\"-\"))\n",
    "print('Όριο στο μηδέν από δεξιά    ',limit(f1,x,0, dir=\"+\"))"
   ]
  },
  {
   "cell_type": "markdown",
   "metadata": {},
   "source": [
    "Είναι η συνάρτηση $\n",
    "f(x) = \n",
    "\\left\\{\n",
    "\\begin{array}{ll}\n",
    "      x^3 & x < 0 \\\\\n",
    "      5x & x \\geq 0\\\\\n",
    "\\end{array} \n",
    "\\right.\n",
    "$ παραγωγίσιμη στο μηδέν;"
   ]
  },
  {
   "cell_type": "code",
   "execution_count": 4,
   "metadata": {
    "collapsed": false
   },
   "outputs": [
    {
     "name": "stdout",
     "output_type": "stream",
     "text": [
      "Όριο στο μηδέν από αριστερά  0\n",
      "Όριο στο μηδέν από δεξιά     5\n"
     ]
    }
   ],
   "source": [
    "f = Piecewise((x**3,x<0),(5*x,x>=0))\n",
    "f1 = (f - f.subs(x,0)) / (x-0)\n",
    "print('Όριο στο μηδέν από αριστερά ', limit(f1,x,0, dir=\"-\"))\n",
    "print('Όριο στο μηδέν από δεξιά    ',limit(f1,x,0, dir=\"+\"))"
   ]
  },
  {
   "cell_type": "code",
   "execution_count": 5,
   "metadata": {
    "collapsed": true
   },
   "outputs": [],
   "source": [
    "%matplotlib inline\n",
    "from sympy.plotting  import plot\n",
    "import warnings\n",
    "warnings.filterwarnings('ignore')"
   ]
  },
  {
   "cell_type": "markdown",
   "metadata": {},
   "source": [
    "Να σχεδιαστεί η συνάρτηση $f(x)=2x-x^3+5$ και η εφαπτομένη της στο σημείο $(1,6)$ με εξίσωση $y=-x+7$ "
   ]
  },
  {
   "cell_type": "code",
   "execution_count": 6,
   "metadata": {
    "collapsed": false
   },
   "outputs": [
    {
     "data": {
      "image/png": "[encoded data removed]",
      "text/plain": [
       "<matplotlib.figure.Figure at 0x5951dd8>"
      ]
     },
     "metadata": {},
     "output_type": "display_data"
    }
   ],
   "source": [
    "p1=plot(2*x-x**3+5, xlim=(0,3), ylim=(0,10), show=False, line_color='b', label='2*x-x**3+5')\n",
    "p2=plot(-x + 7, show=False, line_color='r')\n",
    "p1.extend(p2)\n",
    "p1.show()"
   ]
  },
  {
   "cell_type": "markdown",
   "metadata": {},
   "source": [
    "Να σχεδιαστεί η συνάρτηση $f(x)=x^3-3*x+5$ και η εφαπτομένη της στο σημείο $(5,113)$ "
   ]
  },
  {
   "cell_type": "code",
   "execution_count": 7,
   "metadata": {
    "collapsed": false
   },
   "outputs": [
    {
     "name": "stdout",
     "output_type": "stream",
     "text": [
      "f(5)= 115\n"
     ]
    },
    {
     "data": {
      "image/png": "[encoded data removed]",
      "text/plain": [
       "<matplotlib.figure.Figure at 0x5951be0>"
      ]
     },
     "metadata": {},
     "output_type": "display_data"
    }
   ],
   "source": [
    "f = x**3-3*x+5\n",
    "print('f(5)=', f.subs(x,5))\n",
    "df = diff(f,x)\n",
    "t = df.subs(x,5)*(x-5) + f.subs(x,5)\n",
    "p1=plot(f, xlim=(0,6), ylim=(0,200), show=False, line_color='b')\n",
    "p2=plot(t, show=False, line_color='r')\n",
    "p1.extend(p2)\n",
    "p1.show()"
   ]
  },
  {
   "cell_type": "markdown",
   "metadata": {},
   "source": [
    "Να σχεδιαστεί η εφαπτομένη της γραφικής παράστασης της συνάρτησης $y=\\ln{x}$  η οποία διέρχεται από την αρχή των αξόνων"
   ]
  },
  {
   "cell_type": "code",
   "execution_count": 8,
   "metadata": {
    "collapsed": false
   },
   "outputs": [
    {
     "data": {
      "image/png": "[encoded data removed]",
      "text/plain": [
       "<matplotlib.figure.Figure at 0x5987ac8>"
      ]
     },
     "metadata": {},
     "output_type": "display_data"
    }
   ],
   "source": [
    "f = log(x)\n",
    "t = 1/E*x\n",
    "p1=plot(f, xlim=(0,4), ylim=(-2,2), show=False, line_color='b')\n",
    "p2=plot(t, show=False, line_color='r')\n",
    "p1.extend(p2)\n",
    "p1.show()"
   ]
  },
  {
   "cell_type": "markdown",
   "metadata": {},
   "source": [
    "Να υπολογιστεί η παράγωγος της $f(x)=e^x\\ln{x}$"
   ]
  },
  {
   "cell_type": "code",
   "execution_count": 9,
   "metadata": {
    "collapsed": false
   },
   "outputs": [
    {
     "data": {
      "image/png": "[encoded data removed]",
      "text/latex": [
       "$$\\frac{d}{d x}\\left(e^{x} \\log{\\left (x \\right )}\\right)$$"
      ],
      "text/plain": [
       "d ⎛ x       ⎞\n",
       "──⎝ℯ ⋅log(x)⎠\n",
       "dx           "
      ]
     },
     "execution_count": 9,
     "metadata": {},
     "output_type": "execute_result"
    }
   ],
   "source": [
    "f=E**x*log(x)\n",
    "Derivative(f,x)"
   ]
  },
  {
   "cell_type": "code",
   "execution_count": 10,
   "metadata": {
    "collapsed": false
   },
   "outputs": [
    {
     "data": {
      "image/png": "[encoded data removed]",
      "text/latex": [
       "$$e^{x} \\log{\\left (x \\right )} + \\frac{e^{x}}{x}$$"
      ],
      "text/plain": [
       "             x\n",
       " x          ℯ \n",
       "ℯ ⋅log(x) + ──\n",
       "            x "
      ]
     },
     "execution_count": 10,
     "metadata": {},
     "output_type": "execute_result"
    }
   ],
   "source": [
    "diff(f,x)"
   ]
  },
  {
   "cell_type": "markdown",
   "metadata": {},
   "source": [
    "Να υπολογιστεί η παράγωγος της $f(x)=\\sqrt{x}\\sin{x}\\ln{x}$"
   ]
  },
  {
   "cell_type": "code",
   "execution_count": 11,
   "metadata": {
    "collapsed": false
   },
   "outputs": [
    {
     "data": {
      "image/png": "[encoded data removed]",
      "text/latex": [
       "$$\\sqrt{x} \\log{\\left (x \\right )} \\cos{\\left (x \\right )} + \\frac{\\log{\\left (x \\right )}}{2 \\sqrt{x}} \\sin{\\left (x \\right )} + \\frac{1}{\\sqrt{x}} \\sin{\\left (x \\right )}$$"
      ],
      "text/plain": [
       "  ___                 log(x)⋅sin(x)   sin(x)\n",
       "╲╱ x ⋅log(x)⋅cos(x) + ───────────── + ──────\n",
       "                             ___        ___ \n",
       "                         2⋅╲╱ x       ╲╱ x  "
      ]
     },
     "execution_count": 11,
     "metadata": {},
     "output_type": "execute_result"
    }
   ],
   "source": [
    "f=sqrt(x)*sin(x)*log(x)\n",
    "diff(f,x)"
   ]
  },
  {
   "cell_type": "markdown",
   "metadata": {},
   "source": [
    "Να υπολογιστεί η παράγωγος της $f(x)=\\frac{x^2}{5x-1}$"
   ]
  },
  {
   "cell_type": "code",
   "execution_count": 12,
   "metadata": {
    "collapsed": false
   },
   "outputs": [
    {
     "data": {
      "image/png": "[encoded data removed]",
      "text/latex": [
       "$$- \\frac{5 x^{2}}{\\left(5 x - 1\\right)^{2}} + \\frac{2 x}{5 x - 1}$$"
      ],
      "text/plain": [
       "        2             \n",
       "     5⋅x         2⋅x  \n",
       "- ────────── + ───────\n",
       "           2   5⋅x - 1\n",
       "  (5⋅x - 1)           "
      ]
     },
     "execution_count": 12,
     "metadata": {},
     "output_type": "execute_result"
    }
   ],
   "source": [
    "f=x**2/(5*x-1)\n",
    "df = diff(f,x)\n",
    "df"
   ]
  },
  {
   "cell_type": "code",
   "execution_count": 13,
   "metadata": {
    "collapsed": false
   },
   "outputs": [
    {
     "data": {
      "image/png": "[encoded data removed]",
      "text/latex": [
       "$$\\frac{x \\left(5 x - 2\\right)}{25 x^{2} - 10 x + 1}$$"
      ],
      "text/plain": [
       "  x⋅(5⋅x - 2)   \n",
       "────────────────\n",
       "    2           \n",
       "25⋅x  - 10⋅x + 1"
      ]
     },
     "execution_count": 13,
     "metadata": {},
     "output_type": "execute_result"
    }
   ],
   "source": [
    "simplify(df)"
   ]
  },
  {
   "cell_type": "markdown",
   "metadata": {},
   "source": [
    "Να υπολογιστεί η παράγωγος της $f(x)=(3x^4+4x^3)^{-2}$"
   ]
  },
  {
   "cell_type": "code",
   "execution_count": 14,
   "metadata": {
    "collapsed": false
   },
   "outputs": [
    {
     "data": {
      "image/png": "[encoded data removed]",
      "text/latex": [
       "$$\\frac{- 24 x^{3} - 24 x^{2}}{\\left(3 x^{4} + 4 x^{3}\\right)^{3}}$$"
      ],
      "text/plain": [
       "      3       2\n",
       "- 24⋅x  - 24⋅x \n",
       "───────────────\n",
       "              3\n",
       " ⎛   4      3⎞ \n",
       " ⎝3⋅x  + 4⋅x ⎠ "
      ]
     },
     "execution_count": 14,
     "metadata": {},
     "output_type": "execute_result"
    }
   ],
   "source": [
    "f=(3*x**4+4*x**3)**(-2)\n",
    "diff(f)"
   ]
  },
  {
   "cell_type": "code",
   "execution_count": 15,
   "metadata": {
    "collapsed": false
   },
   "outputs": [
    {
     "data": {
      "image/png": "[encoded data removed]",
      "text/latex": [
       "$$- \\frac{24 x + 24}{x^{7} \\left(3 x + 4\\right)^{3}}$$"
      ],
      "text/plain": [
       "-(24⋅x + 24) \n",
       "─────────────\n",
       " 7          3\n",
       "x ⋅(3⋅x + 4) "
      ]
     },
     "execution_count": 15,
     "metadata": {},
     "output_type": "execute_result"
    }
   ],
   "source": [
    "simplify(diff(f))"
   ]
  },
  {
   "cell_type": "markdown",
   "metadata": {},
   "source": [
    "Να υπολογιστεί η παράγωγος της $f(x)=(x-1)^{\\frac{2}{3}}$"
   ]
  },
  {
   "cell_type": "code",
   "execution_count": 16,
   "metadata": {
    "collapsed": false
   },
   "outputs": [
    {
     "data": {
      "image/png": "[encoded data removed]",
      "text/latex": [
       "$$\\frac{0.666666666666667}{\\left(x - 1\\right)^{0.333333333333333}}$$"
      ],
      "text/plain": [
       "                         -0.333333333333333\n",
       "0.666666666666667⋅(x - 1)                  "
      ]
     },
     "execution_count": 16,
     "metadata": {},
     "output_type": "execute_result"
    }
   ],
   "source": [
    "f = (x-1)**(2/3)\n",
    "df = diff(f)\n",
    "df"
   ]
  },
  {
   "cell_type": "code",
   "execution_count": 17,
   "metadata": {
    "collapsed": false
   },
   "outputs": [
    {
     "data": {
      "image/png": "[encoded data removed]",
      "text/latex": [
       "$$\\frac{2}{3 \\sqrt[3]{x - 1}}$$"
      ],
      "text/plain": [
       "     2     \n",
       "───────────\n",
       "  3 _______\n",
       "3⋅╲╱ x - 1 "
      ]
     },
     "execution_count": 17,
     "metadata": {},
     "output_type": "execute_result"
    }
   ],
   "source": [
    "nsimplify(df)"
   ]
  }
 ],
 "metadata": {
  "kernelspec": {
   "display_name": "Python 3",
   "language": "python",
   "name": "python3"
  },
  "language_info": {
   "codemirror_mode": {
    "name": "ipython",
    "version": 3
   },
   "file_extension": ".py",
   "mimetype": "text/x-python",
   "name": "python",
   "nbconvert_exporter": "python",
   "pygments_lexer": "ipython3",
   "version": "3.4.3"
  }
 },
 "nbformat": 4,
 "nbformat_minor": 0
}
