{
 "cells": [
  {
   "cell_type": "markdown",
   "metadata": {},
   "source": [
    "## Μαθηματικά για μηχανικούς \n",
    "### ΤΕΙ Ηπείρου Τμήμα Μηχανικών Πληροφορικής ΤΕ\n",
    "### Γραμμική Άλγεβρα - Αντίστροφος πίνακα - ορίζουσες - μέθοδος Cramer\n",
    "Γκόγκος Χρήστος"
   ]
  },
  {
   "cell_type": "code",
   "execution_count": 1,
   "metadata": {
    "collapsed": false
   },
   "outputs": [],
   "source": [
    "from sympy import *\n",
    "from IPython.display import display\n",
    "from IPython.display import Latex \n",
    "init_printing()"
   ]
  },
  {
   "cell_type": "code",
   "execution_count": 3,
   "metadata": {
    "collapsed": false
   },
   "outputs": [
    {
     "data": {
      "image/png": "[encoded data removed]",
      "text/latex": [
       "$$\\left[\\begin{matrix}2 & -1\\\\3 & 4\\end{matrix}\\right]$$"
      ],
      "text/plain": [
       "⎡2  -1⎤\n",
       "⎢     ⎥\n",
       "⎣3  4 ⎦"
      ]
     },
     "metadata": {},
     "output_type": "display_data"
    },
    {
     "data": {
      "image/png": "[encoded data removed]",
      "text/latex": [
       "$$\\left[\\begin{matrix}\\frac{4}{11} & \\frac{1}{11}\\\\- \\frac{3}{11} & \\frac{2}{11}\\end{matrix}\\right]$$"
      ],
      "text/plain": [
       "⎡4/11   1/11⎤\n",
       "⎢           ⎥\n",
       "⎣-3/11  2/11⎦"
      ]
     },
     "execution_count": 3,
     "metadata": {},
     "output_type": "execute_result"
    }
   ],
   "source": [
    "# εύρεση αντίστροφου του πίνακα Α (2x2)\n",
    "A=Matrix([[2,-1],[3,4]])\n",
    "display(A)\n",
    "A.inv()"
   ]
  },
  {
   "cell_type": "code",
   "execution_count": 40,
   "metadata": {
    "collapsed": false
   },
   "outputs": [
    {
     "data": {
      "image/png": "[encoded data removed]",
      "text/latex": [
       "$$\\left[\\begin{matrix}11 & 3\\\\22 & -1\\end{matrix}\\right]$$"
      ],
      "text/plain": [
       "⎡11  3 ⎤\n",
       "⎢      ⎥\n",
       "⎣22  -1⎦"
      ]
     },
     "metadata": {},
     "output_type": "display_data"
    },
    {
     "data": {
      "image/png": "[encoded data removed]",
      "text/latex": [
       "$$\\left[\\begin{matrix}6 & 1\\\\1 & -1\\end{matrix}\\right]$$"
      ],
      "text/plain": [
       "⎡6  1 ⎤\n",
       "⎢     ⎥\n",
       "⎣1  -1⎦"
      ]
     },
     "execution_count": 40,
     "metadata": {},
     "output_type": "execute_result"
    }
   ],
   "source": [
    "# επίλυση της εξίσωσης ΑΧ=Β \n",
    "B=Matrix([[11,3],[22,-1]])\n",
    "display(B)\n",
    "X=A.inv()*B\n",
    "X"
   ]
  },
  {
   "cell_type": "code",
   "execution_count": 66,
   "metadata": {
    "collapsed": false
   },
   "outputs": [
    {
     "data": {
      "image/png": "[encoded data removed]",
      "text/latex": [
       "$$\\left[\\begin{matrix}3 & 13 & 11\\\\0 & 2 & -2\\\\1 & 0 & 4\\end{matrix}\\right]$$"
      ],
      "text/plain": [
       "⎡3  13  11⎤\n",
       "⎢         ⎥\n",
       "⎢0  2   -2⎥\n",
       "⎢         ⎥\n",
       "⎣1  0   4 ⎦"
      ]
     },
     "metadata": {},
     "output_type": "display_data"
    },
    {
     "data": {
      "image/png": "[encoded data removed]",
      "text/latex": [
       "$$-24$$"
      ],
      "text/plain": [
       "-24"
      ]
     },
     "metadata": {},
     "output_type": "display_data"
    }
   ],
   "source": [
    "# Υπολογισμός ορίζουσας πίνακα 3x3\n",
    "A=Matrix([[3,13,11],[0,2,-2],[1,0,4]])\n",
    "display(A)\n",
    "display(A.det())"
   ]
  },
  {
   "cell_type": "code",
   "execution_count": 64,
   "metadata": {
    "collapsed": false
   },
   "outputs": [
    {
     "data": {
      "image/png": "[encoded data removed]",
      "text/latex": [
       "$$\\left[\\begin{matrix}3 & 13 & 11 & 8 & 21\\\\0 & 2 & -2 & 45 & 67\\\\0 & 0 & 4 & 6 & 90\\\\0 & 0 & 0 & 2 & 9\\\\0 & 0 & 0 & 0 & 1\\end{matrix}\\right]$$"
      ],
      "text/plain": [
       "⎡3  13  11  8   21⎤\n",
       "⎢                 ⎥\n",
       "⎢0  2   -2  45  67⎥\n",
       "⎢                 ⎥\n",
       "⎢0  0   4   6   90⎥\n",
       "⎢                 ⎥\n",
       "⎢0  0   0   2   9 ⎥\n",
       "⎢                 ⎥\n",
       "⎣0  0   0   0   1 ⎦"
      ]
     },
     "metadata": {},
     "output_type": "display_data"
    },
    {
     "data": {
      "image/png": "[encoded data removed]",
      "text/latex": [
       "$$48$$"
      ],
      "text/plain": [
       "48"
      ]
     },
     "metadata": {},
     "output_type": "display_data"
    },
    {
     "data": {
      "image/png": "[encoded data removed]",
      "text/latex": [
       "$$\\left[\\begin{matrix}1 & 2 & 3 & 4 & 5\\\\2 & 2 & -2 & 45 & 67\\\\0 & 2 & 4 & 6 & 90\\\\5 & 6 & 6 & 0 & 1\\\\2 & 4 & 6 & 8 & 10\\end{matrix}\\right]$$"
      ],
      "text/plain": [
       "⎡1  2  3   4   5 ⎤\n",
       "⎢                ⎥\n",
       "⎢2  2  -2  45  67⎥\n",
       "⎢                ⎥\n",
       "⎢0  2  4   6   90⎥\n",
       "⎢                ⎥\n",
       "⎢5  6  6   0   1 ⎥\n",
       "⎢                ⎥\n",
       "⎣2  4  6   8   10⎦"
      ]
     },
     "metadata": {},
     "output_type": "display_data"
    },
    {
     "data": {
      "image/png": "[encoded data removed]",
      "text/latex": [
       "$$0$$"
      ],
      "text/plain": [
       "0"
      ]
     },
     "metadata": {},
     "output_type": "display_data"
    },
    {
     "data": {
      "image/png": "[encoded data removed]",
      "text/latex": [
       "$$\\left[\\begin{matrix}0 & 12 & 3 & 4 & 5\\\\0 & 2 & -2 & 5 & 7\\\\0 & 2 & 4 & 6 & 0\\\\0 & 6 & 16 & 0 & 1\\\\0 & 4 & 16 & 8 & 1\\end{matrix}\\right]$$"
      ],
      "text/plain": [
       "⎡0  12  3   4  5⎤\n",
       "⎢               ⎥\n",
       "⎢0  2   -2  5  7⎥\n",
       "⎢               ⎥\n",
       "⎢0  2   4   6  0⎥\n",
       "⎢               ⎥\n",
       "⎢0  6   16  0  1⎥\n",
       "⎢               ⎥\n",
       "⎣0  4   16  8  1⎦"
      ]
     },
     "metadata": {},
     "output_type": "display_data"
    },
    {
     "data": {
      "image/png": "[encoded data removed]",
      "text/latex": [
       "$$0$$"
      ],
      "text/plain": [
       "0"
      ]
     },
     "metadata": {},
     "output_type": "display_data"
    }
   ],
   "source": [
    "# Υπολογισμοί οριζουσών ειδικών περιπτώσεων πινάκων\n",
    "# άνω τριγωνικός (γινόμενο στοιχείων διαγωνίου)\n",
    "A=Matrix([[3,13,11,8,21],[0,2,-2,45,67],[0,0,4,6,90],[0,0,0,2,9],[0,0,0,0,1]])\n",
    "display(A)\n",
    "display(A.det())\n",
    "# ανάλογες στήλες ή γραμμές (1η και 5η γραμμή)\n",
    "B=Matrix([[1,2,3,4,5],[2,2,-2,45,67],[0,2,4,6,90],[5,6,6,0,1],[2,4,6,8,10]])\n",
    "display(B)\n",
    "display(B.det())\n",
    "# μηδενική στήλη ή γραμμή (1η στήλη)\n",
    "C=Matrix([[0,12,3,4,5],[0,2,-2,5,7],[0,2,4,6,0],[0,6,16,0,1],[0,4,16,8,1]])\n",
    "display(C)\n",
    "display(C.det())"
   ]
  },
  {
   "cell_type": "code",
   "execution_count": 70,
   "metadata": {
    "collapsed": false
   },
   "outputs": [
    {
     "data": {
      "image/png": "[encoded data removed]",
      "text/latex": [
       "$$22$$"
      ],
      "text/plain": [
       "22"
      ]
     },
     "metadata": {},
     "output_type": "display_data"
    },
    {
     "data": {
      "image/png": "[encoded data removed]",
      "text/latex": [
       "$$\\left[\\begin{matrix}\\frac{12}{11} & - \\frac{6}{11} & - \\frac{1}{11}\\\\\\frac{5}{22} & \\frac{3}{22} & - \\frac{5}{22}\\\\- \\frac{2}{11} & \\frac{1}{11} & \\frac{2}{11}\\end{matrix}\\right]$$"
      ],
      "text/plain": [
       "⎡ 12                ⎤\n",
       "⎢ ──    -6/11  -1/11⎥\n",
       "⎢ 11                ⎥\n",
       "⎢                   ⎥\n",
       "⎢5/22   3/22   -5/22⎥\n",
       "⎢                   ⎥\n",
       "⎣-2/11  1/11   2/11 ⎦"
      ]
     },
     "metadata": {},
     "output_type": "display_data"
    }
   ],
   "source": [
    "# αντιστροφή πίνακα \n",
    "A = Matrix([[1,2,3],[0,4,5],[1,0,6]])\n",
    "display(A.det())\n",
    "display(A.inv())"
   ]
  },
  {
   "cell_type": "code",
   "execution_count": 5,
   "metadata": {
    "collapsed": false
   },
   "outputs": [
    {
     "data": {
      "image/png": "[encoded data removed]",
      "text/latex": [
       "$$1$$"
      ],
      "text/plain": [
       "1"
      ]
     },
     "metadata": {},
     "output_type": "display_data"
    },
    {
     "data": {
      "image/png": "[encoded data removed]",
      "text/latex": [
       "$$\\left[\\begin{matrix}7 & -3 & -3\\\\-1 & 1 & 0\\\\-1 & 0 & 1\\end{matrix}\\right]$$"
      ],
      "text/plain": [
       "⎡7   -3  -3⎤\n",
       "⎢          ⎥\n",
       "⎢-1  1   0 ⎥\n",
       "⎢          ⎥\n",
       "⎣-1  0   1 ⎦"
      ]
     },
     "metadata": {},
     "output_type": "display_data"
    }
   ],
   "source": [
    "# αντιστροφή πίνακα \n",
    "A = Matrix([[1,3,3],[1,4,3],[1,3,4]])\n",
    "display(A.det())\n",
    "display(A.inv())"
   ]
  },
  {
   "cell_type": "code",
   "execution_count": 6,
   "metadata": {
    "collapsed": false
   },
   "outputs": [
    {
     "data": {
      "image/png": "[encoded data removed]",
      "text/latex": [
       "$$\\left[\\begin{matrix}\\frac{6}{37} & - \\frac{17}{37} & - \\frac{4}{37}\\\\\\frac{14}{37} & - \\frac{52}{37} & \\frac{3}{37}\\\\- \\frac{3}{37} & \\frac{27}{37} & \\frac{2}{37}\\end{matrix}\\right]$$"
      ],
      "text/plain": [
       "⎡       -17        ⎤\n",
       "⎢6/37   ────  -4/37⎥\n",
       "⎢        37        ⎥\n",
       "⎢                  ⎥\n",
       "⎢ 14    -52        ⎥\n",
       "⎢ ──    ────  3/37 ⎥\n",
       "⎢ 37     37        ⎥\n",
       "⎢                  ⎥\n",
       "⎢        27        ⎥\n",
       "⎢-3/37   ──   2/37 ⎥\n",
       "⎣        37        ⎦"
      ]
     },
     "execution_count": 6,
     "metadata": {},
     "output_type": "execute_result"
    }
   ],
   "source": [
    "A=Matrix([[5,2,7],[1,0,2],[-6,3,2]])\n",
    "A.inv()"
   ]
  },
  {
   "cell_type": "code",
   "execution_count": 10,
   "metadata": {
    "collapsed": false
   },
   "outputs": [
    {
     "data": {
      "image/png": "[encoded data removed]",
      "text/latex": [
       "$$\\left[\\begin{matrix}1 & 2 & 3\\\\0 & 1 & 4\\\\5 & 6 & 0\\end{matrix}\\right]$$"
      ],
      "text/plain": [
       "⎡1  2  3⎤\n",
       "⎢       ⎥\n",
       "⎢0  1  4⎥\n",
       "⎢       ⎥\n",
       "⎣5  6  0⎦"
      ]
     },
     "metadata": {},
     "output_type": "display_data"
    },
    {
     "data": {
      "image/png": "[encoded data removed]",
      "text/latex": [
       "$$1$$"
      ],
      "text/plain": [
       "1"
      ]
     },
     "metadata": {},
     "output_type": "display_data"
    },
    {
     "data": {
      "image/png": "[encoded data removed]",
      "text/latex": [
       "$$\\left[\\begin{matrix}-24 & 18 & 5\\\\20 & -15 & -4\\\\-5 & 4 & 1\\end{matrix}\\right]$$"
      ],
      "text/plain": [
       "⎡-24  18   5 ⎤\n",
       "⎢            ⎥\n",
       "⎢20   -15  -4⎥\n",
       "⎢            ⎥\n",
       "⎣-5    4   1 ⎦"
      ]
     },
     "execution_count": 10,
     "metadata": {},
     "output_type": "execute_result"
    }
   ],
   "source": [
    "A=Matrix([[1,2,3],[0,1,4],[5,6,0]])\n",
    "display(A)\n",
    "display(A.det())\n",
    "A.inv()"
   ]
  },
  {
   "cell_type": "markdown",
   "metadata": {},
   "source": [
    "## Επίλυση συστήματος 3x3 με τη χρήση αντίστροφου πίνακα\n",
    "$$x+2y+3z=1$$\n",
    "$$y+4z=2$$\n",
    "$$5x+6y=6$$\n"
   ]
  },
  {
   "cell_type": "code",
   "execution_count": 23,
   "metadata": {
    "collapsed": false
   },
   "outputs": [
    {
     "data": {
      "text/latex": [
       "$A=\\left[\\begin{matrix}1 & 2 & 3\\\\0 & 1 & 4\\\\5 & 6 & 0\\end{matrix}\\right]$"
      ],
      "text/plain": [
       "<IPython.core.display.Latex object>"
      ]
     },
     "metadata": {},
     "output_type": "display_data"
    },
    {
     "data": {
      "text/latex": [
       "$A^{-1}=\\left[\\begin{matrix}-24 & 18 & 5\\\\20 & -15 & -4\\\\-5 & 4 & 1\\end{matrix}\\right]$"
      ],
      "text/plain": [
       "<IPython.core.display.Latex object>"
      ]
     },
     "metadata": {},
     "output_type": "display_data"
    },
    {
     "data": {
      "text/latex": [
       "$B=\\left[\\begin{matrix}1\\\\2\\\\6\\end{matrix}\\right]$"
      ],
      "text/plain": [
       "<IPython.core.display.Latex object>"
      ]
     },
     "metadata": {},
     "output_type": "display_data"
    },
    {
     "data": {
      "text/latex": [
       "$X=\\left[\\begin{matrix}42\\\\-34\\\\9\\end{matrix}\\right]$"
      ],
      "text/plain": [
       "<IPython.core.display.Latex object>"
      ]
     },
     "metadata": {},
     "output_type": "display_data"
    },
    {
     "data": {
      "image/png": "[encoded data removed]",
      "text/latex": [
       "$$\\left[\\begin{matrix}42\\\\-34\\\\9\\end{matrix}\\right]$$"
      ],
      "text/plain": [
       "⎡42 ⎤\n",
       "⎢   ⎥\n",
       "⎢-34⎥\n",
       "⎢   ⎥\n",
       "⎣ 9 ⎦"
      ]
     },
     "metadata": {},
     "output_type": "display_data"
    },
    {
     "data": {
      "image/png": "[encoded data removed]",
      "text/latex": [
       "$$\\left[\\begin{matrix}1\\\\2\\\\6\\end{matrix}\\right]$$"
      ],
      "text/plain": [
       "⎡1⎤\n",
       "⎢ ⎥\n",
       "⎢2⎥\n",
       "⎢ ⎥\n",
       "⎣6⎦"
      ]
     },
     "metadata": {},
     "output_type": "display_data"
    },
    {
     "data": {
      "text/plain": [
       "True"
      ]
     },
     "execution_count": 23,
     "metadata": {},
     "output_type": "execute_result"
    }
   ],
   "source": [
    "A=Matrix([[1,2,3],[0,1,4],[5,6,0]])\n",
    "B=Matrix([1,2,6])\n",
    "display(Latex('$A=%s$' % latex(A)))\n",
    "display(Latex('$A^{-1}=%s$' % latex(A.inv())))\n",
    "display(Latex('$B=%s$' % latex(B)))\n",
    "display(Latex('$X=%s$' % latex(X)))\n",
    "X=A.inv()*B\n",
    "display(X)\n",
    "display(A*X)\n",
    "A*X==B"
   ]
  },
  {
   "cell_type": "markdown",
   "metadata": {},
   "source": [
    "## Επίλυση συστήματος εξισώσεων 3x3 με τη μέθοδο του Cramer\n",
    "\n",
    "$$2x+5y+z=2$$\n",
    "$$x+3y+2z=3$$\n",
    "$$3x-2y+z=8$$\n"
   ]
  },
  {
   "cell_type": "code",
   "execution_count": 4,
   "metadata": {
    "collapsed": false
   },
   "outputs": [
    {
     "data": {
      "text/latex": [
       "$A=\\left[\\begin{matrix}2 & 5 & 1\\\\1 & 3 & 2\\\\3 & -2 & 1\\end{matrix}\\right]$ με ορίζουσα 28.0"
      ],
      "text/plain": [
       "<IPython.core.display.Latex object>"
      ]
     },
     "metadata": {},
     "output_type": "display_data"
    },
    {
     "data": {
      "text/latex": [
       "$B=\\left[\\begin{matrix}2\\\\3\\\\8\\end{matrix}\\right]$"
      ],
      "text/plain": [
       "<IPython.core.display.Latex object>"
      ]
     },
     "metadata": {},
     "output_type": "display_data"
    },
    {
     "data": {
      "text/latex": [
       "$D_x=\\left[\\begin{matrix}2 & 5 & 1\\\\3 & 3 & 2\\\\8 & -2 & 1\\end{matrix}\\right]$ με ορίζουσα 49.0"
      ],
      "text/plain": [
       "<IPython.core.display.Latex object>"
      ]
     },
     "metadata": {},
     "output_type": "display_data"
    },
    {
     "data": {
      "text/latex": [
       "$D_y=\\left[\\begin{matrix}2 & 2 & 1\\\\1 & 3 & 2\\\\3 & 8 & 1\\end{matrix}\\right]$ με ορίζουσα -17.0"
      ],
      "text/plain": [
       "<IPython.core.display.Latex object>"
      ]
     },
     "metadata": {},
     "output_type": "display_data"
    },
    {
     "data": {
      "text/latex": [
       "$D_z=\\left[\\begin{matrix}2 & 5 & 2\\\\1 & 3 & 3\\\\3 & -2 & 8\\end{matrix}\\right]$ με ορίζουσα 43.0"
      ],
      "text/plain": [
       "<IPython.core.display.Latex object>"
      ]
     },
     "metadata": {},
     "output_type": "display_data"
    },
    {
     "data": {
      "text/latex": [
       "Λύση $x=7/4, y=-17/28, z=43/28$"
      ],
      "text/plain": [
       "<IPython.core.display.Latex object>"
      ]
     },
     "metadata": {},
     "output_type": "display_data"
    }
   ],
   "source": [
    "\n",
    "A= Matrix([[2,5,1],[1,3,2],[3,-2,1]])\n",
    "B=Matrix([2,3,8])\n",
    "Dx=A[:,:] # αντιγραφή του πίνακα Α στο Dx\n",
    "Dx.col_op(0,lambda v,i:B[i])\n",
    "Dy=A[:,:]\n",
    "Dy.col_op(1,lambda v,i:B[i])\n",
    "Dz=A[:,:]\n",
    "Dz.col_op(2,lambda v,i:B[i])\n",
    "x = Dx.det()/A.det()\n",
    "y = Dy.det()/A.det()\n",
    "z = Dz.det()/A.det()\n",
    "display(Latex('$A=%s$ με ορίζουσα %.1f' % (latex(A), A.det())))\n",
    "display(Latex('$B=%s$' % latex(B))) \n",
    "display(Latex('$D_x=%s$ με ορίζουσα %.1f' % (latex(Dx), Dx.det())))\n",
    "display(Latex('$D_y=%s$ με ορίζουσα %.1f' % (latex(Dy), Dy.det())))\n",
    "display(Latex('$D_z=%s$ με ορίζουσα %.1f' % (latex(Dz), Dz.det())))\n",
    "display(Latex('Λύση $x=%s, y=%s, z=%s$' % (x,y,z)))"
   ]
  }
 ],
 "metadata": {
  "kernelspec": {
   "display_name": "Python 3",
   "language": "python",
   "name": "python3"
  },
  "language_info": {
   "codemirror_mode": {
    "name": "ipython",
    "version": 3
   },
   "file_extension": ".py",
   "mimetype": "text/x-python",
   "name": "python",
   "nbconvert_exporter": "python",
   "pygments_lexer": "ipython3",
   "version": "3.4.3"
  }
 },
 "nbformat": 4,
 "nbformat_minor": 0
}
