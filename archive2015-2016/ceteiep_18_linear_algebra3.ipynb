{
 "cells": [
  {
   "cell_type": "markdown",
   "metadata": {},
   "source": [
    "## Μαθηματικά για μηχανικούς \n",
    "### ΤΕΙ Ηπείρου Τμήμα Μηχανικών Πληροφορικής ΤΕ\n",
    "### Γραμμική Άλγεβρα - Αντίστροφος πίνακα - ορίζουσες\n",
    "Γκόγκος Χρήστος"
   ]
  },
  {
   "cell_type": "code",
   "execution_count": 12,
   "metadata": {
    "collapsed": false
   },
   "outputs": [],
   "source": [
    "from sympy import *\n",
    "init_printing()"
   ]
  },
  {
   "cell_type": "markdown",
   "metadata": {},
   "source": [
    "## Επίλυση συστήματος 3x3 με τη χρήση της συνάρτησης solve_linear_system\n",
    "$$x+2y+3z=1$$\n",
    "$$y+4z=2$$\n",
    "$$5x+6y=6$$\n"
   ]
  },
  {
   "cell_type": "code",
   "execution_count": 13,
   "metadata": {
    "collapsed": false
   },
   "outputs": [
    {
     "data": {
      "image/png": "[encoded data removed]",
      "text/latex": [
       "$$\\left \\{ x : 42, \\quad y : -34, \\quad z : 9\\right \\}$$"
      ],
      "text/plain": [
       "{x: 42, y: -34, z: 9}"
      ]
     },
     "execution_count": 13,
     "metadata": {},
     "output_type": "execute_result"
    }
   ],
   "source": [
    "x, y, z = symbols('x, y, z')\n",
    "A = Matrix([[1, 2, 3, 1], [0, 1, 4, 2], [5,6,0,6]])\n",
    "solve_linear_system(A, x, y, z)"
   ]
  },
  {
   "cell_type": "markdown",
   "metadata": {},
   "source": [
    "## Επίλυση συστήματος 2x3 (2 εξισώσεων με 3 αγνώστους) με τη χρήση της συνάρτησης solve_linear_system\n",
    "$$x+2y+3z=1$$\n",
    "$$y+4z=2$$"
   ]
  },
  {
   "cell_type": "code",
   "execution_count": 14,
   "metadata": {
    "collapsed": false
   },
   "outputs": [
    {
     "data": {
      "image/png": "[encoded data removed]",
      "text/latex": [
       "$$\\left \\{ x : 5 z - 3, \\quad y : - 4 z + 2\\right \\}$$"
      ],
      "text/plain": [
       "{x: 5⋅z - 3, y: -4⋅z + 2}"
      ]
     },
     "execution_count": 14,
     "metadata": {},
     "output_type": "execute_result"
    }
   ],
   "source": [
    "x, y, z = symbols('x, y, z')\n",
    "A = Matrix([[1, 2, 3, 1], [0, 1, 4, 2]])\n",
    "solve_linear_system(A, x, y, z)"
   ]
  }
 ],
 "metadata": {
  "kernelspec": {
   "display_name": "Python 3",
   "language": "python",
   "name": "python3"
  },
  "language_info": {
   "codemirror_mode": {
    "name": "ipython",
    "version": 3
   },
   "file_extension": ".py",
   "mimetype": "text/x-python",
   "name": "python",
   "nbconvert_exporter": "python",
   "pygments_lexer": "ipython3",
   "version": "3.4.3"
  }
 },
 "nbformat": 4,
 "nbformat_minor": 0
}
