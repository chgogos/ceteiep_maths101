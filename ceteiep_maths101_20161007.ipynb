{
 "cells": [
  {
   "cell_type": "markdown",
   "metadata": {},
   "source": [
    "## ΤΕΙ Ηπείρου - Τμήμα Μηχανικών Πληροφορικής ΤΕ \n",
    "### Παραδείγματα από το μάθημα (7/10/2016) Μαθηματικά για μηχανικούς  "
   ]
  },
  {
   "cell_type": "markdown",
   "metadata": {},
   "source": [
    "Ορισμός πινάκων στο SymPy και έλεγχος ισότητας πινάκων"
   ]
  },
  {
   "cell_type": "code",
   "execution_count": 1,
   "metadata": {
    "collapsed": false
   },
   "outputs": [
    {
     "data": {
      "image/png": "[encoded data removed]",
      "text/latex": [
       "$$\\left[\\begin{matrix}3 & 1\\\\5 & 2\\\\0 & 9\\end{matrix}\\right]$$"
      ],
      "text/plain": [
       "⎡3  1⎤\n",
       "⎢    ⎥\n",
       "⎢5  2⎥\n",
       "⎢    ⎥\n",
       "⎣0  9⎦"
      ]
     },
     "metadata": {},
     "output_type": "display_data"
    },
    {
     "data": {
      "image/png": "[encoded data removed]",
      "text/latex": [
       "$$\\left[\\begin{matrix}3 & 2\\\\5 & 2\\\\0 & 9\\end{matrix}\\right]$$"
      ],
      "text/plain": [
       "⎡3  2⎤\n",
       "⎢    ⎥\n",
       "⎢5  2⎥\n",
       "⎢    ⎥\n",
       "⎣0  9⎦"
      ]
     },
     "metadata": {},
     "output_type": "display_data"
    },
    {
     "data": {
      "text/plain": [
       "False"
      ]
     },
     "execution_count": 1,
     "metadata": {},
     "output_type": "execute_result"
    }
   ],
   "source": [
    "from sympy import *\n",
    "init_printing()\n",
    "from IPython.display import display\n",
    "A=Matrix([[3,1], [5,2], [0,9]])\n",
    "B=Matrix([[3,2], [5,2], [0,9]])\n",
    "display(A)\n",
    "display(B)\n",
    "A==B"
   ]
  },
  {
   "cell_type": "markdown",
   "metadata": {},
   "source": [
    "Μοναδιαίος πίνακας"
   ]
  },
  {
   "cell_type": "code",
   "execution_count": 2,
   "metadata": {
    "collapsed": false
   },
   "outputs": [
    {
     "data": {
      "image/png": "[encoded data removed]",
      "text/latex": [
       "$$\\left[\\begin{matrix}1 & 0 & 0 & 0 & 0\\\\0 & 1 & 0 & 0 & 0\\\\0 & 0 & 1 & 0 & 0\\\\0 & 0 & 0 & 1 & 0\\\\0 & 0 & 0 & 0 & 1\\end{matrix}\\right]$$"
      ],
      "text/plain": [
       "⎡1  0  0  0  0⎤\n",
       "⎢             ⎥\n",
       "⎢0  1  0  0  0⎥\n",
       "⎢             ⎥\n",
       "⎢0  0  1  0  0⎥\n",
       "⎢             ⎥\n",
       "⎢0  0  0  1  0⎥\n",
       "⎢             ⎥\n",
       "⎣0  0  0  0  1⎦"
      ]
     },
     "execution_count": 2,
     "metadata": {},
     "output_type": "execute_result"
    }
   ],
   "source": [
    "eye(5)"
   ]
  },
  {
   "cell_type": "markdown",
   "metadata": {},
   "source": [
    "Μηδενικός πίνακας"
   ]
  },
  {
   "cell_type": "code",
   "execution_count": 3,
   "metadata": {
    "collapsed": false
   },
   "outputs": [
    {
     "data": {
      "image/png": "[encoded data removed]",
      "text/latex": [
       "$$\\left[\\begin{matrix}0 & 0 & 0 & 0 & 0\\\\0 & 0 & 0 & 0 & 0\\\\0 & 0 & 0 & 0 & 0\\\\0 & 0 & 0 & 0 & 0\\\\0 & 0 & 0 & 0 & 0\\end{matrix}\\right]$$"
      ],
      "text/plain": [
       "⎡0  0  0  0  0⎤\n",
       "⎢             ⎥\n",
       "⎢0  0  0  0  0⎥\n",
       "⎢             ⎥\n",
       "⎢0  0  0  0  0⎥\n",
       "⎢             ⎥\n",
       "⎢0  0  0  0  0⎥\n",
       "⎢             ⎥\n",
       "⎣0  0  0  0  0⎦"
      ]
     },
     "execution_count": 3,
     "metadata": {},
     "output_type": "execute_result"
    }
   ],
   "source": [
    "zeros(5)"
   ]
  },
  {
   "cell_type": "markdown",
   "metadata": {},
   "source": [
    "Ανάστροφος πίνακα $A^T$"
   ]
  },
  {
   "cell_type": "code",
   "execution_count": 4,
   "metadata": {
    "collapsed": false
   },
   "outputs": [
    {
     "data": {
      "image/png": "[encoded data removed]",
      "text/latex": [
       "$$\\left[\\begin{matrix}1 & 2 & 3 & 4\\\\5 & 6 & 7 & 8\\\\9 & 10 & 11 & 12\\end{matrix}\\right]$$"
      ],
      "text/plain": [
       "⎡1  2   3   4 ⎤\n",
       "⎢             ⎥\n",
       "⎢5  6   7   8 ⎥\n",
       "⎢             ⎥\n",
       "⎣9  10  11  12⎦"
      ]
     },
     "metadata": {},
     "output_type": "display_data"
    },
    {
     "data": {
      "image/png": "[encoded data removed]",
      "text/latex": [
       "$$\\left[\\begin{matrix}1 & 5 & 9\\\\2 & 6 & 10\\\\3 & 7 & 11\\\\4 & 8 & 12\\end{matrix}\\right]$$"
      ],
      "text/plain": [
       "⎡1  5  9 ⎤\n",
       "⎢        ⎥\n",
       "⎢2  6  10⎥\n",
       "⎢        ⎥\n",
       "⎢3  7  11⎥\n",
       "⎢        ⎥\n",
       "⎣4  8  12⎦"
      ]
     },
     "metadata": {},
     "output_type": "display_data"
    }
   ],
   "source": [
    "A=Matrix([[1,2,3,4],[5,6,7,8],[9,10,11,12]])\n",
    "display(A)\n",
    "display(A.transpose())"
   ]
  },
  {
   "cell_type": "markdown",
   "metadata": {},
   "source": [
    "Πρόσθεση και αφαίρεση πινάκων"
   ]
  },
  {
   "cell_type": "code",
   "execution_count": 5,
   "metadata": {
    "collapsed": false
   },
   "outputs": [
    {
     "data": {
      "image/png": "[encoded data removed]",
      "text/latex": [
       "$$\\left[\\begin{matrix}13 & 8 & -6\\\\16 & 12 & 0\\end{matrix}\\right]$$"
      ],
      "text/plain": [
       "⎡13  8   -6⎤\n",
       "⎢          ⎥\n",
       "⎣16  12  0 ⎦"
      ]
     },
     "execution_count": 5,
     "metadata": {},
     "output_type": "execute_result"
    }
   ],
   "source": [
    "A=Matrix([[12, 3, -4],[3, 6, 1]])\n",
    "B=Matrix([[1,5,-2],[13,6,-1]])\n",
    "A+B"
   ]
  },
  {
   "cell_type": "markdown",
   "metadata": {},
   "source": [
    "Πολλαπλασιασμός βαθμωτής τιμής με πίνακα"
   ]
  },
  {
   "cell_type": "code",
   "execution_count": 6,
   "metadata": {
    "collapsed": false
   },
   "outputs": [
    {
     "data": {
      "image/png": "[encoded data removed]",
      "text/latex": [
       "$$\\left[\\begin{matrix}10 & 20 & 30\\\\40 & 50 & 60\\\\70 & 80 & 90\\end{matrix}\\right]$$"
      ],
      "text/plain": [
       "⎡10  20  30⎤\n",
       "⎢          ⎥\n",
       "⎢40  50  60⎥\n",
       "⎢          ⎥\n",
       "⎣70  80  90⎦"
      ]
     },
     "execution_count": 6,
     "metadata": {},
     "output_type": "execute_result"
    }
   ],
   "source": [
    "A= Matrix([[1,2,3],[4,5,6],[7,8,9]])\n",
    "10*A"
   ]
  },
  {
   "cell_type": "markdown",
   "metadata": {},
   "source": [
    "Πολλαπλασιασμός πινάκων"
   ]
  },
  {
   "cell_type": "code",
   "execution_count": 7,
   "metadata": {
    "collapsed": false
   },
   "outputs": [
    {
     "data": {
      "image/png": "[encoded data removed]",
      "text/latex": [
       "$$\\left[\\begin{matrix}10 & 38 & 39\\\\13 & 31 & 33\\\\19 & 77 & 67\\\\29 & 163 & 112\\end{matrix}\\right]$$"
      ],
      "text/plain": [
       "⎡10  38   39 ⎤\n",
       "⎢            ⎥\n",
       "⎢13  31   33 ⎥\n",
       "⎢            ⎥\n",
       "⎢19  77   67 ⎥\n",
       "⎢            ⎥\n",
       "⎣29  163  112⎦"
      ]
     },
     "execution_count": 7,
     "metadata": {},
     "output_type": "execute_result"
    }
   ],
   "source": [
    "A= Matrix([[2,3,0],[1,3,4],[3,7,2],[5,16,2]])\n",
    "B= Matrix([[5,7,18],[0,8,1],[2,0,3]])\n",
    "C= A*B\n",
    "C"
   ]
  },
  {
   "cell_type": "markdown",
   "metadata": {},
   "source": [
    "Ύψωση τετραγωνικού πίνακα σε δύναμη"
   ]
  },
  {
   "cell_type": "code",
   "execution_count": 8,
   "metadata": {
    "collapsed": false
   },
   "outputs": [
    {
     "data": {
      "image/png": "[encoded data removed]",
      "text/latex": [
       "$$\\left[\\begin{matrix}175 & 111 & 105\\\\165 & 103 & 60\\\\690 & 321 & 625\\end{matrix}\\right]$$"
      ],
      "text/plain": [
       "⎡175  111  105⎤\n",
       "⎢             ⎥\n",
       "⎢165  103  60 ⎥\n",
       "⎢             ⎥\n",
       "⎣690  321  625⎦"
      ]
     },
     "execution_count": 8,
     "metadata": {},
     "output_type": "execute_result"
    }
   ],
   "source": [
    "A=Matrix([[2,3,1],[5,2,0],[6,1,8]])\n",
    "A**3"
   ]
  },
  {
   "cell_type": "markdown",
   "metadata": {},
   "source": [
    "### Λυμένες ασκήσεις\n",
    "Α) Μια βιομηχανία έχει 4 εργοστάσια παραγωγής Π1, Π2, Π3, Π4 και καθένα από τα οποία παράγει δύο προϊόντα Ε1 και Ε2. Το ημερήσιο επίπεδο παραγωγής σε μονάδες προϊόντων δίνεται στον πίνακα:\n",
    "\n",
    "|   | Π1|Π2 |Π3 |Π4 |\n",
    "|:-:|:-:|:-:|:-:|:-:|\n",
    "|Ε1 |200|180|140| 60|\n",
    "|Ε2 | 80| 40|120|120|\n",
    "\n",
    "1. Να βρεθεί το ημερήσιο επίπεδο παραγωγής αν αυτή αυξηθεί κατά 10%\n",
    "2. Να βρείτε το σύνολο παραγωγής ανά προϊόν σε 5 μήνες, αν υποτεθεί ότι τα εργοστάσια δούλεψαν 2 μήνες με το προηγούμενο επίπεδο και 3 μήνες με το νέο επίπεδο παραγωγής (1 μήνας =30 ημέρες)\n"
   ]
  },
  {
   "cell_type": "code",
   "execution_count": 9,
   "metadata": {
    "collapsed": false
   },
   "outputs": [
    {
     "data": {
      "image/png": "[encoded data removed]",
      "text/latex": [
       "$$\\left[\\begin{matrix}200 & 180 & 140 & 60\\\\80 & 40 & 120 & 120\\end{matrix}\\right]$$"
      ],
      "text/plain": [
       "⎡200  180  140  60 ⎤\n",
       "⎢                  ⎥\n",
       "⎣80   40   120  120⎦"
      ]
     },
     "metadata": {},
     "output_type": "display_data"
    },
    {
     "data": {
      "image/png": "[encoded data removed]",
      "text/latex": [
       "$$\\left[\\begin{matrix}220.0 & 198.0 & 154.0 & 66.0\\\\88.0 & 44.0 & 132.0 & 132.0\\end{matrix}\\right]$$"
      ],
      "text/plain": [
       "⎡220.0  198.0  154.0  66.0 ⎤\n",
       "⎢                          ⎥\n",
       "⎣88.0   44.0   132.0  132.0⎦"
      ]
     },
     "metadata": {},
     "output_type": "display_data"
    },
    {
     "data": {
      "image/png": "[encoded data removed]",
      "text/latex": [
       "$$\\left[\\begin{matrix}31800.0 & 28620.0 & 22260.0 & 9540.0\\\\12720.0 & 6360.0 & 19080.0 & 19080.0\\end{matrix}\\right]$$"
      ],
      "text/plain": [
       "⎡31800.0  28620.0  22260.0  9540.0 ⎤\n",
       "⎢                                  ⎥\n",
       "⎣12720.0  6360.0   19080.0  19080.0⎦"
      ]
     },
     "execution_count": 9,
     "metadata": {},
     "output_type": "execute_result"
    }
   ],
   "source": [
    "A = Matrix([[200,180,140,60],[80,40,120,120]])\n",
    "B = A * 1.1\n",
    "display(A, B)\n",
    "2*30*A + 3*30*B"
   ]
  },
  {
   "cell_type": "markdown",
   "metadata": {},
   "source": [
    "Β) Μια βιομηχανία επίπλων κουζίνας έχει δύο εργοστάσια Ε1 και Ε2. Οι πίνακες Α και Β δίνουν τις ώρες εργασίας που απαιτούνται για την κατασκευή κάθε επίπλου και τις ωριαίες αμοιβές του προσωπικού σε ευρώ αντιστοίχως.\n",
    "\n",
    "Πίνακας Α\n",
    "\n",
    "|        | Κατασκευή | Βάψιμο | Συσκευασία |\n",
    "|:------:|:---------:|:------:|:----------:|\n",
    "|Πάγκος  |    0.6    |   0.6  |    0.2     |\n",
    "|Καρέκλα |    1.0    |   0.9  |    0.3     |\n",
    "|Τραπέζι |    1.5    |   1.2  |    0.4     |\n",
    "\n",
    "Πίνακας Β\n",
    "\n",
    "|           | Ε1  | Ε2  | \n",
    "|:---------:|:---:|:---:|\n",
    "|Κατασκευή  |  5  |  6  |\n",
    "|Βάψιμο     |  6  |  7  |\n",
    "|Συσκευασία |  4  |  5  |\n",
    "\n",
    "1. Να βρείτε τον πίνακα ΑΒ και να εξηγήσετε τι εκφράζει.\n",
    "2. Ποιο είναι το κόστος για την παραγωγή μιας καρέκλας στο εργοστάσιο Ε1 και ενός πάγκου στο εργοστάσιο Ε2;\n",
    "\n",
    "\n"
   ]
  },
  {
   "cell_type": "code",
   "execution_count": 10,
   "metadata": {
    "collapsed": false
   },
   "outputs": [
    {
     "data": {
      "image/png": "[encoded data removed]",
      "text/latex": [
       "$$\\left[\\begin{matrix}7.4 & 8.8\\\\11.6 & 13.8\\\\16.3 & 19.4\\end{matrix}\\right]$$"
      ],
      "text/plain": [
       "⎡7.4   8.8 ⎤\n",
       "⎢          ⎥\n",
       "⎢11.6  13.8⎥\n",
       "⎢          ⎥\n",
       "⎣16.3  19.4⎦"
      ]
     },
     "metadata": {},
     "output_type": "display_data"
    },
    {
     "name": "stdout",
     "output_type": "stream",
     "text": [
      "Κόστος παραγωγής μιας καρέκλας στο εργοστάσιο Ε1=11.60\n",
      "Κόστος παραγωγής ενός πάγκου στο εργοστάσιο Ε2=8.80\n"
     ]
    }
   ],
   "source": [
    "A = Matrix([[0.6,0.6,0.2],[1.0,0.9,0.3],[1.5,1.2,0.4]])\n",
    "B = Matrix([[5,6],[6,7],[4,5]])\n",
    "C = A*B\n",
    "display(C)\n",
    "print('Κόστος παραγωγής μιας καρέκλας στο εργοστάσιο Ε1=%.2f' % C[1,0])\n",
    "print('Κόστος παραγωγής ενός πάγκου στο εργοστάσιο Ε2=%.2f' % C[0,1])"
   ]
  }
 ],
 "metadata": {
  "anaconda-cloud": {},
  "kernelspec": {
   "display_name": "Python [default]",
   "language": "python",
   "name": "python3"
  },
  "language_info": {
   "codemirror_mode": {
    "name": "ipython",
    "version": 3
   },
   "file_extension": ".py",
   "mimetype": "text/x-python",
   "name": "python",
   "nbconvert_exporter": "python",
   "pygments_lexer": "ipython3",
   "version": "3.5.2"
  }
 },
 "nbformat": 4,
 "nbformat_minor": 1
}
