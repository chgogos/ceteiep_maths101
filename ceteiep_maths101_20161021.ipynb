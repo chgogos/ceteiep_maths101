{
 "cells": [
  {
   "cell_type": "markdown",
   "metadata": {},
   "source": [
    "## ΤΕΙ Ηπείρου - Τμήμα Μηχανικών Πληροφορικής ΤΕ \n",
    "### Παραδείγματα από το μάθημα Μαθηματικά για μηχανικούς  "
   ]
  },
  {
   "cell_type": "markdown",
   "metadata": {},
   "source": [
    "---\n",
    "\n",
    "### Επίλυση συστημάτων γραμμικών εξισώσεων με τις βιβλιοθήκες της python\n",
    "\n",
    "#### Επίλυση συστήματος εξισώσεων 3x3 (3 εξισώσεις με 3 αγνώστους) με τη βιβλιοθήκη <http://www.numpy.org/>\n",
    "$$x+2y+3z=1$$\n",
    "$$y+4z=2$$\n",
    "$$5x+6y=6$$"
   ]
  },
  {
   "cell_type": "code",
   "execution_count": 1,
   "metadata": {
    "collapsed": false
   },
   "outputs": [
    {
     "name": "stdout",
     "output_type": "stream",
     "text": [
      "42.0 -34.0 9.0\n"
     ]
    }
   ],
   "source": [
    "import numpy as np\n",
    "a = np.array([[1,2,3], [0,1,4], [5,6,0]])\n",
    "b = np.array([1,2,6])\n",
    "x = np.linalg.solve(a,b)\n",
    "print(x[0], x[1], x[2])"
   ]
  },
  {
   "cell_type": "markdown",
   "metadata": {},
   "source": [
    "#### Επίλυση συστήματος εξισώσεων 3x4 (3 εξισώσεις με 4 αγνώστους)  με τη συνάρτηση solve_linear_system του sympy\n",
    "\n",
    "$$x+2y+3z=1$$\n",
    "$$y+4z=2$$\n",
    "$$5x+6y=w$$"
   ]
  },
  {
   "cell_type": "code",
   "execution_count": 3,
   "metadata": {
    "collapsed": false
   },
   "outputs": [
    {
     "name": "stdout",
     "output_type": "stream",
     "text": [
      "x=5*w + 12 \n",
      "y=-4*w - 10 \n",
      "z=w + 3\n"
     ]
    }
   ],
   "source": [
    "from sympy import *\n",
    "init_printing()\n",
    "x, y, z, w = symbols('x, y, z, w')\n",
    "A = Matrix([[1, 2, 3, 1], [0, 1, 4, 2], [5,6,0,w]])\n",
    "results = solve_linear_system(A, x, y, z, w)\n",
    "print('x={0} \\ny={1} \\nz={2}'.format(results[x],results[y],results[z]))"
   ]
  },
  {
   "cell_type": "markdown",
   "metadata": {},
   "source": [
    "#### Επίλυση συστήματος εξισώσεων 3x4 (3 εξισώσεις με 4 αγνώστους)  με τη συνάρτηση solve του sympy και ορισμό εξισώσεων με  Eq\n",
    "\n",
    "$$x+2y+3z=1$$\n",
    "$$y+4z=2$$\n",
    "$$5x+6y=w$$"
   ]
  },
  {
   "cell_type": "code",
   "execution_count": 3,
   "metadata": {
    "collapsed": false
   },
   "outputs": [
    {
     "data": {
      "image/png": "[encoded data removed]",
      "text/latex": [
       "$$\\left \\{ x : 5 w + 12, \\quad y : - 4 w - 10, \\quad z : w + 3\\right \\}$$"
      ],
      "text/plain": [
       "{x: 5⋅w + 12, y: -4⋅w - 10, z: w + 3}"
      ]
     },
     "execution_count": 3,
     "metadata": {},
     "output_type": "execute_result"
    }
   ],
   "source": [
    "x, y, z, w = symbols('x, y, z, w')\n",
    "solve([Eq(x + 2*y +3*z, 1), Eq(y + 4*z, 2), Eq(5*x+6*y, w) ], [x, y, z, w])"
   ]
  }
 ],
 "metadata": {
  "anaconda-cloud": {},
  "kernelspec": {
   "display_name": "Python [default]",
   "language": "python",
   "name": "python3"
  },
  "language_info": {
   "codemirror_mode": {
    "name": "ipython",
    "version": 3
   },
   "file_extension": ".py",
   "mimetype": "text/x-python",
   "name": "python",
   "nbconvert_exporter": "python",
   "pygments_lexer": "ipython3",
   "version": "3.5.2"
  }
 },
 "nbformat": 4,
 "nbformat_minor": 1
}
