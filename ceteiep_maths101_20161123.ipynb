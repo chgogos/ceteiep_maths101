{
 "cells": [
  {
   "cell_type": "markdown",
   "metadata": {},
   "source": [
    "## Μαθηματικά για μηχανικούς \n",
    "### ΤΕΙ Ηπείρου Τμήμα Μηχανικών Πληροφορικής ΤΕ\n",
    "\n",
    "####  Εκθέτες και λογάριθμοι"
   ]
  },
  {
   "cell_type": "code",
   "execution_count": 1,
   "metadata": {
    "collapsed": true
   },
   "outputs": [],
   "source": [
    "%matplotlib inline\n",
    "from sympy import *\n",
    "from sympy.plotting import plot\n",
    "from IPython.display import display\n",
    "from IPython.display import Latex\n",
    "init_printing()"
   ]
  },
  {
   "cell_type": "markdown",
   "metadata": {},
   "source": [
    "#### Δυνάμεις"
   ]
  },
  {
   "cell_type": "code",
   "execution_count": 2,
   "metadata": {
    "collapsed": false
   },
   "outputs": [
    {
     "data": {
      "text/latex": [
       "$a^{m + n}=a^{m} a^{n}$"
      ],
      "text/plain": [
       "<IPython.core.display.Latex object>"
      ]
     },
     "metadata": {},
     "output_type": "display_data"
    }
   ],
   "source": [
    "a,m,n = symbols('a, m, n')\n",
    "display(Latex(\"$%s=%s$\" % (latex(a**(m+n)), latex(expand(a**(m+n))))))"
   ]
  },
  {
   "cell_type": "code",
   "execution_count": 3,
   "metadata": {
    "collapsed": false
   },
   "outputs": [
    {
     "data": {
      "image/png": "[encoded data removed]",
      "text/latex": [
       "$$e$$"
      ],
      "text/plain": [
       "ℯ"
      ]
     },
     "metadata": {},
     "output_type": "display_data"
    },
    {
     "data": {
      "image/png": "[encoded data removed]",
      "text/latex": [
       "$$2.71828182845905$$"
      ],
      "text/plain": [
       "2.71828182845905"
      ]
     },
     "metadata": {},
     "output_type": "display_data"
    },
    {
     "data": {
      "image/png": "[encoded data removed]",
      "text/latex": [
       "$$2.718281828459045235360287471352662497757$$"
      ],
      "text/plain": [
       "2.718281828459045235360287471352662497757"
      ]
     },
     "metadata": {},
     "output_type": "display_data"
    }
   ],
   "source": [
    "# ο αριθμός e\n",
    "display(E)\n",
    "display(E.evalf())\n",
    "display(E.evalf(40)) # με 40 δεκαδικά ψηφία"
   ]
  },
  {
   "cell_type": "code",
   "execution_count": 4,
   "metadata": {
    "collapsed": false
   },
   "outputs": [
    {
     "name": "stdout",
     "output_type": "stream",
     "text": [
      "2.7169239322355936\n",
      "2.717047274569425\n",
      "2.717150075536425\n",
      "2.717237072114112\n",
      "2.717311648739671\n",
      "2.717376287887861\n",
      "2.71743285176946\n",
      "2.7174827646613324\n",
      "2.7175271345005876\n",
      "2.717566836081477\n"
     ]
    }
   ],
   "source": [
    "# υπολογισμός του e=2.718...\n",
    "for i in range(1000,2000,100):\n",
    "    print((1+1/i)**i)"
   ]
  },
  {
   "cell_type": "code",
   "execution_count": 5,
   "metadata": {
    "collapsed": false
   },
   "outputs": [
    {
     "data": {
      "image/png": "[encoded data removed]",
      "text/latex": [
       "$$e$$"
      ],
      "text/plain": [
       "ℯ"
      ]
     },
     "execution_count": 5,
     "metadata": {},
     "output_type": "execute_result"
    }
   ],
   "source": [
    "# υπολογισμός του e συμβολικά\n",
    "a_n = (1+1/n)**n\n",
    "limit(a_n, n, oo)"
   ]
  },
  {
   "cell_type": "markdown",
   "metadata": {},
   "source": [
    "Υπολογισμός του $5^{3.45}$"
   ]
  },
  {
   "cell_type": "code",
   "execution_count": 6,
   "metadata": {
    "collapsed": false
   },
   "outputs": [
    {
     "data": {
      "image/png": "[encoded data removed]",
      "text/latex": [
       "$$257.89713346009944$$"
      ],
      "text/plain": [
       "257.89713346009944"
      ]
     },
     "metadata": {},
     "output_type": "display_data"
    },
    {
     "name": "stdout",
     "output_type": "stream",
     "text": [
      "257.897\n"
     ]
    },
    {
     "data": {
      "image/png": "[encoded data removed]",
      "text/latex": [
       "$$257.897133460099$$"
      ],
      "text/plain": [
       "257.897133460099"
      ]
     },
     "execution_count": 6,
     "metadata": {},
     "output_type": "execute_result"
    }
   ],
   "source": [
    "# direct from python\n",
    "v1 = 5**3.45\n",
    "display(v1)\n",
    "\n",
    "# Mpmath is a Python library for arbitrary-precision floating-point arithmetic.\n",
    "# http://mpmath.org/\n",
    "# nsimplify(345/100) --> 69/20\n",
    "from mpmath import nthroot, nprint\n",
    "v2 = nthroot(5**345,100)\n",
    "# v2 = nthroot(5**69,20) # με απλοποίηση του κλάσματος\n",
    "nprint(v2)\n",
    "\n",
    "#\n",
    "E**(3.45 * log(5))"
   ]
  },
  {
   "cell_type": "markdown",
   "metadata": {},
   "source": [
    "Έστω ότι το ποσό των 2000€ έχει κατατεθεί σε έναν λογαριασμό που ανατοκίζεται 2 φορές τον χρόνο.  Αν το ποσό σε 5 έτη γίνει 2437.99€ ποια θα είναι η αξία του μετά από 10 έτη με το ίδιο επιτόκιο αλλά με 4 ανατοκισμούς ανά έτος. Δίνεται ο τύπος του ανατοκισμού\n",
    "$$ F = P\\left(1+\\frac{r}{n}\\right)^{nt}$$"
   ]
  },
  {
   "cell_type": "code",
   "execution_count": 7,
   "metadata": {
    "collapsed": false
   },
   "outputs": [
    {
     "name": "stdout",
     "output_type": "stream",
     "text": [
      "-4.04000009706447 invalid\n",
      "0.0400000970644675\n",
      "Rate  0.0400000970644675\n",
      "Μελλοντική αξία μετά από %d έτη με %d ανατοκισμούς ανά έτος: 2977.73032887611\n"
     ]
    }
   ],
   "source": [
    "r = Symbol('r', real=True) # η εντολή καθορίζει ότι το σύμβολο r ανήκει στο σύνολο των πραγματικών αριθμών\n",
    "compounds=2\n",
    "years=5\n",
    "expr = 2000*(1+r/compounds)**(compounds*years)\n",
    "sols = solve(Eq(expr, 2437.99))\n",
    "for sol in sols:\n",
    "    if (sol<0):\n",
    "        print('%s invalid' % sol)\n",
    "    else:\n",
    "        print(sol) \n",
    "rate = sols[1]\n",
    "print('Rate ', rate)\n",
    "\n",
    "compounds=4\n",
    "years=10\n",
    "fv10 = 2000*(1 + rate/compounds)**(compounds*years)\n",
    "print('Μελλοντική αξία μετά από %d έτη με %d ανατοκισμούς ανά έτος:', fv10)"
   ]
  },
  {
   "cell_type": "markdown",
   "metadata": {},
   "source": [
    "#### Ρίζες"
   ]
  },
  {
   "cell_type": "code",
   "execution_count": 8,
   "metadata": {
    "collapsed": false
   },
   "outputs": [
    {
     "data": {
      "image/png": "[encoded data removed]",
      "text/latex": [
       "$$\\left ( \\sqrt{2}, \\quad 1.4142135623730951, \\quad 1.4142135623730951\\right )$$"
      ],
      "text/plain": [
       "(√2, 1.4142135623730951, 1.4142135623730951)"
      ]
     },
     "execution_count": 8,
     "metadata": {},
     "output_type": "execute_result"
    }
   ],
   "source": [
    "import math\n",
    "# η ρίζα του 2, συμβολικά, με τη συνάρτηση sqrt της math και με τη χρήση του τελεστή **\n",
    "sqrt(2), math.sqrt(2), 2**(1/2)"
   ]
  },
  {
   "cell_type": "code",
   "execution_count": 9,
   "metadata": {
    "collapsed": false
   },
   "outputs": [
    {
     "data": {
      "text/plain": [
       "(1.5848931924611136, mpf('1.5848931924611134'))"
      ]
     },
     "execution_count": 9,
     "metadata": {},
     "output_type": "execute_result"
    }
   ],
   "source": [
    "# η 10η ρίζα του 100 με τη χρήση του τελεστή ** και με τη συνάρτηση nthroot του mpmath\n",
    "100**(1/10), mpmath.nthroot(100,10)"
   ]
  },
  {
   "cell_type": "markdown",
   "metadata": {},
   "source": [
    "#### Λογάριθμοι"
   ]
  },
  {
   "cell_type": "code",
   "execution_count": 10,
   "metadata": {
    "collapsed": false
   },
   "outputs": [
    {
     "name": "stdout",
     "output_type": "stream",
     "text": [
      "2.0\n",
      "10.0\n",
      "1.0\n"
     ]
    }
   ],
   "source": [
    "print(math.log(100,10)) # λογάριθμος του 100 με βάση 10\n",
    "print(math.log(1024,2))# λογάριθμος του 1024 με βάση 2\n",
    "print(math.log(E)) # φυσικός λογάριθμος του e"
   ]
  },
  {
   "cell_type": "code",
   "execution_count": 11,
   "metadata": {
    "collapsed": false
   },
   "outputs": [
    {
     "name": "stdout",
     "output_type": "stream",
     "text": [
      "logarithm of 50 with base 16  1.410964047443681\n",
      "logarithm of 50 with base 16  1.410964047443681\n"
     ]
    }
   ],
   "source": [
    "l1 = math.log(50,16) # απευθείας με τη συνάρτηση log\n",
    "l2 = math.log(50)/math.log(16)\n",
    "print('logarithm of 50 with base 16 ', l1)\n",
    "print('logarithm of 50 with base 16 ', l2)"
   ]
  }
 ],
 "metadata": {
  "anaconda-cloud": {},
  "kernelspec": {
   "display_name": "Python [default]",
   "language": "python",
   "name": "python3"
  },
  "language_info": {
   "codemirror_mode": {
    "name": "ipython",
    "version": 3
   },
   "file_extension": ".py",
   "mimetype": "text/x-python",
   "name": "python",
   "nbconvert_exporter": "python",
   "pygments_lexer": "ipython3",
   "version": "3.5.2"
  }
 },
 "nbformat": 4,
 "nbformat_minor": 1
}
