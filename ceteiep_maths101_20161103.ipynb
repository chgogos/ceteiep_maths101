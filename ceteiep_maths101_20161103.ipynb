{
 "cells": [
  {
   "cell_type": "markdown",
   "metadata": {},
   "source": [
    "## ΤΕΙ Ηπείρου - Τμήμα Μηχανικών Πληροφορικής ΤΕ \n",
    "### Παραδείγματα από το μάθημα Μαθηματικά για μηχανικούς  \n",
    "##### Μιγαδικοί αριθμοί"
   ]
  },
  {
   "cell_type": "code",
   "execution_count": 1,
   "metadata": {
    "collapsed": true
   },
   "outputs": [],
   "source": [
    "from sympy import *\n",
    "from IPython.display import display\n",
    "init_printing()"
   ]
  },
  {
   "cell_type": "code",
   "execution_count": 2,
   "metadata": {
    "collapsed": false
   },
   "outputs": [
    {
     "data": {
      "image/png": "[encoded data removed]",
      "text/latex": [
       "$$\\left ( i, \\quad 5 i\\right )$$"
      ],
      "text/plain": [
       "(ⅈ, 5⋅ⅈ)"
      ]
     },
     "execution_count": 2,
     "metadata": {},
     "output_type": "execute_result"
    }
   ],
   "source": [
    "#Τετραγωνική ρίζα αρνητικών αριθμών\n",
    "sqrt(-1), sqrt(-25)"
   ]
  },
  {
   "cell_type": "code",
   "execution_count": 3,
   "metadata": {
    "collapsed": false
   },
   "outputs": [
    {
     "data": {
      "image/png": "[encoded data removed]",
      "text/latex": [
       "$$i$$"
      ],
      "text/plain": [
       "ⅈ"
      ]
     },
     "execution_count": 3,
     "metadata": {},
     "output_type": "execute_result"
    }
   ],
   "source": [
    "# Ο φανταστικός αριθμός i\n",
    "I"
   ]
  },
  {
   "cell_type": "code",
   "execution_count": 4,
   "metadata": {
    "collapsed": false
   },
   "outputs": [
    {
     "data": {
      "image/png": "[encoded data removed]",
      "text/latex": [
       "$$-1$$"
      ],
      "text/plain": [
       "-1"
      ]
     },
     "execution_count": 4,
     "metadata": {},
     "output_type": "execute_result"
    }
   ],
   "source": [
    "I*I"
   ]
  },
  {
   "cell_type": "code",
   "execution_count": 5,
   "metadata": {
    "collapsed": false
   },
   "outputs": [
    {
     "name": "stdout",
     "output_type": "stream",
     "text": [
      "(I^0->1) (I^1->I) (I^2->-1) (I^3->-I) (I^4->1) (I^5->I) (I^6->-1) (I^7->-I) (I^8->1) (I^9->I) (I^10->-1) (I^11->-I) (I^12->1) (I^13->I) (I^14->-1) (I^15->-I) (I^16->1) (I^17->I) (I^18->-1) (I^19->-I) (I^20->1) (I^21->I) (I^22->-1) (I^23->-I) (I^24->1) (I^25->I) (I^26->-1) (I^27->-I) (I^28->1) (I^29->I) (I^30->-1) (I^31->-I) (I^32->1) (I^33->I) (I^34->-1) (I^35->-I) (I^36->1) (I^37->I) (I^38->-1) (I^39->-I) (I^40->1) (I^41->I) (I^42->-1) (I^43->-I) (I^44->1) (I^45->I) (I^46->-1) (I^47->-I) (I^48->1) (I^49->I) (I^50->-1) (I^51->-I) (I^52->1) (I^53->I) (I^54->-1) (I^55->-I) (I^56->1) (I^57->I) (I^58->-1) (I^59->-I) (I^60->1) (I^61->I) (I^62->-1) (I^63->-I) (I^64->1) (I^65->I) (I^66->-1) (I^67->-I) (I^68->1) (I^69->I) (I^70->-1) (I^71->-I) (I^72->1) (I^73->I) (I^74->-1) (I^75->-I) (I^76->1) (I^77->I) (I^78->-1) (I^79->-I) (I^80->1) (I^81->I) (I^82->-1) (I^83->-I) (I^84->1) (I^85->I) (I^86->-1) (I^87->-I) (I^88->1) (I^89->I) (I^90->-1) (I^91->-I) (I^92->1) (I^93->I) (I^94->-1) (I^95->-I) (I^96->1) (I^97->I) (I^98->-1) (I^99->-I) (I^100->1) "
     ]
    }
   ],
   "source": [
    "# Ύψωση του i σε δυνάμεις\n",
    "for n in range(0,101):\n",
    "    print('(I^%s->%s) ' % (n, I**n), end=\"\");"
   ]
  },
  {
   "cell_type": "code",
   "execution_count": 6,
   "metadata": {
    "collapsed": false
   },
   "outputs": [
    {
     "data": {
      "image/png": "[encoded data removed]",
      "text/latex": [
       "$$\\left [ - i, \\quad i\\right ]$$"
      ],
      "text/plain": [
       "[-ⅈ, ⅈ]"
      ]
     },
     "execution_count": 6,
     "metadata": {},
     "output_type": "execute_result"
    }
   ],
   "source": [
    "# επίλυση της εξίσωσης x^2=-1\n",
    "x=Symbol('x')\n",
    "solve(x**2+1,x)"
   ]
  },
  {
   "cell_type": "code",
   "execution_count": 7,
   "metadata": {
    "collapsed": false
   },
   "outputs": [
    {
     "data": {
      "image/png": "[encoded data removed]",
      "text/latex": [
       "$$3 + 4 i$$"
      ],
      "text/plain": [
       "3 + 4⋅ⅈ"
      ]
     },
     "metadata": {},
     "output_type": "display_data"
    },
    {
     "name": "stdout",
     "output_type": "stream",
     "text": [
      "συντελεστής πραγματικού μέρους=3 συντελεστής φανταστικού μέρους=4\n"
     ]
    }
   ],
   "source": [
    "# μιγαδικοί αριθμοί\n",
    "c = 3 + 4*I\n",
    "display(c)\n",
    "print('συντελεστής πραγματικού μέρους=%s συντελεστής φανταστικού μέρους=%s' % (re(c), im(c)))"
   ]
  },
  {
   "cell_type": "code",
   "execution_count": 8,
   "metadata": {
    "collapsed": false
   },
   "outputs": [
    {
     "data": {
      "text/plain": [
       "False"
      ]
     },
     "execution_count": 8,
     "metadata": {},
     "output_type": "execute_result"
    }
   ],
   "source": [
    "# σύγκριση μιγαδικών αριθμών (δεν υφίσταται διάταξη μεταξύ των μιγαδικών αριθμών)\n",
    "3 + 2*I == 1 + 4*I"
   ]
  },
  {
   "cell_type": "code",
   "execution_count": 9,
   "metadata": {
    "collapsed": false
   },
   "outputs": [
    {
     "data": {
      "image/png": "[encoded data removed]",
      "text/plain": [
       "<matplotlib.figure.Figure at 0x9be69e8>"
      ]
     },
     "metadata": {},
     "output_type": "display_data"
    }
   ],
   "source": [
    "# γεωμετρική αναπαράσταση μιγαδικών αριθμών\n",
    "%matplotlib inline  \n",
    "import matplotlib.pyplot as plt \n",
    "fig = plt.figure()\n",
    "ax = fig.add_subplot(1,1,1)\n",
    "plt.xlim([-0.5,3.5]) \n",
    "plt.ylim([-0.5,2.5]) \n",
    "plt.axhline(0, color='black') \n",
    "plt.axvline(0, color='black') \n",
    "plt.xlabel('real axis')\n",
    "plt.ylabel('imaginary axis')\n",
    "plt.arrow( 0.0, 0.0, 1.0, 2.0, head_width=0.05, head_length=0.1, linewidth=3)\n",
    "ax.annotate('1+2i', xy=(1,2), xytext=(1,1.8));"
   ]
  },
  {
   "cell_type": "code",
   "execution_count": 10,
   "metadata": {
    "collapsed": false
   },
   "outputs": [
    {
     "data": {
      "image/png": "[encoded data removed]",
      "text/latex": [
       "$$2 - 3 i$$"
      ],
      "text/plain": [
       "2 - 3⋅ⅈ"
      ]
     },
     "execution_count": 10,
     "metadata": {},
     "output_type": "execute_result"
    }
   ],
   "source": [
    "# συζυγής\n",
    "conjugate(2+3*I)"
   ]
  },
  {
   "cell_type": "code",
   "execution_count": 11,
   "metadata": {
    "collapsed": false
   },
   "outputs": [
    {
     "data": {
      "image/png": "[encoded data removed]",
      "text/plain": [
       "<matplotlib.figure.Figure at 0x9c5d940>"
      ]
     },
     "metadata": {},
     "output_type": "display_data"
    }
   ],
   "source": [
    "fig = plt.figure()\n",
    "ax = fig.add_subplot(1,1,1)\n",
    "plt.xlim([-0.5,5]) \n",
    "plt.ylim([-4,4]) \n",
    "plt.axhline(0, color='black') \n",
    "plt.axvline(0, color='black') \n",
    "plt.xlabel('real axis')\n",
    "plt.ylabel('imaginary axis')\n",
    "plt.arrow( 0.0, 0.0, 2.0, 3.0, head_width=0.05, head_length=0.1, linewidth=3)\n",
    "plt.arrow( 0.0, 0.0, 2.0, -3.0, head_width=0.05, head_length=0.1, linewidth=3);"
   ]
  },
  {
   "cell_type": "code",
   "execution_count": 12,
   "metadata": {
    "collapsed": false
   },
   "outputs": [
    {
     "data": {
      "image/png": "[encoded data removed]",
      "text/latex": [
       "$$\\left(2 - 3 i\\right) \\left(2 + 3 i\\right)$$"
      ],
      "text/plain": [
       "(2 - 3⋅ⅈ)⋅(2 + 3⋅ⅈ)"
      ]
     },
     "metadata": {},
     "output_type": "display_data"
    },
    {
     "data": {
      "image/png": "[encoded data removed]",
      "text/latex": [
       "$$13$$"
      ],
      "text/plain": [
       "13"
      ]
     },
     "execution_count": 12,
     "metadata": {},
     "output_type": "execute_result"
    }
   ],
   "source": [
    "# γινόμενο μιγαδικού και του συζυγή του\n",
    "display((2+3*I)*(2-3*I))\n",
    "simplify((2+3*I)*(2-3*I))"
   ]
  },
  {
   "cell_type": "code",
   "execution_count": 13,
   "metadata": {
    "collapsed": false
   },
   "outputs": [
    {
     "data": {
      "image/png": "[encoded data removed]",
      "text/latex": [
       "$$5 - 3 i$$"
      ],
      "text/plain": [
       "5 - 3⋅ⅈ"
      ]
     },
     "execution_count": 13,
     "metadata": {},
     "output_type": "execute_result"
    }
   ],
   "source": [
    "# άθροισμα μιγαδικών\n",
    "(2+3*I) + (3-6*I)"
   ]
  },
  {
   "cell_type": "code",
   "execution_count": 14,
   "metadata": {
    "collapsed": false
   },
   "outputs": [
    {
     "data": {
      "image/png": "[encoded data removed]",
      "text/latex": [
       "$$19 + 9 i$$"
      ],
      "text/plain": [
       "19 + 9⋅ⅈ"
      ]
     },
     "execution_count": 14,
     "metadata": {},
     "output_type": "execute_result"
    }
   ],
   "source": [
    "# γινόμενο μιγαδικών \n",
    "simplify((2+3*I)*(5-3*I))"
   ]
  },
  {
   "cell_type": "code",
   "execution_count": 15,
   "metadata": {
    "collapsed": false
   },
   "outputs": [
    {
     "data": {
      "image/png": "[encoded data removed]",
      "text/latex": [
       "$$\\frac{23}{29} + \\frac{44 i}{29}$$"
      ],
      "text/plain": [
       "23   44⋅ⅈ\n",
       "── + ────\n",
       "29    29 "
      ]
     },
     "metadata": {},
     "output_type": "display_data"
    },
    {
     "data": {
      "image/png": "[encoded data removed]",
      "text/latex": [
       "$$\\frac{23}{29} + \\frac{44 i}{29}$$"
      ],
      "text/plain": [
       "23   44⋅ⅈ\n",
       "── + ────\n",
       "29    29 "
      ]
     },
     "metadata": {},
     "output_type": "display_data"
    }
   ],
   "source": [
    "# διαίρεση μιγαδικών\n",
    "display(simplify((-6+7*I)/(2+5*I)))\n",
    "# πολλαπλασιασμός αριθμητή και παρονομαστή με τον συζυγή του παρονομαστή\n",
    "a = (-6+7*I)*(2-5*I)\n",
    "b = (2+5*I)*(2-5*I)\n",
    "display(simplify(a/b))"
   ]
  },
  {
   "cell_type": "code",
   "execution_count": 16,
   "metadata": {
    "collapsed": false
   },
   "outputs": [
    {
     "data": {
      "image/png": "[encoded data removed]",
      "text/latex": [
       "$$5$$"
      ],
      "text/plain": [
       "5"
      ]
     },
     "execution_count": 16,
     "metadata": {},
     "output_type": "execute_result"
    }
   ],
   "source": [
    "# μέτρο μιγαδικού αριθμού\n",
    "c = 3-4*I\n",
    "Abs(c)"
   ]
  },
  {
   "cell_type": "code",
   "execution_count": 17,
   "metadata": {
    "collapsed": false
   },
   "outputs": [
    {
     "data": {
      "image/png": "[encoded data removed]",
      "text/latex": [
       "$$\\left [ \\frac{1}{2} - \\frac{\\sqrt{19} i}{2}, \\quad \\frac{1}{2} + \\frac{\\sqrt{19} i}{2}\\right ]$$"
      ],
      "text/plain": [
       "⎡1   √19⋅ⅈ  1   √19⋅ⅈ⎤\n",
       "⎢─ - ─────, ─ + ─────⎥\n",
       "⎣2     2    2     2  ⎦"
      ]
     },
     "execution_count": 17,
     "metadata": {},
     "output_type": "execute_result"
    }
   ],
   "source": [
    "# επ΄ίλυση δευτεροβάθμιας εξίσωσης με μιγαδικές ρίζες\n",
    "x=Symbol('x')\n",
    "eq = x**2 - x + 5\n",
    "solve(eq)"
   ]
  },
  {
   "cell_type": "code",
   "execution_count": 18,
   "metadata": {
    "collapsed": false
   },
   "outputs": [
    {
     "data": {
      "image/png": "[encoded data removed]",
      "text/latex": [
       "$$1.0$$"
      ],
      "text/plain": [
       "1.00000000000000"
      ]
     },
     "metadata": {},
     "output_type": "display_data"
    },
    {
     "data": {
      "image/png": "[encoded data removed]",
      "text/latex": [
       "$$1.0 - 1.4142135623731 i$$"
      ],
      "text/plain": [
       "1.0 - 1.4142135623731⋅ⅈ"
      ]
     },
     "metadata": {},
     "output_type": "display_data"
    },
    {
     "data": {
      "image/png": "[encoded data removed]",
      "text/latex": [
       "$$1.0 + 1.4142135623731 i$$"
      ],
      "text/plain": [
       "1.0 + 1.4142135623731⋅ⅈ"
      ]
     },
     "metadata": {},
     "output_type": "display_data"
    }
   ],
   "source": [
    "# αριθμός ριζών πολυωνυμικής εξίσωσης 3ου βαθμού με πραγματικούς συντελεστές\n",
    "x=Symbol('x')\n",
    "eq = x**3 -3*x**2 +5*x -3\n",
    "results = solve(eq)\n",
    "for i in range(3):\n",
    "    display(results[i].evalf())"
   ]
  },
  {
   "cell_type": "code",
   "execution_count": 19,
   "metadata": {
    "collapsed": false
   },
   "outputs": [
    {
     "data": {
      "image/png": "[encoded data removed]",
      "text/latex": [
       "$$0.693115193476037 - 0.642637908812748 i$$"
      ],
      "text/plain": [
       "0.693115193476037 - 0.642637908812748⋅ⅈ"
      ]
     },
     "metadata": {},
     "output_type": "display_data"
    },
    {
     "data": {
      "image/png": "[encoded data removed]",
      "text/latex": [
       "$$0.693115193476037 + 0.642637908812748 i$$"
      ],
      "text/plain": [
       "0.693115193476037 + 0.642637908812748⋅ⅈ"
      ]
     },
     "metadata": {},
     "output_type": "display_data"
    },
    {
     "data": {
      "image/png": "[encoded data removed]",
      "text/latex": [
       "$$1.64951372534202$$"
      ],
      "text/plain": [
       "1.64951372534202"
      ]
     },
     "metadata": {},
     "output_type": "display_data"
    },
    {
     "data": {
      "image/png": "[encoded data removed]",
      "text/latex": [
       "$$-2.0357441122941$$"
      ],
      "text/plain": [
       "-2.03574411229410"
      ]
     },
     "metadata": {},
     "output_type": "display_data"
    }
   ],
   "source": [
    "# αριθμός ριζών πολυωνυμικής εξίσωσης 4ου βαθμού με πραγματικούς συντελεστές\n",
    "x=Symbol('x')\n",
    "eq = x**4 -x**3 -3*x**2 +5*x -3\n",
    "results = solve(eq)\n",
    "for i in range(4):\n",
    "    display(results[i].evalf())"
   ]
  },
  {
   "cell_type": "code",
   "execution_count": 20,
   "metadata": {
    "collapsed": false
   },
   "outputs": [
    {
     "data": {
      "image/png": "[encoded data removed]",
      "text/latex": [
       "$$\\left(x - i\\right) \\left(x + i\\right)$$"
      ],
      "text/plain": [
       "(x - ⅈ)⋅(x + ⅈ)"
      ]
     },
     "execution_count": 20,
     "metadata": {},
     "output_type": "execute_result"
    }
   ],
   "source": [
    "# παραφοντοποίηση με μιγαδικούς όρους\n",
    "x=Symbol('x')\n",
    "f_x = x**2+1\n",
    "factor(f_x, extension=[I])"
   ]
  }
 ],
 "metadata": {
  "kernelspec": {
   "display_name": "Python [default]",
   "language": "python",
   "name": "python3"
  },
  "language_info": {
   "codemirror_mode": {
    "name": "ipython",
    "version": 3
   },
   "file_extension": ".py",
   "mimetype": "text/x-python",
   "name": "python",
   "nbconvert_exporter": "python",
   "pygments_lexer": "ipython3",
   "version": "3.5.2"
  }
 },
 "nbformat": 4,
 "nbformat_minor": 1
}
