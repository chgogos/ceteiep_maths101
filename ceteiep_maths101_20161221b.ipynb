{
 "cells": [
  {
   "cell_type": "markdown",
   "metadata": {},
   "source": [
    "## ΤΕΙ Ηπείρου - Τμήμα Μηχανικών Πληροφορικής ΤΕ \n",
    "### Μαθηματικά για μηχανικούς  \n",
    "### Σειρές Taylor και Mclaurin\n"
   ]
  },
  {
   "cell_type": "code",
   "execution_count": 1,
   "metadata": {
    "collapsed": true
   },
   "outputs": [],
   "source": [
    "from sympy import *\n",
    "init_printing()\n",
    "from IPython.display import display"
   ]
  },
  {
   "cell_type": "markdown",
   "metadata": {},
   "source": [
    "### Α. Να προσεγγιστεί η συνάρτηση $f(x)=\\ln{(1+x)}$ με μια σειρά Mclaurin βαθμού 3"
   ]
  },
  {
   "cell_type": "code",
   "execution_count": 2,
   "metadata": {
    "collapsed": false
   },
   "outputs": [
    {
     "data": {
      "image/png": "[encoded data removed]",
      "text/latex": [
       "$$\\log{\\left (x + 1 \\right )}$$"
      ],
      "text/plain": [
       "log(x + 1)"
      ]
     },
     "execution_count": 2,
     "metadata": {},
     "output_type": "execute_result"
    }
   ],
   "source": [
    "x = Symbol('x')\n",
    "f = log(1+x)\n",
    "f"
   ]
  },
  {
   "cell_type": "code",
   "execution_count": 3,
   "metadata": {
    "collapsed": false
   },
   "outputs": [
    {
     "data": {
      "image/png": "[encoded data removed]",
      "text/latex": [
       "$$\\frac{1}{x + 1}$$"
      ],
      "text/plain": [
       "  1  \n",
       "─────\n",
       "x + 1"
      ]
     },
     "metadata": {},
     "output_type": "display_data"
    },
    {
     "data": {
      "image/png": "[encoded data removed]",
      "text/latex": [
       "$$- \\frac{1}{\\left(x + 1\\right)^{2}}$$"
      ],
      "text/plain": [
       "  -1    \n",
       "────────\n",
       "       2\n",
       "(x + 1) "
      ]
     },
     "metadata": {},
     "output_type": "display_data"
    },
    {
     "data": {
      "image/png": "[encoded data removed]",
      "text/latex": [
       "$$- \\frac{x^{4}}{4} + \\frac{x^{3}}{3} - \\frac{x^{2}}{2} + x$$"
      ],
      "text/plain": [
       "   4    3    2    \n",
       "  x    x    x     \n",
       "- ── + ── - ── + x\n",
       "  4    3    2     "
      ]
     },
     "execution_count": 3,
     "metadata": {},
     "output_type": "execute_result"
    }
   ],
   "source": [
    "df = diff(f,x)\n",
    "display(df)\n",
    "d2f= diff(f,x,2)\n",
    "display(d2f)\n",
    "d3f= diff(f,x,3)\n",
    "d4f= diff(f,x,4)\n",
    "ms = f.subs(x,0) + df.subs(x,0)*x/factorial(1) + d2f.subs(x,0)*x**2/factorial(2) + d3f.subs(x,0)*x**3/factorial(3) \n",
    "ms = ms + d4f.subs(x,0)*x**4/factorial(4) \n",
    "ms"
   ]
  },
  {
   "cell_type": "code",
   "execution_count": 4,
   "metadata": {
    "collapsed": false
   },
   "outputs": [
    {
     "name": "stdout",
     "output_type": "stream",
     "text": [
      "f(-0.30)=-0.35667  προσέγγιση σειράς Mclaurin=-0.35602\n",
      "f(-0.25)=-0.28768  προσέγγιση σειράς Mclaurin=-0.28743\n",
      "f(-0.20)=-0.22314  προσέγγιση σειράς Mclaurin=-0.22307\n",
      "f(-0.15)=-0.16252  προσέγγιση σειράς Mclaurin=-0.16250\n",
      "f(-0.10)=-0.10536  προσέγγιση σειράς Mclaurin=-0.10536\n",
      "f(-0.05)=-0.05129  προσέγγιση σειράς Mclaurin=-0.05129\n",
      "f(-0.00)=0.00000  προσέγγιση σειράς Mclaurin=-0.00000\n",
      "f(0.05)=0.04879  προσέγγιση σειράς Mclaurin=0.04879\n",
      "f(0.10)=0.09531  προσέγγιση σειράς Mclaurin=0.09531\n",
      "f(0.15)=0.13976  προσέγγιση σειράς Mclaurin=0.13975\n",
      "f(0.20)=0.18232  προσέγγιση σειράς Mclaurin=0.18227\n",
      "f(0.25)=0.22314  προσέγγιση σειράς Mclaurin=0.22298\n",
      "f(0.30)=0.26236  προσέγγιση σειράς Mclaurin=0.26198\n"
     ]
    }
   ],
   "source": [
    "i=-0.3\n",
    "while i <= 0.3 :\n",
    "    print(\"f(%.2f)=%.5f  προσέγγιση σειράς Mclaurin=%.5f\" % (i, f.subs(x,i).evalf(), ms.subs(x,i).evalf()))\n",
    "    i += 0.05"
   ]
  },
  {
   "cell_type": "code",
   "execution_count": 5,
   "metadata": {
    "collapsed": false
   },
   "outputs": [
    {
     "data": {
      "image/png": "[encoded data removed]",
      "text/plain": [
       "<matplotlib.figure.Figure at 0x7b869b0>"
      ]
     },
     "metadata": {},
     "output_type": "display_data"
    }
   ],
   "source": [
    "%matplotlib inline\n",
    "from sympy.plotting import plot\n",
    "import warnings\n",
    "p1 = plot(f, xlim=(-1,1), ylim=(-1,1), show=False)\n",
    "p2 = plot(ms, xlim=(-1,1), show=False, line_color='r')\n",
    "p1.extend(p2)\n",
    "p1.show()"
   ]
  },
  {
   "cell_type": "markdown",
   "metadata": {},
   "source": [
    "### B. Να προσεγγιστεί η συνάρτηση $f(x)=sin(x)$ με σειρά Taylor βαθμού 5 στη περιοχή του σημείου $a=\\frac{\\pi}{3}$ "
   ]
  },
  {
   "cell_type": "code",
   "execution_count": 6,
   "metadata": {
    "collapsed": false
   },
   "outputs": [
    {
     "name": "stdout",
     "output_type": "stream",
     "text": [
      "όρος 0 sin(x) sqrt(3)/2 sqrt(3)/2\n",
      "όρος 1 cos(x) 1/2 1/2\n",
      "όρος 2 -sin(x) -sqrt(3)/2 -sqrt(3)/4\n",
      "όρος 3 -cos(x) -1/2 -1/12\n",
      "όρος 4 sin(x) sqrt(3)/2 sqrt(3)/48\n",
      "όρος 5 cos(x) 1/2 1/240\n"
     ]
    },
    {
     "data": {
      "image/png": "[encoded data removed]",
      "text/latex": [
       "$$\\frac{x}{2} + \\frac{1}{240} \\left(x - \\frac{\\pi}{3}\\right)^{5} + \\frac{\\sqrt{3}}{48} \\left(x - \\frac{\\pi}{3}\\right)^{4} - \\frac{1}{12} \\left(x - \\frac{\\pi}{3}\\right)^{3} - \\frac{\\sqrt{3}}{4} \\left(x - \\frac{\\pi}{3}\\right)^{2} - \\frac{\\pi}{6} + \\frac{\\sqrt{3}}{2}$$"
      ],
      "text/plain": [
       "           5             4          3             2         \n",
       "    ⎛    π⎞       ⎛    π⎞    ⎛    π⎞       ⎛    π⎞          \n",
       "    ⎜x - ─⎟    √3⋅⎜x - ─⎟    ⎜x - ─⎟    √3⋅⎜x - ─⎟          \n",
       "x   ⎝    3⎠       ⎝    3⎠    ⎝    3⎠       ⎝    3⎠    π   √3\n",
       "─ + ──────── + ─────────── - ──────── - ─────────── - ─ + ──\n",
       "2     240           48          12           4        6   2 "
      ]
     },
     "execution_count": 6,
     "metadata": {},
     "output_type": "execute_result"
    }
   ],
   "source": [
    "f=sin(x)\n",
    "t5p=0\n",
    "for i in range(0,6):\n",
    "    df = diff(f,x,i)\n",
    "    print(\"όρος %d %s %s %s\" % (i,df, df.subs(x,pi/3), df.subs(x,pi/3)/factorial(i)))\n",
    "    t5p+=df.subs(x,pi/3)/factorial(i)*(x-pi/3)**i\n",
    "t5p"
   ]
  },
  {
   "cell_type": "code",
   "execution_count": 7,
   "metadata": {
    "collapsed": false
   },
   "outputs": [
    {
     "name": "stdout",
     "output_type": "stream",
     "text": [
      "0.811782175678686 πραγματική τιμή \n",
      "0.811782176871366 προσέγγιση με πολυώνυμο Mclaurin βαθμού 4 \n"
     ]
    }
   ],
   "source": [
    "r = pi/3 - 0.1\n",
    "print(sin(r).evalf(), \"πραγματική τιμή \")\n",
    "print(t5p.subs(x,r).evalf(), \"προσέγγιση με πολυώνυμο Mclaurin βαθμού 4 \")"
   ]
  },
  {
   "cell_type": "markdown",
   "metadata": {},
   "source": [
    "### Γ. Σειρές Taylor με τις συναρτήσεις του SymPy"
   ]
  },
  {
   "cell_type": "markdown",
   "metadata": {},
   "source": [
    "#### Γ1. Να προσεγγιστεί η συνάρτηση $f(x)=\\ln{(1+x)}$ με μια σειρά Mclaurin βαθμού 3"
   ]
  },
  {
   "cell_type": "code",
   "execution_count": 8,
   "metadata": {
    "collapsed": false
   },
   "outputs": [
    {
     "data": {
      "image/png": "[encoded data removed]",
      "text/latex": [
       "$$x - \\frac{x^{2}}{2} + \\mathcal{O}\\left(x^{3}\\right)$$"
      ],
      "text/plain": [
       "     2        \n",
       "    x     ⎛ 3⎞\n",
       "x - ── + O⎝x ⎠\n",
       "    2         "
      ]
     },
     "execution_count": 8,
     "metadata": {},
     "output_type": "execute_result"
    }
   ],
   "source": [
    "f = log(1+x)\n",
    "ms = series(f,x,0,3)\n",
    "ms"
   ]
  },
  {
   "cell_type": "code",
   "execution_count": 9,
   "metadata": {
    "collapsed": false
   },
   "outputs": [
    {
     "data": {
      "image/png": "[encoded data removed]",
      "text/latex": [
       "$$- \\frac{x^{2}}{2} + x$$"
      ],
      "text/plain": [
       "   2    \n",
       "  x     \n",
       "- ── + x\n",
       "  2     "
      ]
     },
     "execution_count": 9,
     "metadata": {},
     "output_type": "execute_result"
    }
   ],
   "source": [
    "ms=ms.removeO()\n",
    "ms"
   ]
  },
  {
   "cell_type": "code",
   "execution_count": 10,
   "metadata": {
    "collapsed": false
   },
   "outputs": [
    {
     "data": {
      "image/png": "[encoded data removed]",
      "text/plain": [
       "<matplotlib.figure.Figure at 0x9e48a58>"
      ]
     },
     "metadata": {},
     "output_type": "display_data"
    }
   ],
   "source": [
    "p1 = plot(f, xlim=(-1,1), ylim=(-1,1), show=False)\n",
    "p2 = plot(ms, xlim=(-1,1), show=False, line_color='r')\n",
    "p1.extend(p2)\n",
    "p1.show()"
   ]
  },
  {
   "cell_type": "markdown",
   "metadata": {},
   "source": [
    "#### Γ2. Να προσεγγιστεί η συνάρτηση $f(x)=sin(x)$ με σειρά Taylor βαθμού 5 στην περιοχή του σημείου $a=\\frac{\\pi}{3}$ "
   ]
  },
  {
   "cell_type": "code",
   "execution_count": 11,
   "metadata": {
    "collapsed": false
   },
   "outputs": [
    {
     "data": {
      "image/png": "[encoded data removed]",
      "text/latex": [
       "$$\\frac{\\sqrt{3}}{2} - \\frac{\\pi}{6} - \\frac{\\sqrt{3}}{4} \\left(x - \\frac{\\pi}{3}\\right)^{2} - \\frac{1}{12} \\left(x - \\frac{\\pi}{3}\\right)^{3} + \\frac{\\sqrt{3}}{48} \\left(x - \\frac{\\pi}{3}\\right)^{4} + \\frac{x}{2} + \\mathcal{O}\\left(\\left(x - \\frac{\\pi}{3}\\right)^{5}; x\\rightarrow\\frac{\\pi}{3}\\right)$$"
      ],
      "text/plain": [
       "                   2          3             4                         \n",
       "            ⎛    π⎞    ⎛    π⎞       ⎛    π⎞                          \n",
       "         √3⋅⎜x - ─⎟    ⎜x - ─⎟    √3⋅⎜x - ─⎟         ⎛       5       ⎞\n",
       "√3   π      ⎝    3⎠    ⎝    3⎠       ⎝    3⎠    x    ⎜⎛    π⎞       π⎟\n",
       "── - ─ - ─────────── - ──────── + ─────────── + ─ + O⎜⎜x - ─⎟ ; x → ─⎟\n",
       "2    6        4           12           48       2    ⎝⎝    3⎠       3⎠"
      ]
     },
     "execution_count": 11,
     "metadata": {},
     "output_type": "execute_result"
    }
   ],
   "source": [
    "f = sin(x)\n",
    "t5p = series(f,x,pi/3,5)\n",
    "t5p"
   ]
  },
  {
   "cell_type": "code",
   "execution_count": 13,
   "metadata": {
    "collapsed": false
   },
   "outputs": [
    {
     "data": {
      "image/png": "[encoded data removed]",
      "text/latex": [
       "$$\\frac{x}{2} + \\frac{\\sqrt{3}}{48} \\left(x - \\frac{\\pi}{3}\\right)^{4} - \\frac{1}{12} \\left(x - \\frac{\\pi}{3}\\right)^{3} - \\frac{\\sqrt{3}}{4} \\left(x - \\frac{\\pi}{3}\\right)^{2} - \\frac{\\pi}{6} + \\frac{\\sqrt{3}}{2}$$"
      ],
      "text/plain": [
       "              4          3             2         \n",
       "       ⎛    π⎞    ⎛    π⎞       ⎛    π⎞          \n",
       "    √3⋅⎜x - ─⎟    ⎜x - ─⎟    √3⋅⎜x - ─⎟          \n",
       "x      ⎝    3⎠    ⎝    3⎠       ⎝    3⎠    π   √3\n",
       "─ + ─────────── - ──────── - ─────────── - ─ + ──\n",
       "2        48          12           4        6   2 "
      ]
     },
     "execution_count": 13,
     "metadata": {},
     "output_type": "execute_result"
    }
   ],
   "source": [
    "t5p = t5p.removeO()\n",
    "t5p"
   ]
  },
  {
   "cell_type": "code",
   "execution_count": 15,
   "metadata": {
    "collapsed": false
   },
   "outputs": [
    {
     "name": "stdout",
     "output_type": "stream",
     "text": [
      "0.811782175678686 πραγματική τιμή \n",
      "0.811782218538032 προσέγγιση με πολυώνυμο Mclaurin βαθμού 5 \n"
     ]
    }
   ],
   "source": [
    "r = pi/3 - 0.1\n",
    "print(sin(r).evalf(), \"πραγματική τιμή \")\n",
    "print(t5p.subs(x,r).evalf(), \"προσέγγιση με πολυώνυμο Mclaurin βαθμού 5 \")"
   ]
  }
 ],
 "metadata": {
  "anaconda-cloud": {},
  "kernelspec": {
   "display_name": "Python [default]",
   "language": "python",
   "name": "python3"
  },
  "language_info": {
   "codemirror_mode": {
    "name": "ipython",
    "version": 3
   },
   "file_extension": ".py",
   "mimetype": "text/x-python",
   "name": "python",
   "nbconvert_exporter": "python",
   "pygments_lexer": "ipython3",
   "version": "3.5.2"
  }
 },
 "nbformat": 4,
 "nbformat_minor": 0
}
