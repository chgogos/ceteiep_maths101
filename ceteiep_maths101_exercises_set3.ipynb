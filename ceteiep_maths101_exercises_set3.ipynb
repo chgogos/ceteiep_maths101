{
 "cells": [
  {
   "cell_type": "markdown",
   "metadata": {},
   "source": [
    "## ΤΕΙ Ηπείρου - Τμήμα Μηχανικών Πληροφορικής ΤΕ \n",
    "### Μαθηματικά για μηχανικούς  \n",
    "\n",
    "    Προαιρετικές ασκήσεις (Python + sympy) - Γ' ΣΕΤ\n",
    "\n",
    "Ανεβάστε το notebook με τις απαντήσεις των ασκήσεων στο github σε λογαριασμό που θα δημιουργήσετε έτσι ώστε να είναι εύκολα προσβάσιμο από οποιονδήποτε\n",
    "### Συστήματα γραμμικών εξισώσεων σε ηλεκτρικά κυκλώματα"
   ]
  },
  {
   "cell_type": "markdown",
   "metadata": {},
   "source": [
    "#### 1. Υπολογισμός έντασης ρευμάτων σε κάθε κλάδο ηλεκτρικού κυκλώματος\n",
    "Δίνεται το ακόλουθο ηλεκτρικό κύκλωμα\n",
    "![](https://cdn.pbrd.co/images/m7KOnwE5O.png)\n",
    "Χρησιμοποιώντας τους κανόνες του Kirchhof καταστρώστε σύστημα γραμμικών εξισώσεων για τον υπολογισμό του ρεύματος που διατρέχει κάθε κλάδο του κυκλώματος. Στη συνέχεια, επιλύστε το σύστημα α) με αριθμητικούς και β) με συμβολικούς υπολογισμούς."
   ]
  },
  {
   "cell_type": "markdown",
   "metadata": {},
   "source": [
    "Σύστημα εξισώσεων \n",
    "\n"
   ]
  },
  {
   "cell_type": "code",
   "execution_count": 1,
   "metadata": {
    "collapsed": false
   },
   "outputs": [],
   "source": [
    "# με αριθμητικο΄΄υς υπολογισμούς\n"
   ]
  },
  {
   "cell_type": "code",
   "execution_count": 2,
   "metadata": {
    "collapsed": false
   },
   "outputs": [],
   "source": [
    "# με συμβολικούς υπολογισμούς\n"
   ]
  },
  {
   "cell_type": "markdown",
   "metadata": {},
   "source": [
    "#### 2. Υπολογισμός έντασης ρευμάτων σε κάθε κλάδο ηλεκτρικού κυκλώματος\n",
    "![](https://cdn.pbrd.co/images/m81dV5NhP.png)\n",
    "Χρησιμοποιώντας τους κανόνες του Kirchhof καταστρώστε σύστημα γραμμικών εξισώσεων για τον υπολογισμό του ρεύματος που διατρέχει κάθε κλάδο του κυκλώματος. Επιλύστε το σύστημα."
   ]
  },
  {
   "cell_type": "markdown",
   "metadata": {},
   "source": [
    "Σύστημα εξισώσεων \n",
    "\n"
   ]
  },
  {
   "cell_type": "code",
   "execution_count": 3,
   "metadata": {
    "collapsed": false
   },
   "outputs": [],
   "source": [
    "# επίλυση του συστήματος\n",
    "\n",
    "\n"
   ]
  }
 ],
 "metadata": {
  "anaconda-cloud": {},
  "kernelspec": {
   "display_name": "Python [default]",
   "language": "python",
   "name": "python3"
  },
  "language_info": {
   "codemirror_mode": {
    "name": "ipython",
    "version": 3
   },
   "file_extension": ".py",
   "mimetype": "text/x-python",
   "name": "python",
   "nbconvert_exporter": "python",
   "pygments_lexer": "ipython3",
   "version": "3.5.2"
  }
 },
 "nbformat": 4,
 "nbformat_minor": 1
}
