{
 "cells": [
  {
   "cell_type": "markdown",
   "metadata": {},
   "source": [
    "## ΤΕΙ Ηπείρου - Τμήμα Μηχανικών Πληροφορικής ΤΕ \n",
    "### Μαθηματικά για μηχανικούς  \n",
    "\n",
    "    Προαιρετικές ασκήσεις (Python + sympy) - Δ' ΣΕΤ\n",
    "\n",
    "Ανεβάστε το notebook με τις απαντήσεις των ασκήσεων στο github σε λογαριασμό που θα δημιουργήσετε έτσι ώστε να είναι εύκολα προσβάσιμο από οποιονδήποτε\n",
    "### Γεωμετρικοί μετασχηματισμοί"
   ]
  },
  {
   "cell_type": "markdown",
   "metadata": {},
   "source": [
    "#### 1.  Γραφική απεικόνιση πολυγώνου\n",
    "Απεικονίστε γραφικά χρησιμοποιώντας τη βιβλιοθήκη matplotlib το πεντάγωνο που φαίνεται στο ακόλουθο σχήμα\n",
    "![](https://cdn.pbrd.co/images/mQ7SsB1Va.png)"
   ]
  },
  {
   "cell_type": "code",
   "execution_count": 1,
   "metadata": {
    "collapsed": false
   },
   "outputs": [
    {
     "data": {
      "image/png": "[encoded data removed]",
      "text/plain": [
       "<matplotlib.figure.Figure at 0x104841e10>"
      ]
     },
     "metadata": {},
     "output_type": "display_data"
    }
   ],
   "source": [
    "# σχεδίαση γραφήματος με πολύγωνο\n",
    "%matplotlib inline\n",
    "import matplotlib.pyplot as plt \n",
    "from matplotlib.path import Path\n",
    "import matplotlib.patches as patches\n",
    "verts = [\n",
    "    (5, 1), # P0\n",
    "    (9, 1), # P1\n",
    "    (9, 2), # P2\n",
    "    (7, 5), # P3\n",
    "    (5, 2), # P4\n",
    "    (5, 1), # P0\n",
    "    ]\n",
    "\n",
    "codes = [Path.MOVETO,\n",
    "         Path.LINETO,\n",
    "         Path.LINETO,\n",
    "         Path.LINETO,\n",
    "         Path.LINETO,\n",
    "         Path.CLOSEPOLY\n",
    "         ]\n",
    "path = Path(verts, codes)\n",
    "fig = plt.figure()\n",
    "ax = fig.add_subplot(1,1,1)\n",
    "patch = patches.PathPatch(path, facecolor='orange', linewidth=2)\n",
    "ax.add_patch(patch)\n",
    "ax.annotate('A', xy=(4.6,1))\n",
    "ax.annotate('B', xy=(9,1))\n",
    "ax.annotate('C', xy=(9,2))\n",
    "ax.annotate('D', xy=(7,5))\n",
    "ax.annotate('E', xy=(4.6,2))\n",
    "\n",
    "ax.set_xlim(-1, 10)\n",
    "ax.set_ylim(-1, 6)\n",
    "plt.axhline(0, color='black')\n",
    "plt.axvline(0, color='black')\n",
    "\n",
    "plt.grid();"
   ]
  },
  {
   "cell_type": "markdown",
   "metadata": {},
   "source": [
    "#### 2. Εφαρμόστε γραμμικό μετασχηματισμό πρώτα ως προς τον άξονα x=y και μετά κάνοντας στροφή προς τα αριστερά κατά 60 μοίρες"
   ]
  },
  {
   "cell_type": "code",
   "execution_count": 2,
   "metadata": {
    "collapsed": false
   },
   "outputs": [
    {
     "data": {
      "image/png": "[encoded data removed]",
      "text/latex": [
       "$$\\left[\\begin{matrix}5 & 9 & 9 & 7 & 5\\\\1 & 1 & 2 & 5 & 2\\end{matrix}\\right]$$"
      ],
      "text/plain": [
       "⎡5  9  9  7  5⎤\n",
       "⎢             ⎥\n",
       "⎣1  1  2  5  2⎦"
      ]
     },
     "metadata": {},
     "output_type": "display_data"
    },
    {
     "data": {
      "image/png": "[encoded data removed]",
      "text/latex": [
       "$$\\left[\\begin{matrix}- \\frac{5 \\sqrt{3}}{2} + \\frac{1}{2} & - \\frac{9 \\sqrt{3}}{2} + \\frac{1}{2} & - \\frac{9 \\sqrt{3}}{2} + 1 & - \\frac{7 \\sqrt{3}}{2} + \\frac{5}{2} & - \\frac{5 \\sqrt{3}}{2} + 1\\\\\\frac{\\sqrt{3}}{2} + \\frac{5}{2} & \\frac{\\sqrt{3}}{2} + \\frac{9}{2} & \\sqrt{3} + \\frac{9}{2} & \\frac{7}{2} + \\frac{5 \\sqrt{3}}{2} & \\sqrt{3} + \\frac{5}{2}\\end{matrix}\\right]$$"
      ],
      "text/plain": [
       "⎡  5⋅√3   1    9⋅√3   1    9⋅√3        7⋅√3   5    5⋅√3    ⎤\n",
       "⎢- ──── + ─  - ──── + ─  - ──── + 1  - ──── + ─  - ──── + 1⎥\n",
       "⎢   2     2     2     2     2           2     2     2      ⎥\n",
       "⎢                                                          ⎥\n",
       "⎢  √3   5      √3   9                 7   5⋅√3             ⎥\n",
       "⎢  ── + ─      ── + ─     √3 + 9/2    ─ + ────    √3 + 5/2 ⎥\n",
       "⎣  2    2      2    2                 2    2               ⎦"
      ]
     },
     "metadata": {},
     "output_type": "display_data"
    },
    {
     "data": {
      "image/png": "[encoded data removed]",
      "text/latex": [
       "$$\\left[\\begin{matrix}-3.83012701892219 & -7.29422863405995 & -6.79422863405995 & -3.56217782649107 & -3.33012701892219\\\\3.36602540378444 & 5.36602540378444 & 6.23205080756888 & 7.83012701892219 & 4.23205080756888\\end{matrix}\\right]$$"
      ],
      "text/plain": [
       "⎡-3.83012701892219  -7.29422863405995  -6.79422863405995  -3.56217782649107  -\n",
       "⎢                                                                             \n",
       "⎣3.36602540378444   5.36602540378444   6.23205080756888   7.83012701892219   4\n",
       "\n",
       "3.33012701892219⎤\n",
       "                ⎥\n",
       ".23205080756888 ⎦"
      ]
     },
     "metadata": {},
     "output_type": "display_data"
    }
   ],
   "source": [
    "from sympy import *\n",
    "from IPython.display import display\n",
    "init_printing()\n",
    "# απεικόνιση του πολυγώνου ως πίνακα 2x5\n",
    "pentagon = Matrix([[5,9,9,7,5],[1,1,2,5,2]])\n",
    "# γραμμικοί μετασχηματισμοί\n",
    "T1 = Matrix([[0,1],[1,0]]) # συμμετρία ως προς y=x\n",
    "T2 = Matrix([[cos(pi/3),-sin(pi/3)],[sin(pi/3),cos(pi/3)]]) # στροφή κατά 60 μοίρες\n",
    "pentagon2 = T2*T1*pentagon \n",
    "display(pentagon)\n",
    "display(pentagon2)\n",
    "display(pentagon2.evalf())"
   ]
  },
  {
   "cell_type": "code",
   "execution_count": 3,
   "metadata": {
    "collapsed": false
   },
   "outputs": [
    {
     "data": {
      "image/png": "[encoded data removed]",
      "text/plain": [
       "<matplotlib.figure.Figure at 0x1046d0438>"
      ]
     },
     "metadata": {},
     "output_type": "display_data"
    }
   ],
   "source": [
    "# γραφική απεικόνιση του πολυγώνου και της εικόνας του μετά τους γραμμικούς μετασχηματισμούς\n",
    "verts = [\n",
    "    (5, 1), # P0\n",
    "    (9, 1), # P1\n",
    "    (9, 2), # P2\n",
    "    (7, 5), # P3\n",
    "    (5, 2), # P4\n",
    "    (5, 1), # P0\n",
    "    ]\n",
    "\n",
    "# verts2 = [\n",
    "#     (1, 5), # P0\n",
    "#     (1, 9), # P1\n",
    "#     (2, 9), # P2\n",
    "#     (5, 7), # P3\n",
    "#     (2, 5), # P4\n",
    "#     (1, 5), # P0\n",
    "#     ]\n",
    "\n",
    "verts2 = [\n",
    "    (-3.83, 3.37), # P0\n",
    "    (-7.29, 5.37), # P1\n",
    "    (-6.79, 6.23), # P2\n",
    "    (-3.56, 7.83), # P3\n",
    "    (-3.33, 4.23), # P4\n",
    "    (-3.83, 3.37), # P0\n",
    "    ]\n",
    "\n",
    "codes = [Path.MOVETO,\n",
    "         Path.LINETO,\n",
    "         Path.LINETO,\n",
    "         Path.LINETO,\n",
    "         Path.LINETO,\n",
    "         Path.CLOSEPOLY\n",
    "         ]\n",
    "path = Path(verts, codes)\n",
    "path2 = Path(verts2, codes)\n",
    "fig = plt.figure()\n",
    "ax = fig.add_subplot(1,1,1)\n",
    "patch = patches.PathPatch(path, facecolor='orange', linewidth=2)\n",
    "ax.add_patch(patch)\n",
    "patch = patches.PathPatch(path2, facecolor='cyan', linewidth=2)\n",
    "ax.add_patch(patch)\n",
    "ax.set_aspect('equal')\n",
    "ax.set_xlim(-10, 10)\n",
    "ax.set_ylim(-10, 10)\n",
    "plt.axhline(0, color='black')\n",
    "plt.axvline(0, color='black')\n",
    "plt.title('linear transformations')\n",
    "plt.grid();"
   ]
  },
  {
   "cell_type": "code",
   "execution_count": null,
   "metadata": {
    "collapsed": true
   },
   "outputs": [],
   "source": []
  }
 ],
 "metadata": {
  "anaconda-cloud": {},
  "kernelspec": {
   "display_name": "Python [conda root]",
   "language": "python",
   "name": "conda-root-py"
  },
  "language_info": {
   "codemirror_mode": {
    "name": "ipython",
    "version": 3
   },
   "file_extension": ".py",
   "mimetype": "text/x-python",
   "name": "python",
   "nbconvert_exporter": "python",
   "pygments_lexer": "ipython3",
   "version": "3.5.2"
  }
 },
 "nbformat": 4,
 "nbformat_minor": 1
}
