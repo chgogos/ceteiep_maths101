{
 "cells": [
  {
   "cell_type": "markdown",
   "metadata": {},
   "source": [
    "## ΤΕΙ Ηπείρου - Τμήμα Μηχανικών Πληροφορικής ΤΕ \n",
    "### Παραδείγματα από το μάθημα (12/10/2016) Μαθηματικά για μηχανικούς  "
   ]
  },
  {
   "cell_type": "markdown",
   "metadata": {},
   "source": [
    "---\n",
    "\n",
    "### Επίλυση συστημάτων γραμμικών εξισώσεων με τις βιβλιοθήκες της python\n",
    "\n",
    "#### Επίλυση συστήματος εξισώσεων 3x3 (3 εξισώσεις με 3 αγνώστους) με τη βιβλιοθήκη <http://www.numpy.org/>\n",
    "$$x+2y+3z=1$$\n",
    "$$y+4z=2$$\n",
    "$$5x+6y=6$$"
   ]
  },
  {
   "cell_type": "code",
   "execution_count": 1,
   "metadata": {
    "collapsed": false
   },
   "outputs": [
    {
     "name": "stdout",
     "output_type": "stream",
     "text": [
      "42.0 -34.0 9.0\n"
     ]
    }
   ],
   "source": [
    "import numpy as np\n",
    "a = np.array([[1,2,3], [0,1,4], [5,6,0]])\n",
    "b = np.array([1,2,6])\n",
    "x = np.linalg.solve(a,b)\n",
    "print(x[0], x[1], x[2])"
   ]
  },
  {
   "cell_type": "markdown",
   "metadata": {},
   "source": [
    "#### Επίλυση συστήματος εξισώσεων 3x4 (3 εξισώσεις με 4 αγνώστους)  με τη συνάρτηση solve_linear_system του sympy\n",
    "\n",
    "$$x+2y+3z=1$$\n",
    "$$y+4z=2$$\n",
    "$$5x+6y=w$$"
   ]
  },
  {
   "cell_type": "code",
   "execution_count": 2,
   "metadata": {
    "collapsed": false
   },
   "outputs": [
    {
     "name": "stdout",
     "output_type": "stream",
     "text": [
      "x=5*w + 12 \n",
      "y=-4*w - 10 \n",
      "z=w + 3\n"
     ]
    }
   ],
   "source": [
    "from sympy import *\n",
    "init_printing()\n",
    "x, y, z, w = symbols('x, y, z, w')\n",
    "A = Matrix([[1, 2, 3, 1], [0, 1, 4, 2], [5,6,0,w]])\n",
    "results = solve_linear_system(A, x, y, z, w)\n",
    "print('x={0} \\ny={1} \\nz={2}'.format(results[x],results[y],results[z]))"
   ]
  },
  {
   "cell_type": "markdown",
   "metadata": {},
   "source": [
    "#### Επίλυση συστήματος εξισώσεων 3x4 (3 εξισώσεις με 4 αγνώστους)  με τη συνάρτηση solve του sympy και ορισμό εξισώσεων με  Eq\n",
    "\n",
    "$$x+2y+3z=1$$\n",
    "$$y+4z=2$$\n",
    "$$5x+6y=w$$"
   ]
  },
  {
   "cell_type": "code",
   "execution_count": 3,
   "metadata": {
    "collapsed": false
   },
   "outputs": [
    {
     "data": {
      "image/png": "[encoded data removed]",
      "text/latex": [
       "$$\\left \\{ x : 5 w + 12, \\quad y : - 4 w - 10, \\quad z : w + 3\\right \\}$$"
      ],
      "text/plain": [
       "{x: 5⋅w + 12, y: -4⋅w - 10, z: w + 3}"
      ]
     },
     "execution_count": 3,
     "metadata": {},
     "output_type": "execute_result"
    }
   ],
   "source": [
    "x, y, z, w = symbols('x, y, z, w')\n",
    "solve([Eq(x + 2*y +3*z, 1), Eq(y + 4*z, 2), Eq(5*x+6*y, w) ], [x, y, z, w])"
   ]
  },
  {
   "cell_type": "markdown",
   "metadata": {},
   "source": [
    "### Ορίζουσες πινάκων διάστασης μεγαλύτερης του 2x2"
   ]
  },
  {
   "cell_type": "code",
   "execution_count": 5,
   "metadata": {
    "collapsed": false
   },
   "outputs": [
    {
     "data": {
      "image/png": "[encoded data removed]",
      "text/latex": [
       "$$\\left[\\begin{matrix}3 & 13 & 11\\\\0 & 2 & -2\\\\1 & 0 & 4\\end{matrix}\\right]$$"
      ],
      "text/plain": [
       "⎡3  13  11⎤\n",
       "⎢         ⎥\n",
       "⎢0  2   -2⎥\n",
       "⎢         ⎥\n",
       "⎣1  0   4 ⎦"
      ]
     },
     "metadata": {},
     "output_type": "display_data"
    },
    {
     "data": {
      "image/png": "[encoded data removed]",
      "text/latex": [
       "$$-24$$"
      ],
      "text/plain": [
       "-24"
      ]
     },
     "metadata": {},
     "output_type": "display_data"
    }
   ],
   "source": [
    "from IPython.display import display\n",
    "A=Matrix([[3,13,11],[0,2,-2],[1,0,4]])\n",
    "display(A)\n",
    "display(A.det())"
   ]
  },
  {
   "cell_type": "markdown",
   "metadata": {},
   "source": [
    "#### Ορίζουσες ειδικών περιπτώσεων πινάκων"
   ]
  },
  {
   "cell_type": "code",
   "execution_count": 6,
   "metadata": {
    "collapsed": false
   },
   "outputs": [
    {
     "data": {
      "image/png": "[encoded data removed]",
      "text/latex": [
       "$$\\left[\\begin{matrix}3 & 13 & 11 & 8 & 21\\\\0 & 2 & -2 & 45 & 67\\\\0 & 0 & 4 & 6 & 90\\\\0 & 0 & 0 & 2 & 9\\\\0 & 0 & 0 & 0 & 1\\end{matrix}\\right]$$"
      ],
      "text/plain": [
       "⎡3  13  11  8   21⎤\n",
       "⎢                 ⎥\n",
       "⎢0  2   -2  45  67⎥\n",
       "⎢                 ⎥\n",
       "⎢0  0   4   6   90⎥\n",
       "⎢                 ⎥\n",
       "⎢0  0   0   2   9 ⎥\n",
       "⎢                 ⎥\n",
       "⎣0  0   0   0   1 ⎦"
      ]
     },
     "metadata": {},
     "output_type": "display_data"
    },
    {
     "data": {
      "image/png": "[encoded data removed]",
      "text/latex": [
       "$$48$$"
      ],
      "text/plain": [
       "48"
      ]
     },
     "metadata": {},
     "output_type": "display_data"
    },
    {
     "data": {
      "image/png": "[encoded data removed]",
      "text/latex": [
       "$$\\left[\\begin{matrix}1 & 2 & 3 & 4 & 5\\\\2 & 2 & -2 & 45 & 67\\\\0 & 2 & 4 & 6 & 90\\\\5 & 6 & 6 & 0 & 1\\\\2 & 4 & 6 & 8 & 10\\end{matrix}\\right]$$"
      ],
      "text/plain": [
       "⎡1  2  3   4   5 ⎤\n",
       "⎢                ⎥\n",
       "⎢2  2  -2  45  67⎥\n",
       "⎢                ⎥\n",
       "⎢0  2  4   6   90⎥\n",
       "⎢                ⎥\n",
       "⎢5  6  6   0   1 ⎥\n",
       "⎢                ⎥\n",
       "⎣2  4  6   8   10⎦"
      ]
     },
     "metadata": {},
     "output_type": "display_data"
    },
    {
     "data": {
      "image/png": "[encoded data removed]",
      "text/latex": [
       "$$0$$"
      ],
      "text/plain": [
       "0"
      ]
     },
     "metadata": {},
     "output_type": "display_data"
    },
    {
     "data": {
      "image/png": "[encoded data removed]",
      "text/latex": [
       "$$\\left[\\begin{matrix}0 & 12 & 3 & 4 & 5\\\\0 & 2 & -2 & 5 & 7\\\\0 & 2 & 4 & 6 & 0\\\\0 & 6 & 16 & 0 & 1\\\\0 & 4 & 16 & 8 & 1\\end{matrix}\\right]$$"
      ],
      "text/plain": [
       "⎡0  12  3   4  5⎤\n",
       "⎢               ⎥\n",
       "⎢0  2   -2  5  7⎥\n",
       "⎢               ⎥\n",
       "⎢0  2   4   6  0⎥\n",
       "⎢               ⎥\n",
       "⎢0  6   16  0  1⎥\n",
       "⎢               ⎥\n",
       "⎣0  4   16  8  1⎦"
      ]
     },
     "metadata": {},
     "output_type": "display_data"
    },
    {
     "data": {
      "image/png": "[encoded data removed]",
      "text/latex": [
       "$$0$$"
      ],
      "text/plain": [
       "0"
      ]
     },
     "metadata": {},
     "output_type": "display_data"
    }
   ],
   "source": [
    "# άνω τριγωνικός (γινόμενο στοιχείων διαγωνίου)\n",
    "A=Matrix([[3,13,11,8,21],[0,2,-2,45,67],[0,0,4,6,90],[0,0,0,2,9],[0,0,0,0,1]])\n",
    "display(A)\n",
    "display(A.det())\n",
    "# ανάλογες στήλες ή γραμμές (1η και 5η γραμμή)\n",
    "B=Matrix([[1,2,3,4,5],[2,2,-2,45,67],[0,2,4,6,90],[5,6,6,0,1],[2,4,6,8,10]])\n",
    "display(B)\n",
    "display(B.det())\n",
    "# μηδενική στήλη ή γραμμή (1η στήλη)\n",
    "C=Matrix([[0,12,3,4,5],[0,2,-2,5,7],[0,2,4,6,0],[0,6,16,0,1],[0,4,16,8,1]])\n",
    "display(C)\n",
    "display(C.det())"
   ]
  },
  {
   "cell_type": "markdown",
   "metadata": {},
   "source": [
    "### Αντιστροφή πίνακα με χρήση του συμπληρωματικού (προσαρτημένου) πίνακα"
   ]
  },
  {
   "cell_type": "code",
   "execution_count": 8,
   "metadata": {
    "collapsed": false
   },
   "outputs": [
    {
     "data": {
      "text/latex": [
       "$A=\\left[\\begin{matrix}1 & 2 & 3\\\\0 & 4 & 5\\\\1 & 0 & 6\\end{matrix}\\right]$"
      ],
      "text/plain": [
       "<IPython.core.display.Latex object>"
      ]
     },
     "metadata": {},
     "output_type": "display_data"
    },
    {
     "data": {
      "text/latex": [
       "Πίνακας αλγεβρικών συμπληρωμάτων (cofactor matrix) $\\left[\\begin{matrix}24 & 5 & -4\\\\-12 & 3 & 2\\\\-2 & -5 & 4\\end{matrix}\\right]$"
      ],
      "text/plain": [
       "<IPython.core.display.Latex object>"
      ]
     },
     "metadata": {},
     "output_type": "display_data"
    },
    {
     "data": {
      "text/latex": [
       "Συμπληρωματικός πίνακας (adjugate) $\\left[\\begin{matrix}24 & -12 & -2\\\\5 & 3 & -5\\\\-4 & 2 & 4\\end{matrix}\\right]$"
      ],
      "text/plain": [
       "<IPython.core.display.Latex object>"
      ]
     },
     "metadata": {},
     "output_type": "display_data"
    },
    {
     "data": {
      "text/latex": [
       "|A|=22"
      ],
      "text/plain": [
       "<IPython.core.display.Latex object>"
      ]
     },
     "metadata": {},
     "output_type": "display_data"
    },
    {
     "data": {
      "text/latex": [
       "$A^{-1}=\\left[\\begin{matrix}\\frac{12}{11} & - \\frac{6}{11} & - \\frac{1}{11}\\\\\\frac{5}{22} & \\frac{3}{22} & - \\frac{5}{22}\\\\- \\frac{2}{11} & \\frac{1}{11} & \\frac{2}{11}\\end{matrix}\\right]$"
      ],
      "text/plain": [
       "<IPython.core.display.Latex object>"
      ]
     },
     "metadata": {},
     "output_type": "display_data"
    },
    {
     "data": {
      "text/latex": [
       "$A^{-1}=\\left[\\begin{matrix}\\frac{12}{11} & - \\frac{6}{11} & - \\frac{1}{11}\\\\\\frac{5}{22} & \\frac{3}{22} & - \\frac{5}{22}\\\\- \\frac{2}{11} & \\frac{1}{11} & \\frac{2}{11}\\end{matrix}\\right]$"
      ],
      "text/plain": [
       "<IPython.core.display.Latex object>"
      ]
     },
     "metadata": {},
     "output_type": "display_data"
    }
   ],
   "source": [
    "from IPython.display import Latex \n",
    "A = Matrix([[1,2,3],[0,4,5],[1,0,6]])\n",
    "B = A.adjugate().transpose()\n",
    "C = A.adjugate()\n",
    "D = 1 / det(A) * A.adjugate()\n",
    "E = A.inv()\n",
    "display(Latex('$A=%s$' % latex(A)))\n",
    "display(Latex('Πίνακας αλγεβρικών συμπληρωμάτων (cofactor matrix) $%s$' % latex(B)))\n",
    "display(Latex('Συμπληρωματικός πίνακας (adjugate) $%s$' % latex(C)))\n",
    "display(Latex('|A|=%s' % det(A)))\n",
    "display(Latex('$A^{-1}=%s$' % latex(D)))\n",
    "display(Latex('$A^{-1}=%s$' % latex(E))) "
   ]
  },
  {
   "cell_type": "markdown",
   "metadata": {},
   "source": [
    "### Επίλυση συστήματος εξισώσεων 3x3 με τη χρήση αντίστροφου πίνακα\n",
    "$$x+2y+3z=1$$\n",
    "$$y+4z=2$$\n",
    "$$5x+6y=6$$"
   ]
  },
  {
   "cell_type": "code",
   "execution_count": 9,
   "metadata": {
    "collapsed": false
   },
   "outputs": [
    {
     "data": {
      "text/latex": [
       "$A=\\left[\\begin{matrix}1 & 2 & 3\\\\0 & 1 & 4\\\\5 & 6 & 0\\end{matrix}\\right]$"
      ],
      "text/plain": [
       "<IPython.core.display.Latex object>"
      ]
     },
     "metadata": {},
     "output_type": "display_data"
    },
    {
     "data": {
      "text/latex": [
       "$B=\\left[\\begin{matrix}1\\\\2\\\\6\\end{matrix}\\right]$"
      ],
      "text/plain": [
       "<IPython.core.display.Latex object>"
      ]
     },
     "metadata": {},
     "output_type": "display_data"
    },
    {
     "data": {
      "text/latex": [
       "$A^{-1}=\\left[\\begin{matrix}-24 & 18 & 5\\\\20 & -15 & -4\\\\-5 & 4 & 1\\end{matrix}\\right]$"
      ],
      "text/plain": [
       "<IPython.core.display.Latex object>"
      ]
     },
     "metadata": {},
     "output_type": "display_data"
    },
    {
     "data": {
      "text/latex": [
       "$X=\\left[\\begin{matrix}42\\\\-34\\\\9\\end{matrix}\\right]$"
      ],
      "text/plain": [
       "<IPython.core.display.Latex object>"
      ]
     },
     "metadata": {},
     "output_type": "display_data"
    },
    {
     "name": "stdout",
     "output_type": "stream",
     "text": [
      "Επιβεβαίωση AX=B\n"
     ]
    }
   ],
   "source": [
    "A=Matrix([[1,2,3],[0,1,4],[5,6,0]])\n",
    "B=Matrix([1,2,6])\n",
    "X=A.inv()*B\n",
    "display(Latex('$A=%s$' % latex(A)))\n",
    "display(Latex('$B=%s$' % latex(B)))\n",
    "display(Latex('$A^{-1}=%s$' % latex(A.inv())))\n",
    "display(Latex('$X=%s$' % latex(X)))\n",
    "if A*X==B:\n",
    "    print('Επιβεβαίωση AX=B')"
   ]
  },
  {
   "cell_type": "markdown",
   "metadata": {},
   "source": [
    "### Επίλυση συστήματος εξισώσεων 3x3 με τη μέθοδο του Cramer\n",
    "$$x+2y+3z=1$$\n",
    "$$y+4z=2$$\n",
    "$$5x+6y=6$$"
   ]
  },
  {
   "cell_type": "code",
   "execution_count": 10,
   "metadata": {
    "collapsed": false
   },
   "outputs": [
    {
     "data": {
      "text/latex": [
       "$A=\\left[\\begin{matrix}1 & 2 & 3\\\\0 & 1 & 4\\\\5 & 6 & 0\\end{matrix}\\right]$ |A|=1.0"
      ],
      "text/plain": [
       "<IPython.core.display.Latex object>"
      ]
     },
     "metadata": {},
     "output_type": "display_data"
    },
    {
     "data": {
      "text/latex": [
       "$B=\\left[\\begin{matrix}1\\\\2\\\\6\\end{matrix}\\right]$"
      ],
      "text/plain": [
       "<IPython.core.display.Latex object>"
      ]
     },
     "metadata": {},
     "output_type": "display_data"
    },
    {
     "data": {
      "text/latex": [
       "$D_x=\\left[\\begin{matrix}1 & 2 & 3\\\\2 & 1 & 4\\\\6 & 6 & 0\\end{matrix}\\right]$ |Dx|=42.0"
      ],
      "text/plain": [
       "<IPython.core.display.Latex object>"
      ]
     },
     "metadata": {},
     "output_type": "display_data"
    },
    {
     "data": {
      "text/latex": [
       "$D_y=\\left[\\begin{matrix}1 & 1 & 3\\\\0 & 2 & 4\\\\5 & 6 & 0\\end{matrix}\\right]$ |Dy|=-34.0"
      ],
      "text/plain": [
       "<IPython.core.display.Latex object>"
      ]
     },
     "metadata": {},
     "output_type": "display_data"
    },
    {
     "data": {
      "text/latex": [
       "$D_z=\\left[\\begin{matrix}1 & 2 & 1\\\\0 & 1 & 2\\\\5 & 6 & 6\\end{matrix}\\right]$ |Dz|=9.0"
      ],
      "text/plain": [
       "<IPython.core.display.Latex object>"
      ]
     },
     "metadata": {},
     "output_type": "display_data"
    },
    {
     "data": {
      "text/latex": [
       "Λύση $x=42, y=-34, z=9$"
      ],
      "text/plain": [
       "<IPython.core.display.Latex object>"
      ]
     },
     "metadata": {},
     "output_type": "display_data"
    }
   ],
   "source": [
    "A=Matrix([[1,2,3],[0,1,4],[5,6,0]])\n",
    "B=Matrix([1,2,6])\n",
    "Dx=A[:,:] # αντιγραφή του πίνακα Α στο Dx\n",
    "Dx.col_op(0,lambda v,i:B[i])\n",
    "Dy=A[:,:]\n",
    "Dy.col_op(1,lambda v,i:B[i])\n",
    "Dz=A[:,:]\n",
    "Dz.col_op(2,lambda v,i:B[i])\n",
    "x = Dx.det()/A.det()\n",
    "y = Dy.det()/A.det()\n",
    "z = Dz.det()/A.det()\n",
    "display(Latex('$A=%s$ |A|=%.1f' % (latex(A), A.det())))\n",
    "display(Latex('$B=%s$' % latex(B))) \n",
    "display(Latex('$D_x=%s$ |Dx|=%.1f' % (latex(Dx), Dx.det())))\n",
    "display(Latex('$D_y=%s$ |Dy|=%.1f' % (latex(Dy), Dy.det())))\n",
    "display(Latex('$D_z=%s$ |Dz|=%.1f' % (latex(Dz), Dz.det())))\n",
    "display(Latex('Λύση $x=%s, y=%s, z=%s$' % (x,y,z)))"
   ]
  }
 ],
 "metadata": {
  "anaconda-cloud": {},
  "kernelspec": {
   "display_name": "Python [default]",
   "language": "python",
   "name": "python3"
  },
  "language_info": {
   "codemirror_mode": {
    "name": "ipython",
    "version": 3
   },
   "file_extension": ".py",
   "mimetype": "text/x-python",
   "name": "python",
   "nbconvert_exporter": "python",
   "pygments_lexer": "ipython3",
   "version": "3.5.2"
  }
 },
 "nbformat": 4,
 "nbformat_minor": 1
}
