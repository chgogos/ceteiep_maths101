{
 "cells": [
  {
   "cell_type": "markdown",
   "metadata": {},
   "source": [
    "## ΤΕΙ Ηπείρου - Τμήμα Μηχανικών Πληροφορικής ΤΕ \n",
    "### Μαθηματικά για μηχανικούς  \n",
    "\n",
    "    Παραγώγιση"
   ]
  },
  {
   "cell_type": "code",
   "execution_count": 1,
   "metadata": {
    "collapsed": true
   },
   "outputs": [],
   "source": [
    "from sympy import *\n",
    "init_printing()"
   ]
  },
  {
   "cell_type": "markdown",
   "metadata": {},
   "source": [
    "Εύρεση της παραγώγου της $f(x)=x^3+x^2$ στο $x_0=1$ με το scipy"
   ]
  },
  {
   "cell_type": "code",
   "execution_count": 2,
   "metadata": {
    "collapsed": false
   },
   "outputs": [
    {
     "data": {
      "image/png": "[encoded data removed]",
      "text/latex": [
       "$$4.99999999992$$"
      ],
      "text/plain": [
       "4.99999999992"
      ]
     },
     "execution_count": 2,
     "metadata": {},
     "output_type": "execute_result"
    }
   ],
   "source": [
    "from scipy.misc import derivative\n",
    "\n",
    "def f(x):\n",
    "    return x**3 + x**2\n",
    "\n",
    "fpx = derivative(f,1.0, dx=1e-6)\n",
    "fpx"
   ]
  },
  {
   "cell_type": "markdown",
   "metadata": {},
   "source": [
    "Παραγώγιση της $\\sqrt{x} -5x^{\\frac{1}{3}}+1$ στο $x_0= 5$ με το scipy (με χρήση lambda)"
   ]
  },
  {
   "cell_type": "code",
   "execution_count": 4,
   "metadata": {
    "collapsed": false
   },
   "outputs": [
    {
     "data": {
      "image/png": "[encoded data removed]",
      "text/latex": [
       "$$-0.346385184535336$$"
      ],
      "text/plain": [
       "-0.346385184535336"
      ]
     },
     "execution_count": 4,
     "metadata": {},
     "output_type": "execute_result"
    }
   ],
   "source": [
    "f = lambda x: sqrt(x)-5*x**(1/3) + 1\n",
    "derivative(f,5.0, dx=1e-6)"
   ]
  },
  {
   "cell_type": "markdown",
   "metadata": {},
   "source": [
    "Συμβολική παραγώγιση της $\\sqrt{x} -5x^{\\frac{1}{3}}+1$ χρησιμοποιώντας τo sympy"
   ]
  },
  {
   "cell_type": "code",
   "execution_count": 7,
   "metadata": {
    "collapsed": false
   },
   "outputs": [
    {
     "data": {
      "image/png": "[encoded data removed]",
      "text/latex": [
       "$$\\frac{d}{d x}\\left(- 5 x^{0.333333333333333} + \\sqrt{x} + 1\\right)$$"
      ],
      "text/plain": [
       "d ⎛     0.333333333333333         ⎞\n",
       "──⎝- 5⋅x                  + √x + 1⎠\n",
       "dx                                 "
      ]
     },
     "execution_count": 7,
     "metadata": {},
     "output_type": "execute_result"
    }
   ],
   "source": [
    "# με τη χρήση της sympy.Derivative\n",
    "x= Symbol('x')\n",
    "f=sqrt(x)-5*x**(1/3)+1\n",
    "df = Derivative(f,x)\n",
    "df"
   ]
  },
  {
   "cell_type": "code",
   "execution_count": 8,
   "metadata": {
    "collapsed": false
   },
   "outputs": [
    {
     "data": {
      "image/png": "[encoded data removed]",
      "text/latex": [
       "$$- \\frac{1.66666666666667}{x^{0.666666666666667}} + \\frac{1}{2 \\sqrt{x}}$$"
      ],
      "text/plain": [
       "                    -0.666666666666667    1  \n",
       "- 1.66666666666667⋅x                   + ────\n",
       "                                         2⋅√x"
      ]
     },
     "execution_count": 8,
     "metadata": {},
     "output_type": "execute_result"
    }
   ],
   "source": [
    "# με τη χρήση της sympy.diff\n",
    "df = diff(f,x)\n",
    "df"
   ]
  },
  {
   "cell_type": "code",
   "execution_count": 7,
   "metadata": {
    "collapsed": false
   },
   "outputs": [
    {
     "data": {
      "image/png": "[encoded data removed]",
      "text/latex": [
       "$$\\frac{1}{2 \\sqrt{x}} - \\frac{5}{3 x^{\\frac{2}{3}}}$$"
      ],
      "text/plain": [
       "   1        5   \n",
       "─────── - ──────\n",
       "    ___      2/3\n",
       "2⋅╲╱ x    3⋅x   "
      ]
     },
     "execution_count": 7,
     "metadata": {},
     "output_type": "execute_result"
    }
   ],
   "source": [
    "nsimplify(df)"
   ]
  },
  {
   "cell_type": "code",
   "execution_count": 8,
   "metadata": {
    "collapsed": false
   },
   "outputs": [
    {
     "data": {
      "image/png": "[encoded data removed]",
      "text/latex": [
       "$$- \\frac{1.66666666666667}{5^{0.666666666666667}} + \\frac{\\sqrt{5}}{10}$$"
      ],
      "text/plain": [
       "                                                 ___\n",
       "                          -0.666666666666667   ╲╱ 5 \n",
       "- -1.66666666666667⋅(-1)⋅5                   + ─────\n",
       "                                                 10 "
      ]
     },
     "execution_count": 8,
     "metadata": {},
     "output_type": "execute_result"
    }
   ],
   "source": [
    "df.subs(x,5)"
   ]
  },
  {
   "cell_type": "code",
   "execution_count": 9,
   "metadata": {
    "collapsed": false
   },
   "outputs": [
    {
     "data": {
      "image/png": "[encoded data removed]",
      "text/latex": [
       "$$- \\frac{\\sqrt[3]{5}}{3} + \\frac{\\sqrt{5}}{10}$$"
      ],
      "text/plain": [
       "  3 ___     ___\n",
       "  ╲╱ 5    ╲╱ 5 \n",
       "- ───── + ─────\n",
       "    3       10 "
      ]
     },
     "execution_count": 9,
     "metadata": {},
     "output_type": "execute_result"
    }
   ],
   "source": [
    "nsimplify(df.subs(x,5))"
   ]
  },
  {
   "cell_type": "code",
   "execution_count": 10,
   "metadata": {
    "collapsed": false
   },
   "outputs": [
    {
     "data": {
      "image/png": "[encoded data removed]",
      "text/latex": [
       "$$-0.346385184475587$$"
      ],
      "text/plain": [
       "-0.346385184475587"
      ]
     },
     "execution_count": 10,
     "metadata": {},
     "output_type": "execute_result"
    }
   ],
   "source": [
    "df.subs(x,5).evalf()"
   ]
  }
 ],
 "metadata": {
  "anaconda-cloud": {},
  "kernelspec": {
   "display_name": "Python [default]",
   "language": "python",
   "name": "python3"
  },
  "language_info": {
   "codemirror_mode": {
    "name": "ipython",
    "version": 3
   },
   "file_extension": ".py",
   "mimetype": "text/x-python",
   "name": "python",
   "nbconvert_exporter": "python",
   "pygments_lexer": "ipython3",
   "version": "3.5.2"
  }
 },
 "nbformat": 4,
 "nbformat_minor": 0
}
