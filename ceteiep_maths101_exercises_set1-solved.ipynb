{
 "cells": [
  {
   "cell_type": "markdown",
   "metadata": {},
   "source": [
    "## ΤΕΙ Ηπείρου - Τμήμα Μηχανικών Πληροφορικής ΤΕ \n",
    "### Μαθηματικά για μηχανικούς  \n",
    "\n",
    "    Προαιρετικές ασκήσεις (Python + sympy) - Α' ΣΕΤ\n",
    "\n",
    "Ανεβάστε το notebook με τις απαντήσεις των ασκήσεων στο github σε λογαριασμό που θα δημιουργήσετε έτσι ώστε να είναι εύκολα προσβάσιμο από οποιονδήποτε"
   ]
  },
  {
   "cell_type": "markdown",
   "metadata": {},
   "source": [
    "#### Αριθμητικοί Υπολογισμοί\n",
    "Υπολογίστε και εμφανίστε την τιμή της έκφρασης $\\frac{2^{10}}{5^2} + \\pi^4$ "
   ]
  },
  {
   "cell_type": "code",
   "execution_count": 47,
   "metadata": {
    "collapsed": false
   },
   "outputs": [
    {
     "data": {
      "text/plain": [
       "138.369091034002423"
      ]
     },
     "execution_count": 47,
     "metadata": {},
     "output_type": "execute_result"
    }
   ],
   "source": [
    "from math import pi\n",
    "r = 2**10/5**2 + pi**4\n",
    "r"
   ]
  },
  {
   "cell_type": "markdown",
   "metadata": {},
   "source": [
    "Υπολογίστε το άθροισμα $1^2 + 2^2 + ... + 50^2$ χρησιμοποιώντας την εντολή for της Python"
   ]
  },
  {
   "cell_type": "code",
   "execution_count": 50,
   "metadata": {
    "collapsed": false
   },
   "outputs": [
    {
     "name": "stdout",
     "output_type": "stream",
     "text": [
      "42925\n"
     ]
    }
   ],
   "source": [
    "c = 0\n",
    "for x in range(1,51):\n",
    "    c += x**2\n",
    "print(c)"
   ]
  },
  {
   "cell_type": "markdown",
   "metadata": {},
   "source": [
    "#### Συμβολικοί υπολογισμοί\n",
    "Υπολογίστε το ανάπτυγμα $(x+y)^{10}$ χρησιμοποιώντας το sympy"
   ]
  },
  {
   "cell_type": "code",
   "execution_count": 57,
   "metadata": {
    "collapsed": false
   },
   "outputs": [
    {
     "data": {
      "image/png": "[encoded data removed]",
      "text/latex": [
       "$$x^{10} + 10 x^{9} y + 45 x^{8} y^{2} + 120 x^{7} y^{3} + 210 x^{6} y^{4} + 252 x^{5} y^{5} + 210 x^{4} y^{6} + 120 x^{3} y^{7} + 45 x^{2} y^{8} + 10 x y^{9} + y^{10}$$"
      ],
      "text/plain": [
       " 10       9         8  2        7  3        6  4        5  5        4  6      \n",
       "x   + 10⋅x ⋅y + 45⋅x ⋅y  + 120⋅x ⋅y  + 210⋅x ⋅y  + 252⋅x ⋅y  + 210⋅x ⋅y  + 120\n",
       "\n",
       "  3  7       2  8         9    10\n",
       "⋅x ⋅y  + 45⋅x ⋅y  + 10⋅x⋅y  + y  "
      ]
     },
     "execution_count": 57,
     "metadata": {},
     "output_type": "execute_result"
    }
   ],
   "source": [
    "from sympy import *\n",
    "init_printing()\n",
    "x,y = symbols('x,y')\n",
    "expand((x+y)**10)"
   ]
  },
  {
   "cell_type": "markdown",
   "metadata": {},
   "source": [
    "Υπολογίστε τον αναλυτικό τύπο της σειράς $1^2 + 2^2 + ... + n^2$ χρησιμοποιώντας το sympy"
   ]
  },
  {
   "cell_type": "code",
   "execution_count": 61,
   "metadata": {
    "collapsed": false
   },
   "outputs": [
    {
     "data": {
      "image/png": "[encoded data removed]",
      "text/latex": [
       "$$\\frac{n^{3}}{3} + \\frac{n^{2}}{2} + \\frac{n}{6}$$"
      ],
      "text/plain": [
       " 3    2    \n",
       "n    n    n\n",
       "── + ── + ─\n",
       "3    2    6"
      ]
     },
     "metadata": {},
     "output_type": "display_data"
    },
    {
     "data": {
      "image/png": "[encoded data removed]",
      "text/latex": [
       "$$\\frac{n}{6} \\left(n + 1\\right) \\left(2 n + 1\\right)$$"
      ],
      "text/plain": [
       "n⋅(n + 1)⋅(2⋅n + 1)\n",
       "───────────────────\n",
       "         6         "
      ]
     },
     "metadata": {},
     "output_type": "display_data"
    }
   ],
   "source": [
    "from IPython.display import display\n",
    "n = Symbol('n')\n",
    "a_n = summation(n**2, [n,1,n])\n",
    "display(a_n)\n",
    "display(factor(a_n))"
   ]
  },
  {
   "cell_type": "markdown",
   "metadata": {},
   "source": [
    "#### Πίνακες\n",
    "Βρείτε για τον πίνακα $Α=\\begin{bmatrix} 7 & 3 \\\\ 4 & 1 \\end{bmatrix}$ την ορίζουσά του και τον αντίστροφό του"
   ]
  },
  {
   "cell_type": "code",
   "execution_count": 64,
   "metadata": {
    "collapsed": false
   },
   "outputs": [
    {
     "data": {
      "image/png": "[encoded data removed]",
      "text/latex": [
       "$$-5$$"
      ],
      "text/plain": [
       "-5"
      ]
     },
     "metadata": {},
     "output_type": "display_data"
    },
    {
     "data": {
      "image/png": "[encoded data removed]",
      "text/latex": [
       "$$\\left[\\begin{matrix}- \\frac{1}{5} & \\frac{3}{5}\\\\\\frac{4}{5} & - \\frac{7}{5}\\end{matrix}\\right]$$"
      ],
      "text/plain": [
       "⎡-1/5  3/5 ⎤\n",
       "⎢          ⎥\n",
       "⎣4/5   -7/5⎦"
      ]
     },
     "metadata": {},
     "output_type": "display_data"
    }
   ],
   "source": [
    "A = Matrix([[7,3],[4,1]])\n",
    "display(A.det())\n",
    "display(A.inv())"
   ]
  },
  {
   "cell_type": "markdown",
   "metadata": {},
   "source": [
    "Πραγματοποιήστε πολλαπλασιασμό πινάκων για δύο πίνακες της επιλογής σας."
   ]
  },
  {
   "cell_type": "code",
   "execution_count": 68,
   "metadata": {
    "collapsed": false
   },
   "outputs": [
    {
     "data": {
      "image/png": "[encoded data removed]",
      "text/latex": [
       "$$\\left[\\begin{matrix}99 & 45 & 13\\\\53 & 20 & 6\\\\128 & 140 & 36\\end{matrix}\\right]$$"
      ],
      "text/plain": [
       "⎡99   45   13⎤\n",
       "⎢            ⎥\n",
       "⎢53   20   6 ⎥\n",
       "⎢            ⎥\n",
       "⎣128  140  36⎦"
      ]
     },
     "execution_count": 68,
     "metadata": {},
     "output_type": "execute_result"
    }
   ],
   "source": [
    "# πολλαπλασιασμός πινάκa 3x2 με πίνακα 2x3\n",
    "A = Matrix([[7,3],[4,1],[4,16]])\n",
    "B = Matrix([[12,3,1],[5, 8,2]])\n",
    "A * B"
   ]
  },
  {
   "cell_type": "markdown",
   "metadata": {},
   "source": [
    "Εντοπίστε έναν πίνακα $5 \\times 5$ που να είναι μη αντιστρέψιμος. Επιβεβαιώστε χρησιμοποιώντας τη συνάρτηση inv()."
   ]
  },
  {
   "cell_type": "code",
   "execution_count": 72,
   "metadata": {
    "collapsed": false
   },
   "outputs": [
    {
     "data": {
      "image/png": "[encoded data removed]",
      "text/latex": [
       "$$\\left[\\begin{matrix}1 & 2 & 3 & 4 & 5\\\\2 & 4 & 6 & 8 & 10\\\\1 & 1 & 1 & 1 & 1\\\\0 & 1 & 1 & 0 & 1\\\\2 & 3 & 4 & 5 & 6\\end{matrix}\\right]$$"
      ],
      "text/plain": [
       "⎡1  2  3  4  5 ⎤\n",
       "⎢              ⎥\n",
       "⎢2  4  6  8  10⎥\n",
       "⎢              ⎥\n",
       "⎢1  1  1  1  1 ⎥\n",
       "⎢              ⎥\n",
       "⎢0  1  1  0  1 ⎥\n",
       "⎢              ⎥\n",
       "⎣2  3  4  5  6 ⎦"
      ]
     },
     "metadata": {},
     "output_type": "display_data"
    }
   ],
   "source": [
    "A = Matrix([[1,2,3,4,5],\n",
    "           [2,4,6,8,10],\n",
    "           [1,1,1,1,1],\n",
    "           [0,1,1,0,1],\n",
    "           [2,3,4,5,6]])\n",
    "display(A)\n",
    "# αν εισαχθεί η εντολή A.inv() θα εμφανιστεί το σφάλμα\n",
    "# ValueError: Matrix det == 0; not invertible."
   ]
  }
 ],
 "metadata": {
  "anaconda-cloud": {},
  "kernelspec": {
   "display_name": "Python [default]",
   "language": "python",
   "name": "python3"
  },
  "language_info": {
   "codemirror_mode": {
    "name": "ipython",
    "version": 3
   },
   "file_extension": ".py",
   "mimetype": "text/x-python",
   "name": "python",
   "nbconvert_exporter": "python",
   "pygments_lexer": "ipython3",
   "version": "3.5.2"
  }
 },
 "nbformat": 4,
 "nbformat_minor": 1
}
