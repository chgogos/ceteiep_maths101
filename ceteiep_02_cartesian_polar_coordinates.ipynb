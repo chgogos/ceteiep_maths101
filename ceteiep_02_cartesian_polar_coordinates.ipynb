{
 "cells": [
  {
   "cell_type": "markdown",
   "metadata": {},
   "source": [
    "## Μαθηματικά για μηχανικούς \n",
    "### ΤΕΙ Ηπείρου Τμήμα Μηχανικών Πληροφορικής ΤΕ\n",
    "\n",
    "### Καρτεσιανές και πολικές συντεταγμένες\n",
    "Γκόγκος Χρήστος"
   ]
  },
  {
   "cell_type": "code",
   "execution_count": 1,
   "metadata": {
    "collapsed": false
   },
   "outputs": [
    {
     "name": "stdout",
     "output_type": "stream",
     "text": [
      "(14.76, 1.08rads)\n",
      "(14.76, 61.70degrees)\n"
     ]
    }
   ],
   "source": [
    "# μετατροπή από καρτεσιανές σε πολικές συντεταγμένες\n",
    "# παράδειγμα C(7,13) --> P(14.76,61.70)\n",
    "import math\n",
    "x = 7\n",
    "y = 13\n",
    "r = math.sqrt(x**2+y**2)\n",
    "theta_r = math.atan(y/x)\n",
    "print('({0:.2f}, {1:.2f}rads)'.format(r,theta_r))\n",
    "theta_d = math.degrees(theta_r)\n",
    "print('({0:.2f}, {1:.2f}degrees)'.format(r,theta_d))"
   ]
  },
  {
   "cell_type": "code",
   "execution_count": 2,
   "metadata": {
    "collapsed": false
   },
   "outputs": [
    {
     "name": "stdout",
     "output_type": "stream",
     "text": [
      "2.60, 1.50\n"
     ]
    }
   ],
   "source": [
    "# μετατροπή από πολικές σε καρτεσιανές συντεταγμένες\n",
    "# παράδειγμα P(3,π/6) --> C(2.60,1.5)\n",
    "import math\n",
    "r = 3\n",
    "theta = math.pi/6\n",
    "x = r * math.cos(theta)\n",
    "y = r * math.sin(theta)\n",
    "print('{0:.2f}, {1:.2f}'.format(x,y))"
   ]
  }
 ],
 "metadata": {
  "kernelspec": {
   "display_name": "Python 3",
   "language": "python",
   "name": "python3"
  },
  "language_info": {
   "codemirror_mode": {
    "name": "ipython",
    "version": 3
   },
   "file_extension": ".py",
   "mimetype": "text/x-python",
   "name": "python",
   "nbconvert_exporter": "python",
   "pygments_lexer": "ipython3",
   "version": "3.4.3"
  }
 },
 "nbformat": 4,
 "nbformat_minor": 0
}
