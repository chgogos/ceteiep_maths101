{
 "cells": [
  {
   "cell_type": "markdown",
   "metadata": {},
   "source": [
    "## Τμήμα Μηχανικών Πληροφορικής ΤΕ ΤΕΙ Ηπείρου\n",
    "Υπολογισμός αριθμητικής τιμής έκφρασηςμε απλή python και με sympy"
   ]
  },
  {
   "cell_type": "code",
   "execution_count": 10,
   "metadata": {
    "collapsed": false
   },
   "outputs": [
    {
     "name": "stdout",
     "output_type": "stream",
     "text": [
      "52562.89164061801\n"
     ]
    }
   ],
   "source": [
    "from math import pi, sqrt\n",
    "t = 60\n",
    "v = 36*pi*t*sqrt(t)\n",
    "print(v)"
   ]
  },
  {
   "cell_type": "code",
   "execution_count": 5,
   "metadata": {
    "collapsed": false
   },
   "outputs": [
    {
     "name": "stdout",
     "output_type": "stream",
     "text": [
      "      3/2\n",
      "36⋅π⋅t   \n"
     ]
    },
    {
     "data": {
      "text/plain": [
       "52562.8916406180"
      ]
     },
     "execution_count": 5,
     "metadata": {},
     "output_type": "execute_result"
    }
   ],
   "source": [
    "from sympy import Symbol, pi, sqrt, pprint\n",
    "t = Symbol('t')\n",
    "expr = 36*pi*t*sqrt(t)\n",
    "pprint(expr)\n",
    "expr.subs(t,60).evalf()"
   ]
  }
 ],
 "metadata": {
  "kernelspec": {
   "display_name": "Python 3",
   "language": "python",
   "name": "python3"
  },
  "language_info": {
   "codemirror_mode": {
    "name": "ipython",
    "version": 3
   },
   "file_extension": ".py",
   "mimetype": "text/x-python",
   "name": "python",
   "nbconvert_exporter": "python",
   "pygments_lexer": "ipython3",
   "version": "3.4.3"
  }
 },
 "nbformat": 4,
 "nbformat_minor": 0
}
