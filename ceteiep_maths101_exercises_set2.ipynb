{
 "cells": [
  {
   "cell_type": "markdown",
   "metadata": {},
   "source": [
    "## ΤΕΙ Ηπείρου - Τμήμα Μηχανικών Πληροφορικής ΤΕ \n",
    "### Μαθηματικά για μηχανικούς  \n",
    "\n",
    "    Προαιρετικές ασκήσεις (Python + sympy) - Β' ΣΕΤ\n",
    "\n",
    "Ανεβάστε το notebook με τις απαντήσεις των ασκήσεων στο github σε λογαριασμό που θα δημιουργήσετε έτσι ώστε να είναι εύκολα προσβάσιμο από οποιονδήποτε\n",
    "\n",
    "### Ασκήσεις σε πίνακες, ορίζουσες, αντίστροφους και επίλυση συστημάτων γραμμικών εξισώσεων στο sympy και στο numpy"
   ]
  },
  {
   "cell_type": "markdown",
   "metadata": {},
   "source": [
    "#### 1. Ορίζουσα - αντίστροφος πίνακα \n",
    "Να ορίσετε τον πίνακα $Α=\\begin{bmatrix} 12 & 1 & 7 \\\\6 &  14 & 2 \\\\7 &  31 & 12 \\end{bmatrix}$. Να υπολογίσετε την ορίζουσά του και τον αντίστροφό του"
   ]
  },
  {
   "cell_type": "code",
   "execution_count": null,
   "metadata": {
    "collapsed": false
   },
   "outputs": [],
   "source": []
  },
  {
   "cell_type": "markdown",
   "metadata": {},
   "source": [
    "#### 2. Ιδιότητες οριζουσών\n",
    "Δείξτε σε συγκεκριμένα παραδείγματα ότι ισχύουν οι ακόλουθες ιδιότητες των οριζουσών:\n",
    "1. Η ορίζουσα ενός πίνακα A και του αναστρόφου του είναι ίσες\n",
    "2. Αν πολλαπλασιάσουμε κάθε στοιχείο ενός πίνακα A $n\\times n$ με το $\\lambda$ τότε η ορίζουσα του νέου πίνακα ισούται με $\\lambda^n*|A|$\n",
    "3. Η ορίζουσα του γινομένου δύο πινάκων ισούται με το γινόμενο των οριζουσών τους\n",
    "4. Η ορίζουσα του αντιστρόφου ενός πίνακα Α ισούται με την αντίστροφη τιμή της ορίζουσας του πίνακα Α\n",
    "\n",
    "Χρησιμοποιήστε ως πίνακα Α έναν πίνακα $4 \\times 4$ της επιλογής σας"
   ]
  },
  {
   "cell_type": "code",
   "execution_count": null,
   "metadata": {
    "collapsed": false
   },
   "outputs": [],
   "source": []
  },
  {
   "cell_type": "markdown",
   "metadata": {},
   "source": [
    "#### 3. Αντιστροφή πίνακα με τη χρήση του συμπληρωματικού πίνακα \n",
    "Να βρεθεί ο αντίστροφος του πίνακα $A=\\begin{bmatrix} 5 & -1 & 7 \\\\ 7 & 0 & 6 \\\\ 4 & -1 &8 \\end{bmatrix}$ με τη χρήση του συμπληρωματικού πίνακα. Να επιβεβαιωθεί ότι είναι ο ίδιος με τον πίνακα που επισττρέφει η συνάρτηση inv()."
   ]
  },
  {
   "cell_type": "code",
   "execution_count": null,
   "metadata": {
    "collapsed": false
   },
   "outputs": [],
   "source": []
  },
  {
   "cell_type": "markdown",
   "metadata": {},
   "source": [
    "#### 4. Επίλυση συστήματος γραμμικών εξισώσεων\n",
    "Να επιλυθεί το ακόλουθο σύστημα εξισώσεων \n",
    "$$2x-3y+z+w=8$$\n",
    "$$x+y-4z-w=2$$\n",
    "$$3x+2y+3w=6$$\n",
    "$$2x-2y+7z-3w=0$$\n",
    "\n",
    "1. με τη χρήση αντίστροφου πίνακα \n",
    "2. με τη μέθοδο του Cramer\n",
    "3. με τη συνάρτηση solve_linear_system του sympy\n",
    "4. με τη συνάρτηση solve του sympy και τη χρήση των εξισώσεων Eq\n",
    "5. με τη συνάρτηση linalg.solve του numpy"
   ]
  },
  {
   "cell_type": "code",
   "execution_count": null,
   "metadata": {
    "collapsed": false
   },
   "outputs": [],
   "source": [
    "# 1. με τη χρήση αντίστροφου πίνακα\n"
   ]
  },
  {
   "cell_type": "code",
   "execution_count": null,
   "metadata": {
    "collapsed": false
   },
   "outputs": [],
   "source": [
    "# 2. με τη μέθοδο του Cramer\n"
   ]
  },
  {
   "cell_type": "code",
   "execution_count": null,
   "metadata": {
    "collapsed": false
   },
   "outputs": [],
   "source": [
    "# 3. με τη συνάρτηση solve_linear_system του sympy\n"
   ]
  },
  {
   "cell_type": "code",
   "execution_count": null,
   "metadata": {
    "collapsed": false
   },
   "outputs": [],
   "source": [
    "# 4. με τη συνάρτηση solve του sympy και τη χρήση των εξισώσεων Eq\n"
   ]
  },
  {
   "cell_type": "code",
   "execution_count": null,
   "metadata": {
    "collapsed": false
   },
   "outputs": [],
   "source": [
    "# 5. με τη συνάρτηση linalg.solve του numpy\n"
   ]
  }
 ],
 "metadata": {
  "anaconda-cloud": {},
  "kernelspec": {
   "display_name": "Python [default]",
   "language": "python",
   "name": "python3"
  },
  "language_info": {
   "codemirror_mode": {
    "name": "ipython",
    "version": 3
   },
   "file_extension": ".py",
   "mimetype": "text/x-python",
   "name": "python",
   "nbconvert_exporter": "python",
   "pygments_lexer": "ipython3",
   "version": "3.5.2"
  }
 },
 "nbformat": 4,
 "nbformat_minor": 1
}
