{
 "cells": [
  {
   "cell_type": "markdown",
   "metadata": {},
   "source": [
    "## ΤΕΙ Ηπείρου - Τμήμα Μηχανικών Πληροφορικής ΤΕ \n",
    "### Μαθηματικά για μηχανικούς  \n",
    "\n",
    "    Τμηματικές συναρτήσεις, διαίρεση πολυωνύμων, επέκταση συνάρτησης, παραγοντοποίηση συνάρτησης, επίλυση εξισώσεων"
   ]
  },
  {
   "cell_type": "code",
   "execution_count": 1,
   "metadata": {
    "collapsed": true
   },
   "outputs": [],
   "source": [
    "from sympy import *\n",
    "init_printing()\n",
    "from IPython.display import display"
   ]
  },
  {
   "cell_type": "markdown",
   "metadata": {},
   "source": [
    "### Τμηματικές συναρτήσεις"
   ]
  },
  {
   "cell_type": "code",
   "execution_count": 2,
   "metadata": {
    "collapsed": false
   },
   "outputs": [
    {
     "name": "stdout",
     "output_type": "stream",
     "text": [
      "x=0.00 f(x)=0.00\n",
      "x=0.20 f(x)=0.04\n",
      "x=0.40 f(x)=0.16\n",
      "x=0.60 f(x)=0.36\n",
      "x=0.80 f(x)=0.64\n",
      "x=1.00 f(x)=1.00\n",
      "x=1.20 f(x)=6.00\n",
      "x=1.40 f(x)=7.00\n",
      "x=1.60 f(x)=8.00\n",
      "x=1.80 f(x)=9.00\n"
     ]
    }
   ],
   "source": [
    "import numpy as np\n",
    "x = Symbol('x')\n",
    "f_x=Piecewise((x**2, x<=1),(5*x,x>1))\n",
    "for i in np.arange(0,2,0.2):\n",
    "    print(\"x=%.2f f(x)=%.2f\" % (i, f_x.subs(x,i)))"
   ]
  },
  {
   "cell_type": "markdown",
   "metadata": {},
   "source": [
    "### Διαίρεση πολυωνύμων"
   ]
  },
  {
   "cell_type": "code",
   "execution_count": 3,
   "metadata": {
    "collapsed": false
   },
   "outputs": [
    {
     "name": "stdout",
     "output_type": "stream",
     "text": [
      "πηλίκο 3*x - 11\n",
      "υπόλοιπο 28*x + 30\n"
     ]
    }
   ],
   "source": [
    "f = 3*x**3-2*x**2+4*x-3\n",
    "d = x**2+3*x+3\n",
    "q, r = div(f,d,x)\n",
    "print(\"πηλίκο\", q)\n",
    "print(\"υπόλοιπο\", r)"
   ]
  },
  {
   "cell_type": "markdown",
   "metadata": {},
   "source": [
    "### Επέκταση συνάρτησης"
   ]
  },
  {
   "cell_type": "code",
   "execution_count": 4,
   "metadata": {
    "collapsed": false
   },
   "outputs": [
    {
     "data": {
      "image/png": "[encoded data removed]",
      "text/latex": [
       "$$\\left ( \\left(x + 1\\right) \\left(x + 2\\right) \\left(x + 3\\right), \\quad x^{3} + 6 x^{2} + 11 x + 6\\right )$$"
      ],
      "text/plain": [
       "⎛                          3      2           ⎞\n",
       "⎝(x + 1)⋅(x + 2)⋅(x + 3), x  + 6⋅x  + 11⋅x + 6⎠"
      ]
     },
     "execution_count": 4,
     "metadata": {},
     "output_type": "execute_result"
    }
   ],
   "source": [
    "f_x = (x+1)*(x+2)*(x+3)\n",
    "f_x, expand(f_x)"
   ]
  },
  {
   "cell_type": "markdown",
   "metadata": {},
   "source": [
    "### Παραγοντοποίηση συνάρτησης"
   ]
  },
  {
   "cell_type": "code",
   "execution_count": 5,
   "metadata": {
    "collapsed": false
   },
   "outputs": [
    {
     "data": {
      "image/png": "[encoded data removed]",
      "text/latex": [
       "$$\\left(2 x - 3\\right) \\left(2 x + 3\\right)$$"
      ],
      "text/plain": [
       "(2⋅x - 3)⋅(2⋅x + 3)"
      ]
     },
     "execution_count": 5,
     "metadata": {},
     "output_type": "execute_result"
    }
   ],
   "source": [
    "# διαφορά τετραγώνων\n",
    "factor(4*x**2 -9)"
   ]
  },
  {
   "cell_type": "code",
   "execution_count": 6,
   "metadata": {
    "collapsed": false
   },
   "outputs": [
    {
     "data": {
      "image/png": "[encoded data removed]",
      "text/latex": [
       "$$\\left(x + 3\\right) \\left(x^{2} - 3 x + 9\\right)$$"
      ],
      "text/plain": [
       "        ⎛ 2          ⎞\n",
       "(x + 3)⋅⎝x  - 3⋅x + 9⎠"
      ]
     },
     "execution_count": 6,
     "metadata": {},
     "output_type": "execute_result"
    }
   ],
   "source": [
    "# άθροισμα κύβων\n",
    "factor(x**3+27)"
   ]
  },
  {
   "cell_type": "markdown",
   "metadata": {},
   "source": [
    "#### Παραγοντοποίηση διωνύμου με χρήση αναλυτικού τύπου\n",
    "---\n",
    "$$ \\Delta = b^2 - 4ac $$\n",
    "$$ x_1,x_2 = \\frac{-b\\pm\\sqrt{\\Delta}}{2a} $$ "
   ]
  },
  {
   "cell_type": "code",
   "execution_count": 7,
   "metadata": {
    "collapsed": false
   },
   "outputs": [
    {
     "data": {
      "image/png": "[encoded data removed]",
      "text/latex": [
       "$$3 x^{2} + 9 x - 30$$"
      ],
      "text/plain": [
       "   2           \n",
       "3⋅x  + 9⋅x - 30"
      ]
     },
     "metadata": {},
     "output_type": "display_data"
    },
    {
     "data": {
      "image/png": "[encoded data removed]",
      "text/latex": [
       "$$3 \\left(x - 2\\right) \\left(x + 5\\right)$$"
      ],
      "text/plain": [
       "3⋅(x - 2)⋅(x + 5)"
      ]
     },
     "metadata": {},
     "output_type": "display_data"
    },
    {
     "name": "stdout",
     "output_type": "stream",
     "text": [
      "3*(x-2.0)*(x--5.0)\n"
     ]
    }
   ],
   "source": [
    "display(3*x**2+9*x-30)\n",
    "display(factor(3*x**2+9*x-30))\n",
    "\n",
    "from math import sqrt\n",
    "a = 3\n",
    "b = 9\n",
    "c = -30\n",
    "delta = b**2 -4*a*c\n",
    "x1 = (-b+sqrt(delta))/(2*a)\n",
    "x2 = (-b-sqrt(delta))/(2*a)\n",
    "print('{0}*(x-{1})*(x-{2})'.format(a,x1, x2))"
   ]
  },
  {
   "cell_type": "markdown",
   "metadata": {},
   "source": [
    "### Επίλυση εξισώσεων \n",
    "#### Επίλυση πολυωνυμικών εξισώσεων"
   ]
  },
  {
   "cell_type": "code",
   "execution_count": 8,
   "metadata": {
    "collapsed": false
   },
   "outputs": [
    {
     "data": {
      "image/png": "[encoded data removed]",
      "text/latex": [
       "$$\\left [ -5, \\quad 2\\right ]$$"
      ],
      "text/plain": [
       "[-5, 2]"
      ]
     },
     "execution_count": 8,
     "metadata": {},
     "output_type": "execute_result"
    }
   ],
   "source": [
    "# επίλυση εξίσωσης (sympy)\n",
    "solve(3*x**2+9*x-30,x)"
   ]
  },
  {
   "cell_type": "code",
   "execution_count": 9,
   "metadata": {
    "collapsed": false
   },
   "outputs": [
    {
     "data": {
      "text/plain": [
       "array([-5.,  2.])"
      ]
     },
     "execution_count": 9,
     "metadata": {},
     "output_type": "execute_result"
    }
   ],
   "source": [
    "# επίλυση εξίσωσης (numpy)\n",
    "import numpy as np\n",
    "coef = [3, 9, -30]\n",
    "np.roots(coef)"
   ]
  },
  {
   "cell_type": "markdown",
   "metadata": {},
   "source": [
    "#### Επίλυση εκθετικών και λογαριθμικών εξισώσεων"
   ]
  },
  {
   "cell_type": "code",
   "execution_count": 10,
   "metadata": {
    "collapsed": false
   },
   "outputs": [
    {
     "data": {
      "image/png": "[encoded data removed]",
      "text/latex": [
       "$$10^{2 x} - 17$$"
      ],
      "text/plain": [
       "  2⋅x     \n",
       "10    - 17"
      ]
     },
     "metadata": {},
     "output_type": "display_data"
    },
    {
     "data": {
      "image/png": "[encoded data removed]",
      "text/latex": [
       "$$\\left [ \\frac{\\frac{1}{2} \\log{\\left (17 \\right )} + i \\pi}{\\log{\\left (10 \\right )}}, \\quad \\frac{\\log{\\left (17 \\right )}}{2 \\log{\\left (10 \\right )}}\\right ]$$"
      ],
      "text/plain": [
       "⎡log(17)                 ⎤\n",
       "⎢─────── + ⅈ⋅π           ⎥\n",
       "⎢   2            log(17) ⎥\n",
       "⎢─────────────, ─────────⎥\n",
       "⎣   log(10)     2⋅log(10)⎦"
      ]
     },
     "execution_count": 10,
     "metadata": {},
     "output_type": "execute_result"
    }
   ],
   "source": [
    "expr = 10**(2*x)-17\n",
    "display(expr)\n",
    "solve(expr,x)"
   ]
  },
  {
   "cell_type": "code",
   "execution_count": 11,
   "metadata": {
    "collapsed": false
   },
   "outputs": [
    {
     "data": {
      "image/png": "[encoded data removed]",
      "text/latex": [
       "$$\\left [ 103\\right ]$$"
      ],
      "text/plain": [
       "[103]"
      ]
     },
     "execution_count": 11,
     "metadata": {},
     "output_type": "execute_result"
    }
   ],
   "source": [
    "expr = log(x-3,10)-2\n",
    "solve(expr)"
   ]
  }
 ],
 "metadata": {
  "anaconda-cloud": {},
  "kernelspec": {
   "display_name": "Python [default]",
   "language": "python",
   "name": "python3"
  },
  "language_info": {
   "codemirror_mode": {
    "name": "ipython",
    "version": 3
   },
   "file_extension": ".py",
   "mimetype": "text/x-python",
   "name": "python",
   "nbconvert_exporter": "python",
   "pygments_lexer": "ipython3",
   "version": "3.5.2"
  }
 },
 "nbformat": 4,
 "nbformat_minor": 1
}
