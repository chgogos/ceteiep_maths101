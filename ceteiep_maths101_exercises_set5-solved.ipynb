{
 "cells": [
  {
   "cell_type": "markdown",
   "metadata": {},
   "source": [
    "## ΤΕΙ Ηπείρου - Τμήμα Μηχανικών Πληροφορικής ΤΕ \n",
    "### Μαθηματικά για μηχανικούς  \n",
    "\n",
    "    Προαιρετικές ασκήσεις (Python + sympy) - Ε' ΣΕΤ\n",
    "\n",
    "Ανεβάστε το notebook με τις απαντήσεις των ασκήσεων στο github σε λογαριασμό που θα δημιουργήσετε έτσι ώστε να είναι εύκολα προσβάσιμο από οποιονδήποτε\n",
    "### Μιγαδικοί αριθμοί"
   ]
  },
  {
   "cell_type": "markdown",
   "metadata": {},
   "source": [
    "#### 1. Να υπολογιστεί η χιλιστή δύναμη του φανταστικού αριθμού i"
   ]
  },
  {
   "cell_type": "code",
   "execution_count": 1,
   "metadata": {
    "collapsed": false
   },
   "outputs": [
    {
     "data": {
      "image/png": "[encoded data removed]",
      "text/latex": [
       "$$1$$"
      ],
      "text/plain": [
       "1"
      ]
     },
     "execution_count": 1,
     "metadata": {},
     "output_type": "execute_result"
    }
   ],
   "source": [
    "from sympy import *\n",
    "from IPython.display import display\n",
    "init_printing()\n",
    "I**1000"
   ]
  },
  {
   "cell_type": "markdown",
   "metadata": {},
   "source": [
    "#### 2. Να βρεθεί ο συζυγής του $z=\\sqrt{3}+2i$ και  να υπολογιστεί το γινόμενό του με τon $z$"
   ]
  },
  {
   "cell_type": "code",
   "execution_count": 2,
   "metadata": {
    "collapsed": false
   },
   "outputs": [
    {
     "data": {
      "image/png": "[encoded data removed]",
      "text/latex": [
       "$$\\sqrt{3} + 2 i$$"
      ],
      "text/plain": [
       "√3 + 2⋅ⅈ"
      ]
     },
     "metadata": {},
     "output_type": "display_data"
    },
    {
     "data": {
      "image/png": "[encoded data removed]",
      "text/latex": [
       "$$\\sqrt{3} - 2 i$$"
      ],
      "text/plain": [
       "√3 - 2⋅ⅈ"
      ]
     },
     "metadata": {},
     "output_type": "display_data"
    },
    {
     "data": {
      "image/png": "[encoded data removed]",
      "text/latex": [
       "$$\\left(\\sqrt{3} - 2 i\\right) \\left(\\sqrt{3} + 2 i\\right)$$"
      ],
      "text/plain": [
       "(√3 - 2⋅ⅈ)⋅(√3 + 2⋅ⅈ)"
      ]
     },
     "metadata": {},
     "output_type": "display_data"
    },
    {
     "data": {
      "image/png": "[encoded data removed]",
      "text/latex": [
       "$$7$$"
      ],
      "text/plain": [
       "7"
      ]
     },
     "metadata": {},
     "output_type": "display_data"
    }
   ],
   "source": [
    "z = sqrt(3)+2*I\n",
    "cz = conjugate(z)\n",
    "display(z)\n",
    "display(cz)\n",
    "display(z*cz)\n",
    "display(simplify(z*cz))"
   ]
  },
  {
   "cell_type": "markdown",
   "metadata": {},
   "source": [
    "#### 3. Πράξεις με μιγαδικούς \n",
    "Να επιλεγούν τυχαίοι μιγαδικοί αριθμοί και να γίνουν οι ακόλουθες αριθμητικές πράξεις\n",
    "* Άθροισμα\n",
    "* Αφαίρεση\n",
    "* Πολλαπλασιασμός\n",
    "* Ύψωση σε δύναμη\n",
    "* Διαίρεση"
   ]
  },
  {
   "cell_type": "code",
   "execution_count": 4,
   "metadata": {
    "collapsed": false
   },
   "outputs": [
    {
     "data": {
      "image/png": "[encoded data removed]",
      "text/latex": [
       "$$5 + 3 i$$"
      ],
      "text/plain": [
       "5 + 3⋅ⅈ"
      ]
     },
     "metadata": {},
     "output_type": "display_data"
    },
    {
     "data": {
      "image/png": "[encoded data removed]",
      "text/latex": [
       "$$-1 + 7 i$$"
      ],
      "text/plain": [
       "-1 + 7⋅ⅈ"
      ]
     },
     "metadata": {},
     "output_type": "display_data"
    },
    {
     "data": {
      "image/png": "[encoded data removed]",
      "text/latex": [
       "$$16 + 11 i$$"
      ],
      "text/plain": [
       "16 + 11⋅ⅈ"
      ]
     },
     "metadata": {},
     "output_type": "display_data"
    },
    {
     "data": {
      "image/png": "[encoded data removed]",
      "text/latex": [
       "$$-142 - 65 i$$"
      ],
      "text/plain": [
       "-142 - 65⋅ⅈ"
      ]
     },
     "metadata": {},
     "output_type": "display_data"
    },
    {
     "data": {
      "image/png": "[encoded data removed]",
      "text/latex": [
       "$$- \\frac{4}{13} + \\frac{19 i}{13}$$"
      ],
      "text/plain": [
       "  4    19⋅ⅈ\n",
       "- ── + ────\n",
       "  13    13 "
      ]
     },
     "metadata": {},
     "output_type": "display_data"
    }
   ],
   "source": [
    "a = 2 + 5*I\n",
    "b = 3 - 2*I\n",
    "display(a+b)\n",
    "display(a-b)\n",
    "display(simplify(a*b))\n",
    "display(expand(a**3))\n",
    "display(simplify(a/b))"
   ]
  },
  {
   "cell_type": "markdown",
   "metadata": {},
   "source": [
    "#### 4. Μέτρο και όρισμα μιγαδικού αριθμού\n",
    "Να βρεθεί το μέτρο και το όρισμα του μιγαδικού αριθμού $z=5+5i$"
   ]
  },
  {
   "cell_type": "code",
   "execution_count": 5,
   "metadata": {
    "collapsed": false
   },
   "outputs": [
    {
     "data": {
      "image/png": "[encoded data removed]",
      "text/latex": [
       "$$5 \\sqrt{2}$$"
      ],
      "text/plain": [
       "5⋅√2"
      ]
     },
     "metadata": {},
     "output_type": "display_data"
    },
    {
     "data": {
      "image/png": "[encoded data removed]",
      "text/latex": [
       "$$\\frac{\\pi}{4}$$"
      ],
      "text/plain": [
       "π\n",
       "─\n",
       "4"
      ]
     },
     "metadata": {},
     "output_type": "display_data"
    }
   ],
   "source": [
    "z= 5+5*I\n",
    "r=  Abs(z)\n",
    "phi = arg(z)\n",
    "display(r)\n",
    "display(phi)"
   ]
  },
  {
   "cell_type": "markdown",
   "metadata": {},
   "source": [
    "#### 5. Επίλυση εξίσωσης 5ου βαθμού\n",
    "Να επιλυθεί η εξίσωση $x^5-2x^4+3x^3-x^2+2x=1$"
   ]
  },
  {
   "cell_type": "code",
   "execution_count": null,
   "metadata": {
    "collapsed": false
   },
   "outputs": [],
   "source": [
    "x = Symbol('x')\n",
    "eq = x**5 - 2*x**4 +3*x**3 - x**2 + 2*x -1\n",
    "results = solve(eq)\n",
    "for i in range(5):\n",
    "    display(results[i].evalf())"
   ]
  }
 ],
 "metadata": {
  "anaconda-cloud": {},
  "kernelspec": {
   "display_name": "Python [default]",
   "language": "python",
   "name": "python3"
  },
  "language_info": {
   "codemirror_mode": {
    "name": "ipython",
    "version": 3
   },
   "file_extension": ".py",
   "mimetype": "text/x-python",
   "name": "python",
   "nbconvert_exporter": "python",
   "pygments_lexer": "ipython3",
   "version": "3.5.2"
  }
 },
 "nbformat": 4,
 "nbformat_minor": 1
}
