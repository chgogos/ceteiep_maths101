{
 "cells": [
  {
   "cell_type": "markdown",
   "metadata": {},
   "source": [
    "# Τμήμα Μηχανικών Πληροφορικής ΤΕ ΤΕΙ Ηπείρου\n",
    "## Διαδοχικοί μετασχηματισμοί συναρτήσεων"
   ]
  },
  {
   "cell_type": "code",
   "execution_count": 1,
   "metadata": {
    "collapsed": true
   },
   "outputs": [],
   "source": [
    "%matplotlib inline"
   ]
  },
  {
   "cell_type": "code",
   "execution_count": 4,
   "metadata": {
    "collapsed": false
   },
   "outputs": [
    {
     "data": {
      "image/png": "[encoded data removed]",
      "text/plain": [
       "<matplotlib.figure.Figure at 0x8143470>"
      ]
     },
     "metadata": {},
     "output_type": "display_data"
    }
   ],
   "source": [
    "from sympy import Symbol\n",
    "from sympy.plotting import plot\n",
    "\n",
    "x= Symbol('x')\n",
    "expr = x**3 - x -2 \n",
    "p=plot(expr, (x,-10,10),ylim=(-20,20), title= expr)"
   ]
  },
  {
   "cell_type": "markdown",
   "metadata": {},
   "source": [
    "### Μετασχηματισμός της $f(x)=x^3-x-2$\n",
    "\n",
    "1. Δεξιά μετατόπιση κατά 2\n",
    "2. Κατακόρυφη μετατόπιση κατά 5 προς τα κάτω \n",
    "3. Οριζόντια αντιστροφή\n",
    "\n",
    "Προκύπτει η συνάρτηση\n",
    "\n",
    "$$f(x) = (-x-2)^3 - (-x - 2) - 2 - 5 = -x^3-6x^2-11x-13$$ "
   ]
  },
  {
   "cell_type": "code",
   "execution_count": 17,
   "metadata": {
    "collapsed": false
   },
   "outputs": [
    {
     "name": "stdout",
     "output_type": "stream",
     "text": [
      "   3      2            \n",
      "- x  - 6⋅x  - 11⋅x - 13\n"
     ]
    },
    {
     "data": {
      "image/png": "[encoded data removed]",
      "text/plain": [
       "<matplotlib.figure.Figure at 0x931aef0>"
      ]
     },
     "metadata": {},
     "output_type": "display_data"
    }
   ],
   "source": [
    "from sympy import Symbol, expand, pprint\n",
    "from sympy.plotting import plot\n",
    "\n",
    "x= Symbol('x')\n",
    "# expr = x**3 - x - 2 \n",
    "# expr = (x-2)**3 - (x - 2) - 2  # μετακίνηση προς τα δεξιά κατά 2\n",
    "# expr = (x-2)**3 - (x - 2) - 2 - 5 # μετακίνηση προς τα κάτω κατά 5\n",
    "# expr = (-x-2)**3 - (-x - 2) - 2 - 5 # οριζόντια αντιστροφή\n",
    "expr = (-x-2)**3 + x - 5\n",
    "pprint(expand(expr))\n",
    "p=plot(expr, (x,-10,10),ylim=(-20,20))"
   ]
  }
 ],
 "metadata": {
  "kernelspec": {
   "display_name": "Python 2",
   "language": "python",
   "name": "python2"
  },
  "language_info": {
   "codemirror_mode": {
    "name": "ipython",
    "version": 2
   },
   "file_extension": ".py",
   "mimetype": "text/x-python",
   "name": "python",
   "nbconvert_exporter": "python",
   "pygments_lexer": "ipython2",
   "version": "2.7.10"
  }
 },
 "nbformat": 4,
 "nbformat_minor": 0
}
