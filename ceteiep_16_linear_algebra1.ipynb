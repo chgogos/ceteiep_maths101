{
 "cells": [
  {
   "cell_type": "markdown",
   "metadata": {},
   "source": [
    "## Μαθηματικά για μηχανικούς \n",
    "### ΤΕΙ Ηπείρου Τμήμα Μηχανικών Πληροφορικής ΤΕ\n",
    "### Γραμμική Άλγεβρα - βασικές πράξεις με πίνακες\n",
    "Γκόγκος Χρήστος"
   ]
  },
  {
   "cell_type": "code",
   "execution_count": 9,
   "metadata": {
    "collapsed": false
   },
   "outputs": [],
   "source": [
    "from sympy import *\n",
    "from IPython.display import display\n",
    "init_printing()"
   ]
  },
  {
   "cell_type": "code",
   "execution_count": 10,
   "metadata": {
    "collapsed": false
   },
   "outputs": [
    {
     "data": {
      "image/png": "[encoded data removed]",
      "text/latex": [
       "$$\\left[\\begin{matrix}12 & -1 & -8 & 7\\\\-2 & -1 & 20 & -7\\\\1 & 0 & -3 & 6\\end{matrix}\\right]$$"
      ],
      "text/plain": [
       "⎡12  -1  -8  7 ⎤\n",
       "⎢              ⎥\n",
       "⎢-2  -1  20  -7⎥\n",
       "⎢              ⎥\n",
       "⎣1   0   -3  6 ⎦"
      ]
     },
     "execution_count": 10,
     "metadata": {},
     "output_type": "execute_result"
    }
   ],
   "source": [
    "A = Matrix([[12,-1,-8,7],\n",
    "           [-2,-1,20,-7],\n",
    "           [1,0,-3,6]])\n",
    "A"
   ]
  },
  {
   "cell_type": "code",
   "execution_count": 11,
   "metadata": {
    "collapsed": false
   },
   "outputs": [
    {
     "data": {
      "image/png": "[encoded data removed]",
      "text/latex": [
       "$$12$$"
      ],
      "text/plain": [
       "12"
      ]
     },
     "execution_count": 11,
     "metadata": {},
     "output_type": "execute_result"
    }
   ],
   "source": [
    "# Η αρίθμηση των δεικτών ξεκινά από το μηδέν\n",
    "A[0,0]"
   ]
  },
  {
   "cell_type": "code",
   "execution_count": 12,
   "metadata": {
    "collapsed": false
   },
   "outputs": [
    {
     "data": {
      "image/png": "[encoded data removed]",
      "text/latex": [
       "$$\\left[\\begin{matrix}12 & -1 & -8\\\\-2 & -1 & 20\\end{matrix}\\right]$$"
      ],
      "text/plain": [
       "⎡12  -1  -8⎤\n",
       "⎢          ⎥\n",
       "⎣-2  -1  20⎦"
      ]
     },
     "execution_count": 12,
     "metadata": {},
     "output_type": "execute_result"
    }
   ],
   "source": [
    "# Τμήμα πίνακα (γραμμές 0 και 1, στήλες 0,1 και 2)\n",
    "A[0:2,0:3]"
   ]
  },
  {
   "cell_type": "code",
   "execution_count": 22,
   "metadata": {
    "collapsed": false
   },
   "outputs": [
    {
     "data": {
      "image/png": "[encoded data removed]",
      "text/latex": [
       "$$\\left[\\begin{matrix}1 & 0 & 0 & 0 & 0\\\\0 & 1 & 0 & 0 & 0\\\\0 & 0 & 1 & 0 & 0\\\\0 & 0 & 0 & 1 & 0\\\\0 & 0 & 0 & 0 & 1\\end{matrix}\\right]$$"
      ],
      "text/plain": [
       "⎡1  0  0  0  0⎤\n",
       "⎢             ⎥\n",
       "⎢0  1  0  0  0⎥\n",
       "⎢             ⎥\n",
       "⎢0  0  1  0  0⎥\n",
       "⎢             ⎥\n",
       "⎢0  0  0  1  0⎥\n",
       "⎢             ⎥\n",
       "⎣0  0  0  0  1⎦"
      ]
     },
     "execution_count": 22,
     "metadata": {},
     "output_type": "execute_result"
    }
   ],
   "source": [
    "# Μοναδιαίος πίνακας\n",
    "eye(5)"
   ]
  },
  {
   "cell_type": "code",
   "execution_count": 14,
   "metadata": {
    "collapsed": false
   },
   "outputs": [
    {
     "data": {
      "image/png": "[encoded data removed]",
      "text/latex": [
       "$$\\left[\\begin{matrix}0 & 0 & 0 & 0\\\\0 & 0 & 0 & 0\\\\0 & 0 & 0 & 0\\\\0 & 0 & 0 & 0\\end{matrix}\\right]$$"
      ],
      "text/plain": [
       "⎡0  0  0  0⎤\n",
       "⎢          ⎥\n",
       "⎢0  0  0  0⎥\n",
       "⎢          ⎥\n",
       "⎢0  0  0  0⎥\n",
       "⎢          ⎥\n",
       "⎣0  0  0  0⎦"
      ]
     },
     "execution_count": 14,
     "metadata": {},
     "output_type": "execute_result"
    }
   ],
   "source": [
    "# Μηδενικός πίνακας\n",
    "zeros(4)"
   ]
  },
  {
   "cell_type": "code",
   "execution_count": 39,
   "metadata": {
    "collapsed": false
   },
   "outputs": [
    {
     "data": {
      "image/png": "[encoded data removed]",
      "text/latex": [
       "$$\\left[\\begin{matrix}5 & 2 & 3 & 1 & 0\\\\2 & 6 & 7 & 8 & 2\\\\3 & 7 & 1 & 6 & 4\\\\1 & 8 & 6 & 8 & 3\\\\0 & 2 & 4 & 3 & 2\\end{matrix}\\right]$$"
      ],
      "text/plain": [
       "⎡5  2  3  1  0⎤\n",
       "⎢             ⎥\n",
       "⎢2  6  7  8  2⎥\n",
       "⎢             ⎥\n",
       "⎢3  7  1  6  4⎥\n",
       "⎢             ⎥\n",
       "⎢1  8  6  8  3⎥\n",
       "⎢             ⎥\n",
       "⎣0  2  4  3  2⎦"
      ]
     },
     "metadata": {},
     "output_type": "display_data"
    },
    {
     "data": {
      "image/png": "[encoded data removed]",
      "text/latex": [
       "$$\\left[\\begin{matrix}5 & 2 & 3 & 1 & 0\\\\2 & 6 & 7 & 8 & 2\\\\3 & 7 & 1 & 6 & 4\\\\1 & 8 & 6 & 8 & 3\\\\0 & 2 & 4 & 3 & 2\\end{matrix}\\right]$$"
      ],
      "text/plain": [
       "⎡5  2  3  1  0⎤\n",
       "⎢             ⎥\n",
       "⎢2  6  7  8  2⎥\n",
       "⎢             ⎥\n",
       "⎢3  7  1  6  4⎥\n",
       "⎢             ⎥\n",
       "⎢1  8  6  8  3⎥\n",
       "⎢             ⎥\n",
       "⎣0  2  4  3  2⎦"
      ]
     },
     "metadata": {},
     "output_type": "display_data"
    }
   ],
   "source": [
    "# Ανάστροφος πίνακα\n",
    "display(A.transpose())\n",
    "# εναλλακτικά μπορεί να γραφεί ως Α.Τ\n",
    "display(A.T)"
   ]
  },
  {
   "cell_type": "code",
   "execution_count": 19,
   "metadata": {
    "collapsed": false
   },
   "outputs": [
    {
     "data": {
      "image/png": "[encoded data removed]",
      "text/latex": [
       "$$\\left[\\begin{matrix}5 & 2 & 3 & 1 & 0\\\\2 & 6 & 7 & 8 & 2\\\\3 & 7 & 1 & 6 & 4\\\\1 & 8 & 6 & 8 & 3\\\\0 & 2 & 4 & 3 & 2\\end{matrix}\\right]$$"
      ],
      "text/plain": [
       "⎡5  2  3  1  0⎤\n",
       "⎢             ⎥\n",
       "⎢2  6  7  8  2⎥\n",
       "⎢             ⎥\n",
       "⎢3  7  1  6  4⎥\n",
       "⎢             ⎥\n",
       "⎢1  8  6  8  3⎥\n",
       "⎢             ⎥\n",
       "⎣0  2  4  3  2⎦"
      ]
     },
     "metadata": {},
     "output_type": "display_data"
    },
    {
     "data": {
      "image/png": "[encoded data removed]",
      "text/latex": [
       "$$\\left[\\begin{matrix}5 & 2 & 3 & 1 & 0\\\\2 & 6 & 7 & 8 & 2\\\\3 & 7 & 1 & 6 & 4\\\\1 & 8 & 6 & 8 & 3\\\\0 & 2 & 4 & 3 & 2\\end{matrix}\\right]$$"
      ],
      "text/plain": [
       "⎡5  2  3  1  0⎤\n",
       "⎢             ⎥\n",
       "⎢2  6  7  8  2⎥\n",
       "⎢             ⎥\n",
       "⎢3  7  1  6  4⎥\n",
       "⎢             ⎥\n",
       "⎢1  8  6  8  3⎥\n",
       "⎢             ⎥\n",
       "⎣0  2  4  3  2⎦"
      ]
     },
     "metadata": {},
     "output_type": "display_data"
    },
    {
     "data": {
      "text/plain": [
       "True"
      ]
     },
     "execution_count": 19,
     "metadata": {},
     "output_type": "execute_result"
    }
   ],
   "source": [
    "# Συμμετρικός πίνακας\n",
    "A = Matrix([[5,2,3,1,0],[2,6,7,8,2],[3,7,1,6,4],[1,8,6,8,3],[0,2,4,3,2]])\n",
    "display(A)\n",
    "display(A.transpose())\n",
    "A==A.transpose()"
   ]
  },
  {
   "cell_type": "markdown",
   "metadata": {},
   "source": [
    "### Πρόσθεση πινάκων\n",
    "$\\left[\\begin{matrix}12 & 3 & -4\\\\3 & 6 & 1\\end{matrix}\\right] + \\left[\\begin{matrix}1 & 5 & -2\\\\13 & 6 & -1\\end{matrix}\\right] = \\left[\\begin{matrix}13 & 8 & -6\\\\16 & 12 & 0\\end{matrix}\\right]$"
   ]
  },
  {
   "cell_type": "code",
   "execution_count": 42,
   "metadata": {
    "collapsed": false
   },
   "outputs": [
    {
     "data": {
      "image/png": "[encoded data removed]",
      "text/latex": [
       "$$\\left[\\begin{matrix}1 & 5 & -2\\\\13 & 6 & -1\\end{matrix}\\right]$$"
      ],
      "text/plain": [
       "⎡1   5  -2⎤\n",
       "⎢         ⎥\n",
       "⎣13  6  -1⎦"
      ]
     },
     "metadata": {},
     "output_type": "display_data"
    },
    {
     "data": {
      "image/png": "[encoded data removed]",
      "text/latex": [
       "$$\\left[\\begin{matrix}12 & 3 & -4\\\\3 & 6 & 1\\end{matrix}\\right]$$"
      ],
      "text/plain": [
       "⎡12  3  -4⎤\n",
       "⎢         ⎥\n",
       "⎣3   6  1 ⎦"
      ]
     },
     "metadata": {},
     "output_type": "display_data"
    },
    {
     "data": {
      "image/png": "[encoded data removed]",
      "text/latex": [
       "$$\\left[\\begin{matrix}13 & 8 & -6\\\\16 & 12 & 0\\end{matrix}\\right]$$"
      ],
      "text/plain": [
       "⎡13  8   -6⎤\n",
       "⎢          ⎥\n",
       "⎣16  12  0 ⎦"
      ]
     },
     "execution_count": 42,
     "metadata": {},
     "output_type": "execute_result"
    }
   ],
   "source": [
    "# Πρόσθεση πινάκων\n",
    "A = Matrix([[12,3,-4],[3,6,1]])\n",
    "A = Matrix([[1,5,-2],[13,6,-1]])\n",
    "display(A)\n",
    "display(B)\n",
    "A + B"
   ]
  },
  {
   "cell_type": "code",
   "execution_count": 43,
   "metadata": {
    "collapsed": false
   },
   "outputs": [
    {
     "data": {
      "image/png": "[encoded data removed]",
      "text/latex": [
       "$$\\left[\\begin{matrix}-11 & 2 & 2\\\\10 & 0 & -2\\end{matrix}\\right]$$"
      ],
      "text/plain": [
       "⎡-11  2  2 ⎤\n",
       "⎢          ⎥\n",
       "⎣10   0  -2⎦"
      ]
     },
     "execution_count": 43,
     "metadata": {},
     "output_type": "execute_result"
    }
   ],
   "source": [
    "# Αφαίρεση πινάκων\n",
    "A - B"
   ]
  },
  {
   "cell_type": "code",
   "execution_count": 44,
   "metadata": {
    "collapsed": false
   },
   "outputs": [
    {
     "data": {
      "image/png": "[encoded data removed]",
      "text/latex": [
       "$$\\left[\\begin{matrix}1 & 5 & -2\\\\13 & 6 & -1\\end{matrix}\\right]$$"
      ],
      "text/plain": [
       "⎡1   5  -2⎤\n",
       "⎢         ⎥\n",
       "⎣13  6  -1⎦"
      ]
     },
     "metadata": {},
     "output_type": "display_data"
    },
    {
     "data": {
      "image/png": "[encoded data removed]",
      "text/latex": [
       "$$\\left[\\begin{matrix}2 & 10 & -4\\\\26 & 12 & -2\\end{matrix}\\right]$$"
      ],
      "text/plain": [
       "⎡2   10  -4⎤\n",
       "⎢          ⎥\n",
       "⎣26  12  -2⎦"
      ]
     },
     "execution_count": 44,
     "metadata": {},
     "output_type": "execute_result"
    }
   ],
   "source": [
    "# Πολλαπλασιασμός βαθμωτής τιμής (scalar) με πίνακα\n",
    "display(A)\n",
    "2*A"
   ]
  },
  {
   "cell_type": "code",
   "execution_count": 47,
   "metadata": {
    "collapsed": false
   },
   "outputs": [
    {
     "data": {
      "image/png": "[encoded data removed]",
      "text/latex": [
       "$$\\left[\\begin{matrix}2 & 3 & 0\\\\1 & 3 & 4\\\\3 & 7 & 2\\\\5 & 16 & 2\\end{matrix}\\right]$$"
      ],
      "text/plain": [
       "⎡2  3   0⎤\n",
       "⎢        ⎥\n",
       "⎢1  3   4⎥\n",
       "⎢        ⎥\n",
       "⎢3  7   2⎥\n",
       "⎢        ⎥\n",
       "⎣5  16  2⎦"
      ]
     },
     "metadata": {},
     "output_type": "display_data"
    },
    {
     "data": {
      "image/png": "[encoded data removed]",
      "text/latex": [
       "$$\\left[\\begin{matrix}5 & 7 & 18\\\\0 & 8 & 1\\\\2 & 0 & 3\\end{matrix}\\right]$$"
      ],
      "text/plain": [
       "⎡5  7  18⎤\n",
       "⎢        ⎥\n",
       "⎢0  8  1 ⎥\n",
       "⎢        ⎥\n",
       "⎣2  0  3 ⎦"
      ]
     },
     "metadata": {},
     "output_type": "display_data"
    },
    {
     "data": {
      "image/png": "[encoded data removed]",
      "text/latex": [
       "$$\\left[\\begin{matrix}10 & 38 & 39\\\\13 & 31 & 33\\\\19 & 77 & 67\\\\29 & 163 & 112\\end{matrix}\\right]$$"
      ],
      "text/plain": [
       "⎡10  38   39 ⎤\n",
       "⎢            ⎥\n",
       "⎢13  31   33 ⎥\n",
       "⎢            ⎥\n",
       "⎢19  77   67 ⎥\n",
       "⎢            ⎥\n",
       "⎣29  163  112⎦"
      ]
     },
     "execution_count": 47,
     "metadata": {},
     "output_type": "execute_result"
    }
   ],
   "source": [
    "A = Matrix([[2,3,0],[1,3,4],[3,7,2],[5,16,2]])\n",
    "B = Matrix([[5,7,18],[0,8,1],[2,0,3]])\n",
    "# Πολλαπλασιασμός πινάκων\n",
    "display(A)\n",
    "display(B)\n",
    "A * B"
   ]
  },
  {
   "cell_type": "code",
   "execution_count": 50,
   "metadata": {
    "collapsed": false
   },
   "outputs": [
    {
     "data": {
      "image/png": "[encoded data removed]",
      "text/latex": [
       "$$\\left[\\begin{matrix}3 & 2\\\\1 & 5\\end{matrix}\\right]$$"
      ],
      "text/plain": [
       "⎡3  2⎤\n",
       "⎢    ⎥\n",
       "⎣1  5⎦"
      ]
     },
     "metadata": {},
     "output_type": "display_data"
    },
    {
     "data": {
      "image/png": "[encoded data removed]",
      "text/latex": [
       "$$\\left[\\begin{matrix}1 & 4\\\\7 & 2\\end{matrix}\\right]$$"
      ],
      "text/plain": [
       "⎡1  4⎤\n",
       "⎢    ⎥\n",
       "⎣7  2⎦"
      ]
     },
     "metadata": {},
     "output_type": "display_data"
    },
    {
     "data": {
      "image/png": "[encoded data removed]",
      "text/latex": [
       "$$\\left[\\begin{matrix}17 & 16\\\\36 & 14\\end{matrix}\\right]$$"
      ],
      "text/plain": [
       "⎡17  16⎤\n",
       "⎢      ⎥\n",
       "⎣36  14⎦"
      ]
     },
     "metadata": {},
     "output_type": "display_data"
    },
    {
     "data": {
      "image/png": "[encoded data removed]",
      "text/latex": [
       "$$\\left[\\begin{matrix}7 & 22\\\\23 & 24\\end{matrix}\\right]$$"
      ],
      "text/plain": [
       "⎡7   22⎤\n",
       "⎢      ⎥\n",
       "⎣23  24⎦"
      ]
     },
     "metadata": {},
     "output_type": "display_data"
    }
   ],
   "source": [
    "# Η αντιμεταθετική ιδιότητα δεν ισχύει στον πολλαπλασιασμό πινάκων\n",
    "A=Matrix([[3,2],[1,5]])\n",
    "B=Matrix([[1,4],[7,2]])\n",
    "display(A)\n",
    "display(B)\n",
    "display(A*B)\n",
    "display(B*A)"
   ]
  },
  {
   "cell_type": "code",
   "execution_count": 57,
   "metadata": {
    "collapsed": false
   },
   "outputs": [
    {
     "data": {
      "image/png": "[encoded data removed]",
      "text/latex": [
       "$$\\left[\\begin{matrix}2 & 3 & 1\\\\5 & 2 & 0\\\\6 & 1 & 8\\end{matrix}\\right]$$"
      ],
      "text/plain": [
       "⎡2  3  1⎤\n",
       "⎢       ⎥\n",
       "⎢5  2  0⎥\n",
       "⎢       ⎥\n",
       "⎣6  1  8⎦"
      ]
     },
     "metadata": {},
     "output_type": "display_data"
    },
    {
     "data": {
      "image/png": "[encoded data removed]",
      "text/latex": [
       "$$\\left[\\begin{matrix}25 & 13 & 10\\\\20 & 19 & 5\\\\65 & 28 & 70\\end{matrix}\\right]$$"
      ],
      "text/plain": [
       "⎡25  13  10⎤\n",
       "⎢          ⎥\n",
       "⎢20  19  5 ⎥\n",
       "⎢          ⎥\n",
       "⎣65  28  70⎦"
      ]
     },
     "metadata": {},
     "output_type": "display_data"
    },
    {
     "data": {
      "image/png": "[encoded data removed]",
      "text/latex": [
       "$$\\left[\\begin{matrix}175 & 111 & 105\\\\165 & 103 & 60\\\\690 & 321 & 625\\end{matrix}\\right]$$"
      ],
      "text/plain": [
       "⎡175  111  105⎤\n",
       "⎢             ⎥\n",
       "⎢165  103  60 ⎥\n",
       "⎢             ⎥\n",
       "⎣690  321  625⎦"
      ]
     },
     "metadata": {},
     "output_type": "display_data"
    }
   ],
   "source": [
    "# Ύψωση τετραγωνικού πίνακα σε δύναμη\n",
    "A = Matrix([[2,3,1],\n",
    "            [5,2,0],\n",
    "            [6,1,8]])\n",
    "display(A)\n",
    "display(A*A)\n",
    "display(A**3)"
   ]
  },
  {
   "cell_type": "code",
   "execution_count": 55,
   "metadata": {
    "collapsed": false
   },
   "outputs": [
    {
     "data": {
      "image/png": "[encoded data removed]",
      "text/latex": [
       "$$\\left[\\begin{matrix}5 & 10 & 7\\\\2 & 8 & 1\\\\12 & 21 & 23\\end{matrix}\\right]$$"
      ],
      "text/plain": [
       "⎡5   10  7 ⎤\n",
       "⎢          ⎥\n",
       "⎢2   8   1 ⎥\n",
       "⎢          ⎥\n",
       "⎣12  21  23⎦"
      ]
     },
     "execution_count": 55,
     "metadata": {},
     "output_type": "execute_result"
    }
   ],
   "source": [
    "# Λειτουργίες σε συγκεκριμένες γραμμές του πίνακα\n",
    "A = Matrix([[5,10,7],\n",
    "            [2,8,1],\n",
    "            [2,1,9]])\n",
    "# Σε κάθε στοιχείο της 3ης γραμμής να προστεθεί το διπλάσιο της 1ης γραμμής\n",
    "A.row_op(2, lambda v,j: v+2*A[0,j])\n",
    "A"
   ]
  }
 ],
 "metadata": {
  "kernelspec": {
   "display_name": "Python 3",
   "language": "python",
   "name": "python3"
  },
  "language_info": {
   "codemirror_mode": {
    "name": "ipython",
    "version": 3
   },
   "file_extension": ".py",
   "mimetype": "text/x-python",
   "name": "python",
   "nbconvert_exporter": "python",
   "pygments_lexer": "ipython3",
   "version": "3.4.3"
  }
 },
 "nbformat": 4,
 "nbformat_minor": 0
}
