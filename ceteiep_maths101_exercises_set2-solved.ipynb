{
 "cells": [
  {
   "cell_type": "markdown",
   "metadata": {},
   "source": [
    "## ΤΕΙ Ηπείρου - Τμήμα Μηχανικών Πληροφορικής ΤΕ \n",
    "### Μαθηματικά για μηχανικούς  \n",
    "\n",
    "    Προαιρετικές ασκήσεις (Python + sympy) - Β' ΣΕΤ\n",
    "\n",
    "Ανεβάστε το notebook με τις απαντήσεις των ασκήσεων στο github σε λογαριασμό που θα δημιουργήσετε έτσι ώστε να είναι εύκολα προσβάσιμο από οποιονδήποτε\n",
    "\n",
    "### Ασκήσεις σε πίνακες, ορίζουσες, αντίστροφους και επίλυση συστημάτων γραμμικών εξισώσεων στο sympy και στο numpy"
   ]
  },
  {
   "cell_type": "markdown",
   "metadata": {},
   "source": [
    "#### 1. Ορίζουσα - αντίστροφος πίνακα \n",
    "Να ορίσετε τον πίνακα $Α=\\begin{bmatrix} 12 & 1 & 7 \\\\6 &  14 & 2 \\\\7 &  31 & 12 \\end{bmatrix}$. Να υπολογίσετε την ορίζουσά του και τον αντίστροφό του"
   ]
  },
  {
   "cell_type": "code",
   "execution_count": 1,
   "metadata": {
    "collapsed": false
   },
   "outputs": [
    {
     "data": {
      "image/png": "[encoded data removed]",
      "text/latex": [
       "$$\\left[\\begin{matrix}12 & 1 & 7\\\\6 & 14 & 2\\\\7 & 31 & 12\\end{matrix}\\right]$$"
      ],
      "text/plain": [
       "⎡12  1   7 ⎤\n",
       "⎢          ⎥\n",
       "⎢6   14  2 ⎥\n",
       "⎢          ⎥\n",
       "⎣7   31  12⎦"
      ]
     },
     "metadata": {},
     "output_type": "display_data"
    },
    {
     "name": "stdout",
     "output_type": "stream",
     "text": [
      "η ορίζουσα είναι 1830\n"
     ]
    },
    {
     "data": {
      "image/png": "[encoded data removed]",
      "text/latex": [
       "$$\\left[\\begin{matrix}\\frac{53}{915} & \\frac{41}{366} & - \\frac{16}{305}\\\\- \\frac{29}{915} & \\frac{19}{366} & \\frac{3}{305}\\\\\\frac{44}{915} & - \\frac{73}{366} & \\frac{27}{305}\\end{matrix}\\right]$$"
      ],
      "text/plain": [
       "⎡ 53    41   -16  ⎤\n",
       "⎢───   ───   ──── ⎥\n",
       "⎢915   366   305  ⎥\n",
       "⎢                 ⎥\n",
       "⎢-29    19        ⎥\n",
       "⎢────  ───   3/305⎥\n",
       "⎢915   366        ⎥\n",
       "⎢                 ⎥\n",
       "⎢ 44   -73     27 ⎥\n",
       "⎢───   ────   ─── ⎥\n",
       "⎣915   366    305 ⎦"
      ]
     },
     "metadata": {},
     "output_type": "display_data"
    }
   ],
   "source": [
    "from sympy import *\n",
    "from IPython.display import display\n",
    "init_printing()\n",
    "A = Matrix([[12,1,7],[6,14,2],[7,31,12]])\n",
    "display(A)\n",
    "print('η ορίζουσα είναι', A.det())\n",
    "display(A.inv())"
   ]
  },
  {
   "cell_type": "markdown",
   "metadata": {},
   "source": [
    "#### 2. Ιδιότητες οριζουσών\n",
    "Δείξτε σε συγκεκριμένα παραδείγματα ότι ισχύουν οι ακόλουθες ιδιότητες των οριζουσών:\n",
    "1. Η ορίζουσα ενός πίνακα A και του αναστρόφου του είναι ίσες\n",
    "2. Αν πολλαπλασιάσουμε κάθε στοιχείο ενός πίνακα A $n\\times n$ με το $\\lambda$ τότε η ορίζουσα του νέου πίνακα ισούται με $\\lambda^n*|A|$\n",
    "3. Η ορίζουσα του γινομένου δύο πινάκων ισούται με το γινόμενο των οριζουσών τους\n",
    "4. Η ορίζουσα του αντιστρόφου ενός πίνακα Α ισούται με την αντίστροφη τιμή της ορίζουσας του πίνακα Α\n",
    "\n",
    "Χρησιμοποιήστε ως πίνακα Α έναν πίνακα $4 \\times 4$ της επιλογής σας"
   ]
  },
  {
   "cell_type": "code",
   "execution_count": 2,
   "metadata": {
    "collapsed": false
   },
   "outputs": [
    {
     "name": "stdout",
     "output_type": "stream",
     "text": [
      "1.  540  -  540\n",
      "2.  8640  -  8640\n",
      "3.  291600  -  291600\n",
      "4.  1/540  -  1/540\n"
     ]
    }
   ],
   "source": [
    "A = Matrix([[3,7,1,2],[6,7,8,1],[9,10,1,0],[6,4,2,1]])\n",
    "B = A.transpose()\n",
    "print('1. ', det(A), ' - ' ,det(B))\n",
    "l = 2\n",
    "C = l*A\n",
    "print('2. ', l**4*det(A), ' - ' ,det(C))\n",
    "D = Matrix([[6,17,1,4],[2,7,9,7],[19,10,0,10],[0,1,5,3]])\n",
    "print('3. ', det(A*B), ' - ' ,det(A)*det(B))\n",
    "E = A.inv()\n",
    "print('4. ', det(E), ' - ' ,1/det(A))"
   ]
  },
  {
   "cell_type": "markdown",
   "metadata": {},
   "source": [
    "#### 3. Αντιστροφή πίνακα με τη χρήση του συμπληρωματικού πίνακα \n",
    "Να βρεθεί ο αντίστροφος του πίνακα $A=\\begin{bmatrix} 5 & -1 & 7 \\\\ 7 & 0 & 6 \\\\ 4 & -1 &8 \\end{bmatrix}$ με τη χρήση του συμπληρωματικού πίνακα. Να επιβεβαιωθεί ότι είναι ο ίδιος με τον πίνακα που επιστρέφει η συνάρτηση inv()."
   ]
  },
  {
   "cell_type": "code",
   "execution_count": 3,
   "metadata": {
    "collapsed": false
   },
   "outputs": [
    {
     "data": {
      "image/png": "[encoded data removed]",
      "text/latex": [
       "$$\\left[\\begin{matrix}\\frac{6}{13} & \\frac{1}{13} & - \\frac{6}{13}\\\\- \\frac{32}{13} & \\frac{12}{13} & \\frac{19}{13}\\\\- \\frac{7}{13} & \\frac{1}{13} & \\frac{7}{13}\\end{matrix}\\right]$$"
      ],
      "text/plain": [
       "⎡6/13   1/13  -6/13⎤\n",
       "⎢                  ⎥\n",
       "⎢-32     12    19  ⎥\n",
       "⎢────    ──    ──  ⎥\n",
       "⎢ 13     13    13  ⎥\n",
       "⎢                  ⎥\n",
       "⎣-7/13  1/13  7/13 ⎦"
      ]
     },
     "metadata": {},
     "output_type": "display_data"
    },
    {
     "data": {
      "image/png": "[encoded data removed]",
      "text/latex": [
       "$$\\left[\\begin{matrix}\\frac{6}{13} & \\frac{1}{13} & - \\frac{6}{13}\\\\- \\frac{32}{13} & \\frac{12}{13} & \\frac{19}{13}\\\\- \\frac{7}{13} & \\frac{1}{13} & \\frac{7}{13}\\end{matrix}\\right]$$"
      ],
      "text/plain": [
       "⎡6/13   1/13  -6/13⎤\n",
       "⎢                  ⎥\n",
       "⎢-32     12    19  ⎥\n",
       "⎢────    ──    ──  ⎥\n",
       "⎢ 13     13    13  ⎥\n",
       "⎢                  ⎥\n",
       "⎣-7/13  1/13  7/13 ⎦"
      ]
     },
     "metadata": {},
     "output_type": "display_data"
    }
   ],
   "source": [
    "A = Matrix([[5,-1,7],[7,0,6],[4,-1,8]])\n",
    "B = 1/A.det() * A.adjugate()\n",
    "display(A.inv())\n",
    "display(B)"
   ]
  },
  {
   "cell_type": "markdown",
   "metadata": {},
   "source": [
    "#### 4. Επίλυση συστήματος γραμμικών εξισώσεων\n",
    "Να επιλυθεί το ακόλουθο σύστημα εξισώσεων \n",
    "$$2x-3y+z+w=8$$\n",
    "$$x+y-4z-w=2$$\n",
    "$$3x+2y+3w=6$$\n",
    "$$2x-2y+7z-3w=0$$\n",
    "\n",
    "1. με τη χρήση αντίστροφου πίνακα \n",
    "2. με τη μέθοδο του Cramer\n",
    "3. με τη συνάρτηση solve_linear_system του sympy\n",
    "4. με τη συνάρτηση solve του sympy και τη χρήση των εξισώσεων Eq\n",
    "5. με τη συνάρτηση linalg.solve του numpy"
   ]
  },
  {
   "cell_type": "code",
   "execution_count": 4,
   "metadata": {
    "collapsed": false
   },
   "outputs": [
    {
     "data": {
      "image/png": "[encoded data removed]",
      "text/latex": [
       "$$\\left[\\begin{matrix}\\frac{47}{24}\\\\- \\frac{5}{4}\\\\- \\frac{13}{24}\\\\\\frac{7}{8}\\end{matrix}\\right]$$"
      ],
      "text/plain": [
       "⎡ 47 ⎤\n",
       "⎢ ── ⎥\n",
       "⎢ 24 ⎥\n",
       "⎢    ⎥\n",
       "⎢-5/4⎥\n",
       "⎢    ⎥\n",
       "⎢-13 ⎥\n",
       "⎢────⎥\n",
       "⎢ 24 ⎥\n",
       "⎢    ⎥\n",
       "⎣7/8 ⎦"
      ]
     },
     "execution_count": 4,
     "metadata": {},
     "output_type": "execute_result"
    }
   ],
   "source": [
    "# 1. με τη χρήση αντίστροφου πίνακα\n",
    "A= Matrix([[2,-3,1,1],[1,1,-4,-1],[3,2,0,3],[2,-2,7,-3]])\n",
    "B= Matrix([8,2,6,0])\n",
    "x = A.inv()*B\n",
    "x"
   ]
  },
  {
   "cell_type": "code",
   "execution_count": 5,
   "metadata": {
    "collapsed": false
   },
   "outputs": [
    {
     "data": {
      "image/png": "[encoded data removed]",
      "text/latex": [
       "$$\\left ( \\frac{47}{24}, \\quad - \\frac{5}{4}, \\quad - \\frac{13}{24}, \\quad \\frac{7}{8}\\right )$$"
      ],
      "text/plain": [
       "⎛47        -13      ⎞\n",
       "⎜──, -5/4, ────, 7/8⎟\n",
       "⎝24         24      ⎠"
      ]
     },
     "execution_count": 5,
     "metadata": {},
     "output_type": "execute_result"
    }
   ],
   "source": [
    "# 2. με τη μέθοδο του Cramer\n",
    "A= Matrix([[2,-3,1,1],[1,1,-4,-1],[3,2,0,3],[2,-2,7,-3]])\n",
    "Dx = Matrix([[8,-3,1,1],[2,1,-4,-1],[6,2,0,3],[0,-2,7,-3]])\n",
    "Dy = Matrix([[2,8,1,1],[1,2,-4,-1],[3,6,0,3],[2,0,7,-3]])\n",
    "Dz = Matrix([[2,-3,8,1],[1,1,2,-1],[3,2,6,3],[2,-2,0,-3]])\n",
    "Dw = Matrix([[2,-3,1,8],[1,1,-4,2],[3,2,0,6],[2,-2,7,0]])\n",
    "x = Dx.det()/A.det()\n",
    "y = Dy.det()/A.det()\n",
    "z = Dz.det()/A.det()\n",
    "w = Dw.det()/A.det()\n",
    "x,y,z,w"
   ]
  },
  {
   "cell_type": "code",
   "execution_count": 6,
   "metadata": {
    "collapsed": false
   },
   "outputs": [
    {
     "name": "stdout",
     "output_type": "stream",
     "text": [
      "{x: 47/24, z: -13/24, w: 7/8, y: -5/4}\n"
     ]
    }
   ],
   "source": [
    "# 3. με τη συνάρτηση solve_linear_system του sympy\n",
    "A_B= Matrix([[2,-3,1,1,8],[1,1,-4,-1,2],[3,2,0,3,6],[2,-2,7,-3,0]])\n",
    "x, y, z, w = symbols('x, y, z, w')\n",
    "results = solve_linear_system(A_B, x, y, z, w)\n",
    "print(results)"
   ]
  },
  {
   "cell_type": "code",
   "execution_count": 7,
   "metadata": {
    "collapsed": false
   },
   "outputs": [
    {
     "data": {
      "image/png": "[encoded data removed]",
      "text/latex": [
       "$$\\left \\{ w : \\frac{7}{8}, \\quad x : \\frac{47}{24}, \\quad y : - \\frac{5}{4}, \\quad z : - \\frac{13}{24}\\right \\}$$"
      ],
      "text/plain": [
       "⎧           47              -13 ⎫\n",
       "⎨w: 7/8, x: ──, y: -5/4, z: ────⎬\n",
       "⎩           24               24 ⎭"
      ]
     },
     "execution_count": 7,
     "metadata": {},
     "output_type": "execute_result"
    }
   ],
   "source": [
    "# 4. με τη συνάρτηση solve του sympy και τη χρήση των εξισώσεων Eq\n",
    "x, y, z, w = symbols('x, y, z, w')\n",
    "solve([Eq(2*x -3*y + z + w, 8), Eq(x+ y - 4*z -w, 2), Eq(3*x+2*y+3*w, 6), Eq(2*x-2*y+7*z-3*w, 0)  ], [x, y, z, w])"
   ]
  },
  {
   "cell_type": "code",
   "execution_count": 8,
   "metadata": {
    "collapsed": false
   },
   "outputs": [
    {
     "data": {
      "text/plain": [
       "array([ 1.95833333, -1.25      , -0.54166667,  0.875     ])"
      ]
     },
     "execution_count": 8,
     "metadata": {},
     "output_type": "execute_result"
    }
   ],
   "source": [
    "# 5. με τη συνάρτηση linalg.solve του numpy\n",
    "import numpy as np\n",
    "a = np.array([[2,-3,1,1],[1,1,-4,-1],[3,2,0,3],[2,-2,7,-3]])\n",
    "b = np.array([8,2,6,0])\n",
    "x = np.linalg.solve(a,b)\n",
    "x"
   ]
  }
 ],
 "metadata": {
  "anaconda-cloud": {},
  "kernelspec": {
   "display_name": "Python [default]",
   "language": "python",
   "name": "python3"
  },
  "language_info": {
   "codemirror_mode": {
    "name": "ipython",
    "version": 3
   },
   "file_extension": ".py",
   "mimetype": "text/x-python",
   "name": "python",
   "nbconvert_exporter": "python",
   "pygments_lexer": "ipython3",
   "version": "3.5.2"
  }
 },
 "nbformat": 4,
 "nbformat_minor": 1
}
