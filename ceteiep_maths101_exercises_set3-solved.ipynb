{
 "cells": [
  {
   "cell_type": "markdown",
   "metadata": {},
   "source": [
    "## ΤΕΙ Ηπείρου - Τμήμα Μηχανικών Πληροφορικής ΤΕ \n",
    "### Μαθηματικά για μηχανικούς  \n",
    "\n",
    "    Προαιρετικές ασκήσεις (Python + sympy) - Γ' ΣΕΤ\n",
    "\n",
    "Ανεβάστε το notebook με τις απαντήσεις των ασκήσεων στο github σε λογαριασμό που θα δημιουργήσετε έτσι ώστε να είναι εύκολα προσβάσιμο από οποιονδήποτε\n",
    "### Συστήματα γραμμικών εξισώσεων σε ηλεκτρικά κυκλώματα"
   ]
  },
  {
   "cell_type": "markdown",
   "metadata": {},
   "source": [
    "#### 1. Υπολογισμός έντασης ρευμάτων σε κάθε κλάδο ηλεκτρικού κυκλώματος\n",
    "Δίνεται το ακόλουθο ηλεκτρικό κύκλωμα\n",
    "![](https://cdn.pbrd.co/images/m7KOnwE5O.png)\n",
    "Χρησιμοποιώντας τους κανόνες του Kirchhoff καταστρώστε σύστημα γραμμικών εξισώσεων για τον υπολογισμό του ρεύματος που διατρέχει κάθε κλάδο του κυκλώματος. Στη συνέχεια, επιλύστε το σύστημα α) με αριθμητικούς και β) με συμβολικούς υπολογισμούς."
   ]
  },
  {
   "cell_type": "markdown",
   "metadata": {},
   "source": [
    "Σύστημα εξισώσεων \n",
    "\n",
    "$$Ι1-Ι2-Ι3=0$$\n",
    "$$8Ι1+2Ι2=4$$\n",
    "$$-2Ι2+2Ι3=4$$"
   ]
  },
  {
   "cell_type": "code",
   "execution_count": 1,
   "metadata": {
    "collapsed": false
   },
   "outputs": [
    {
     "data": {
      "text/plain": [
       "array([ 0.66666667, -0.66666667,  1.33333333])"
      ]
     },
     "execution_count": 1,
     "metadata": {},
     "output_type": "execute_result"
    }
   ],
   "source": [
    "# με αριθμητικο΄΄υς υπολογισμούς\n",
    "import numpy as np\n",
    "a=np.array([[1,-1,-1],[8,2,0],[0,-2,2]])\n",
    "b=np.array([0,4,4])\n",
    "x=np.linalg.solve(a,b)\n",
    "x"
   ]
  },
  {
   "cell_type": "code",
   "execution_count": 2,
   "metadata": {
    "collapsed": false
   },
   "outputs": [
    {
     "data": {
      "image/png": "[encoded data removed]",
      "text/latex": [
       "$$\\left[\\begin{matrix}1 & -1 & -1 & 0\\\\8 & 2 & 0 & 4\\\\0 & -2 & 2 & 4\\end{matrix}\\right]$$"
      ],
      "text/plain": [
       "⎡1  -1  -1  0⎤\n",
       "⎢            ⎥\n",
       "⎢8  2   0   4⎥\n",
       "⎢            ⎥\n",
       "⎣0  -2  2   4⎦"
      ]
     },
     "metadata": {},
     "output_type": "display_data"
    },
    {
     "data": {
      "image/png": "[encoded data removed]",
      "text/latex": [
       "$$\\left \\{ i_{1} : \\frac{2}{3}, \\quad i_{2} : - \\frac{2}{3}, \\quad i_{3} : \\frac{4}{3}\\right \\}$$"
      ],
      "text/plain": [
       "{i₁: 2/3, i₂: -2/3, i₃: 4/3}"
      ]
     },
     "metadata": {},
     "output_type": "display_data"
    }
   ],
   "source": [
    "# με συμβολικούς υπολογισμούς\n",
    "from sympy import *\n",
    "from IPython.display import display\n",
    "init_printing()\n",
    "i1,i2,i3=symbols('i1,i2,i3')\n",
    "A=Matrix([[1,-1,-1,0],[8,2,0,4],[0,-2,2,4]])\n",
    "display(A)\n",
    "results = solve_linear_system(A,i1,i2,i3)\n",
    "display(results)"
   ]
  },
  {
   "cell_type": "markdown",
   "metadata": {},
   "source": [
    "#### 2. Υπολογισμός έντασης ρευμάτων σε κάθε κλάδο ηλεκτρικού κυκλώματος\n",
    "![](https://cdn.pbrd.co/images/m81dV5NhP.png)\n",
    "Χρησιμοποιώντας τους κανόνες του Kirchhoff καταστρώστε σύστημα γραμμικών εξισώσεων για τον υπολογισμό του ρεύματος που διατρέχει κάθε κλάδο του κυκλώματος. Επιλύστε το σύστημα."
   ]
  },
  {
   "cell_type": "markdown",
   "metadata": {},
   "source": [
    "Σύστημα εξισώσεων \n",
    "\n",
    "$$Ι1-Ι2-Ι3=0$$\n",
    "$$(5+R)Ι1+2Ι2=4$$\n",
    "$$-2Ι2+2Ι3=4$$"
   ]
  },
  {
   "cell_type": "code",
   "execution_count": 3,
   "metadata": {
    "collapsed": false
   },
   "outputs": [
    {
     "data": {
      "image/png": "[encoded data removed]",
      "text/latex": [
       "$$\\left[\\begin{matrix}1 & -1 & -1 & 0\\\\r + 5 & 2 & 0 & 4\\\\0 & -2 & 2 & 4\\end{matrix}\\right]$$"
      ],
      "text/plain": [
       "⎡  1    -1  -1  0⎤\n",
       "⎢                ⎥\n",
       "⎢r + 5  2   0   4⎥\n",
       "⎢                ⎥\n",
       "⎣  0    -2  2   4⎦"
      ]
     },
     "metadata": {},
     "output_type": "display_data"
    },
    {
     "data": {
      "image/png": "[encoded data removed]",
      "text/latex": [
       "$$\\left \\{ i_{1} : \\frac{6}{r + 6}, \\quad i_{2} : - \\frac{r + 3}{r + 6}, \\quad i_{3} : \\frac{r + 9}{r + 6}\\right \\}$$"
      ],
      "text/plain": [
       "⎧      6        -(r + 3)       r + 9⎫\n",
       "⎨i₁: ─────, i₂: ─────────, i₃: ─────⎬\n",
       "⎩    r + 6        r + 6        r + 6⎭"
      ]
     },
     "metadata": {},
     "output_type": "display_data"
    }
   ],
   "source": [
    "from sympy import *\n",
    "from IPython.display import display\n",
    "init_printing()\n",
    "i1,i2,i3,r=symbols('i1,i2,i3,r')\n",
    "A=Matrix([[1,-1,-1,0],[5+r,2,0,4],[0,-2,2,4]])\n",
    "display(A)\n",
    "results = solve_linear_system(A,i1,i2,i3,r)\n",
    "display(results)"
   ]
  }
 ],
 "metadata": {
  "anaconda-cloud": {},
  "kernelspec": {
   "display_name": "Python [default]",
   "language": "python",
   "name": "python3"
  },
  "language_info": {
   "codemirror_mode": {
    "name": "ipython",
    "version": 3
   },
   "file_extension": ".py",
   "mimetype": "text/x-python",
   "name": "python",
   "nbconvert_exporter": "python",
   "pygments_lexer": "ipython3",
   "version": "3.5.2"
  }
 },
 "nbformat": 4,
 "nbformat_minor": 1
}
