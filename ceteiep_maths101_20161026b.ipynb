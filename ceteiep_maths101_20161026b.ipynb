{
 "cells": [
  {
   "cell_type": "markdown",
   "metadata": {},
   "source": [
    "## ΤΕΙ Ηπείρου - Τμήμα Μηχανικών Πληροφορικής ΤΕ \n",
    "### Παραδείγματα από το μάθημα  Μαθηματικά για μηχανικούς  \n",
    "### Παράδειγμα συστήματος γραμμικών εξισώσεων\n",
    "\n",
    "![](https://cdn.pbrd.co/images/jgM6dPH1u.png)\n",
    "![](https://cdn.pbrd.co/images/jgTJidegk.png)"
   ]
  },
  {
   "cell_type": "code",
   "execution_count": 2,
   "metadata": {
    "collapsed": false
   },
   "outputs": [
    {
     "data": {
      "image/png": "[encoded data removed]",
      "text/latex": [
       "$$\\left[\\begin{matrix}1 & -1 & -1 & 0\\\\5 & 3 & 0 & 3\\\\0 & -3 & 6 & 4\\end{matrix}\\right]$$"
      ],
      "text/plain": [
       "⎡1  -1  -1  0⎤\n",
       "⎢            ⎥\n",
       "⎢5  3   0   3⎥\n",
       "⎢            ⎥\n",
       "⎣0  -3  6   4⎦"
      ]
     },
     "metadata": {},
     "output_type": "display_data"
    },
    {
     "data": {
      "image/png": "[encoded data removed]",
      "text/latex": [
       "$$\\left \\{ i_{1} : \\frac{13}{21}, \\quad i_{2} : - \\frac{2}{63}, \\quad i_{3} : \\frac{41}{63}\\right \\}$$"
      ],
      "text/plain": [
       "⎧    13                 41⎫\n",
       "⎨i₁: ──, i₂: -2/63, i₃: ──⎬\n",
       "⎩    21                 63⎭"
      ]
     },
     "metadata": {},
     "output_type": "display_data"
    }
   ],
   "source": [
    "# επίλυση του συστήματος γραμμικών εξισώσεων χρησιμοποιώντας το sympy\n",
    "from sympy import *\n",
    "from IPython.display import display\n",
    "init_printing()\n",
    "i1,i2,i3 = symbols('i1, i2, i3')\n",
    "A = Matrix([[1, -1, -1, 0], [5, 3, 0, 3], [0,-3,6,4]])\n",
    "display(A)\n",
    "results = solve_linear_system(A, i1,i2,i3)\n",
    "display(results)"
   ]
  },
  {
   "cell_type": "code",
   "execution_count": 3,
   "metadata": {
    "collapsed": false
   },
   "outputs": [
    {
     "name": "stdout",
     "output_type": "stream",
     "text": [
      "0.619047619048 -0.031746031746 0.650793650794\n"
     ]
    }
   ],
   "source": [
    "# επίλυση του συστήματος γραμμικών εξισ΄ώσεων χρησιμοποιώντας το numpy\n",
    "import numpy as np\n",
    "a = np.array([[1,-1,-1], [5,3,0], [0,-3,6]])\n",
    "b = np.array([0,3,4])\n",
    "x = np.linalg.solve(a,b)\n",
    "print(x[0], x[1], x[2])"
   ]
  },
  {
   "cell_type": "markdown",
   "metadata": {},
   "source": [
    "![](https://cdn.pbrd.co/images/jheBqs1eD.png)"
   ]
  },
  {
   "cell_type": "code",
   "execution_count": 4,
   "metadata": {
    "collapsed": false
   },
   "outputs": [
    {
     "data": {
      "image/png": "[encoded data removed]",
      "text/latex": [
       "$$\\left[\\begin{matrix}0 & 1 & -1 & 0 & -1 & 0 & 0\\\\1 & 0 & 0 & -1 & -1 & 0 & 0\\\\1 & -1 & 0 & 0 & 0 & 1 & 0\\\\0 & 2 & 0 & 0 & 3 & 0 & 5\\\\0 & 0 & 0 & 6 & -3 & 0 & 4\\\\0 & 0 & 0 & -6 & 0 & 4 & 1\\end{matrix}\\right]$$"
      ],
      "text/plain": [
       "⎡0  1   -1  0   -1  0  0⎤\n",
       "⎢                       ⎥\n",
       "⎢1  0   0   -1  -1  0  0⎥\n",
       "⎢                       ⎥\n",
       "⎢1  -1  0   0   0   1  0⎥\n",
       "⎢                       ⎥\n",
       "⎢0  2   0   0   3   0  5⎥\n",
       "⎢                       ⎥\n",
       "⎢0  0   0   6   -3  0  4⎥\n",
       "⎢                       ⎥\n",
       "⎣0  0   0   -6  0   4  1⎦"
      ]
     },
     "metadata": {},
     "output_type": "display_data"
    },
    {
     "data": {
      "image/png": "[encoded data removed]",
      "text/latex": [
       "$$\\left \\{ i_{1} : \\frac{9}{10}, \\quad i_{2} : \\frac{34}{15}, \\quad i_{3} : \\frac{19}{9}, \\quad i_{4} : \\frac{67}{90}, \\quad i_{5} : \\frac{7}{45}, \\quad i_{6} : \\frac{41}{30}\\right \\}$$"
      ],
      "text/plain": [
       "⎧              34                67                41⎫\n",
       "⎨i₁: 9/10, i₂: ──, i₃: 19/9, i₄: ──, i₅: 7/45, i₆: ──⎬\n",
       "⎩              15                90                30⎭"
      ]
     },
     "metadata": {},
     "output_type": "display_data"
    }
   ],
   "source": [
    "# επίλυση του συστήματος γραμμικών εξισώσεων χρησιμοποιώντας το sympy\n",
    "i1,i2,i3,i4,i5,i6 = symbols('i1, i2, i3, i4, i5, i6')\n",
    "A = Matrix([[0, 1, -1, 0,-1, 0, 0],\n",
    "            [1, 0, 0, -1, -1, 0, 0], \n",
    "            [1, -1, 0, 0, 0, 1, 0], \n",
    "            [0, 2, 0, 0, 3, 0, 5],\n",
    "            [0, 0, 0, 6, -3, 0, 4],\n",
    "            [0, 0, 0, -6, 0, 4, 1]])\n",
    "display(A)\n",
    "results = solve_linear_system(A, i1,i2,i3,i4,i5,i6)\n",
    "display(results)"
   ]
  },
  {
   "cell_type": "code",
   "execution_count": 5,
   "metadata": {
    "collapsed": false
   },
   "outputs": [
    {
     "name": "stdout",
     "output_type": "stream",
     "text": [
      "[ 0.9         2.26666667  2.11111111  0.74444444  0.15555556  1.36666667]\n"
     ]
    }
   ],
   "source": [
    "# επίλυση του συστήματος γραμμικών εξισ΄ώσεων χρησιμοποιώντας το numpy\n",
    "a = np.array([[0,1,-1,0,-1,0], \n",
    "              [1,0,0,-1,-1,0], \n",
    "              [1,-1,0,0,0,1], \n",
    "              [0,2,0,0,3,0],\n",
    "              [0,0,0,6,-3,0],\n",
    "              [0,0,0,-6,0,4]])\n",
    "b = np.array([0,0,0,5,4,1])\n",
    "x = np.linalg.solve(a,b)\n",
    "print(x)"
   ]
  },
  {
   "cell_type": "code",
   "execution_count": null,
   "metadata": {
    "collapsed": true
   },
   "outputs": [],
   "source": []
  }
 ],
 "metadata": {
  "anaconda-cloud": {},
  "kernelspec": {
   "display_name": "Python [default]",
   "language": "python",
   "name": "python3"
  },
  "language_info": {
   "codemirror_mode": {
    "name": "ipython",
    "version": 3
   },
   "file_extension": ".py",
   "mimetype": "text/x-python",
   "name": "python",
   "nbconvert_exporter": "python",
   "pygments_lexer": "ipython3",
   "version": "3.5.2"
  }
 },
 "nbformat": 4,
 "nbformat_minor": 1
}
