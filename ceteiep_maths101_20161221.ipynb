{
 "cells": [
  {
   "cell_type": "markdown",
   "metadata": {},
   "source": [
    "## ΤΕΙ Ηπείρου - Τμήμα Μηχανικών Πληροφορικής ΤΕ \n",
    "### Μαθηματικά για μηχανικούς  \n",
    "\n",
    "     Παραγώγιση σύνθετων συναρτήσεων, 2η, 3η, ... παράγωγος, θεώρημα του Rolle, θεώρημα μέσης τιμής, ακρότατα, σημεία καμπής"
   ]
  },
  {
   "cell_type": "code",
   "execution_count": 1,
   "metadata": {
    "collapsed": true
   },
   "outputs": [],
   "source": [
    "from sympy import *\n",
    "init_printing()"
   ]
  },
  {
   "cell_type": "markdown",
   "metadata": {},
   "source": [
    "### Α. Παραδείγματα παραγώγισης σύνθετων συναρτήσεων"
   ]
  },
  {
   "cell_type": "markdown",
   "metadata": {},
   "source": [
    "Α.1 Να βρεθεί η παράγωγος της συνάρτησης $(3x^2+5)^9$"
   ]
  },
  {
   "cell_type": "code",
   "execution_count": 2,
   "metadata": {
    "collapsed": false
   },
   "outputs": [
    {
     "data": {
      "image/png": "[encoded data removed]",
      "text/latex": [
       "$$\\left(3 x^{2} + 5\\right)^{9}$$"
      ],
      "text/plain": [
       "          9\n",
       "⎛   2    ⎞ \n",
       "⎝3⋅x  + 5⎠ "
      ]
     },
     "execution_count": 2,
     "metadata": {},
     "output_type": "execute_result"
    }
   ],
   "source": [
    "x= Symbol('x')\n",
    "f = (3*x**2+5)**9\n",
    "f"
   ]
  },
  {
   "cell_type": "code",
   "execution_count": 3,
   "metadata": {
    "collapsed": false
   },
   "outputs": [
    {
     "data": {
      "image/png": "[encoded data removed]",
      "text/latex": [
       "$$54 x \\left(3 x^{2} + 5\\right)^{8}$$"
      ],
      "text/plain": [
       "               8\n",
       "     ⎛   2    ⎞ \n",
       "54⋅x⋅⎝3⋅x  + 5⎠ "
      ]
     },
     "execution_count": 3,
     "metadata": {},
     "output_type": "execute_result"
    }
   ],
   "source": [
    "diff(f,x)"
   ]
  },
  {
   "cell_type": "markdown",
   "metadata": {},
   "source": [
    "Α.2 Να βρεθεί η παράγωγος της συνάρτησης $e^{-x^2+1}$"
   ]
  },
  {
   "cell_type": "code",
   "execution_count": 4,
   "metadata": {
    "collapsed": false
   },
   "outputs": [
    {
     "data": {
      "image/png": "[encoded data removed]",
      "text/latex": [
       "$$e^{- x^{2} + 1}$$"
      ],
      "text/plain": [
       "    2    \n",
       " - x  + 1\n",
       "ℯ        "
      ]
     },
     "execution_count": 4,
     "metadata": {},
     "output_type": "execute_result"
    }
   ],
   "source": [
    "f = exp(-x**2+1)\n",
    "f"
   ]
  },
  {
   "cell_type": "code",
   "execution_count": 5,
   "metadata": {
    "collapsed": false
   },
   "outputs": [
    {
     "data": {
      "image/png": "[encoded data removed]",
      "text/latex": [
       "$$- 2 x e^{- x^{2} + 1}$$"
      ],
      "text/plain": [
       "         2    \n",
       "      - x  + 1\n",
       "-2⋅x⋅ℯ        "
      ]
     },
     "execution_count": 5,
     "metadata": {},
     "output_type": "execute_result"
    }
   ],
   "source": [
    "diff(f,x)"
   ]
  },
  {
   "cell_type": "markdown",
   "metadata": {},
   "source": [
    "A.3 Να βρεθεί η παράγωγος της συνάρτησης $\\ln{\\sqrt{x^2+1}}$"
   ]
  },
  {
   "cell_type": "code",
   "execution_count": 6,
   "metadata": {
    "collapsed": false
   },
   "outputs": [
    {
     "data": {
      "image/png": "[encoded data removed]",
      "text/latex": [
       "$$\\log{\\left (\\sqrt{x^{2} + 1} \\right )}$$"
      ],
      "text/plain": [
       "   ⎛   ________⎞\n",
       "   ⎜  ╱  2     ⎟\n",
       "log⎝╲╱  x  + 1 ⎠"
      ]
     },
     "execution_count": 6,
     "metadata": {},
     "output_type": "execute_result"
    }
   ],
   "source": [
    "f = log(sqrt(x**2+1))\n",
    "f"
   ]
  },
  {
   "cell_type": "code",
   "execution_count": 7,
   "metadata": {
    "collapsed": false
   },
   "outputs": [
    {
     "data": {
      "image/png": "[encoded data removed]",
      "text/latex": [
       "$$\\frac{x}{x^{2} + 1}$$"
      ],
      "text/plain": [
       "  x   \n",
       "──────\n",
       " 2    \n",
       "x  + 1"
      ]
     },
     "execution_count": 7,
     "metadata": {},
     "output_type": "execute_result"
    }
   ],
   "source": [
    "diff(f,x)"
   ]
  },
  {
   "cell_type": "markdown",
   "metadata": {},
   "source": [
    "### B. Δεύτερη παράγωγος, τρίτη παράγωγος κλπ "
   ]
  },
  {
   "cell_type": "code",
   "execution_count": 8,
   "metadata": {
    "collapsed": false
   },
   "outputs": [
    {
     "data": {
      "image/png": "[encoded data removed]",
      "text/latex": [
       "$$e^{x^{2} + 3 x}$$"
      ],
      "text/plain": [
       "  2      \n",
       " x  + 3⋅x\n",
       "ℯ        "
      ]
     },
     "execution_count": 8,
     "metadata": {},
     "output_type": "execute_result"
    }
   ],
   "source": [
    "f = exp(3*x+x**2)\n",
    "f"
   ]
  },
  {
   "cell_type": "code",
   "execution_count": 9,
   "metadata": {
    "collapsed": false
   },
   "outputs": [
    {
     "data": {
      "image/png": "[encoded data removed]",
      "text/latex": [
       "$$\\left(2 x + 3\\right) e^{x^{2} + 3 x}$$"
      ],
      "text/plain": [
       "            2      \n",
       "           x  + 3⋅x\n",
       "(2⋅x + 3)⋅ℯ        "
      ]
     },
     "execution_count": 9,
     "metadata": {},
     "output_type": "execute_result"
    }
   ],
   "source": [
    "df= diff(f,x)\n",
    "df"
   ]
  },
  {
   "cell_type": "code",
   "execution_count": 10,
   "metadata": {
    "collapsed": false
   },
   "outputs": [
    {
     "data": {
      "image/png": "[encoded data removed]",
      "text/latex": [
       "$$\\left(\\left(2 x + 3\\right)^{2} + 2\\right) e^{x \\left(x + 3\\right)}$$"
      ],
      "text/plain": [
       "⎛         2    ⎞  x⋅(x + 3)\n",
       "⎝(2⋅x + 3)  + 2⎠⋅ℯ         "
      ]
     },
     "execution_count": 10,
     "metadata": {},
     "output_type": "execute_result"
    }
   ],
   "source": [
    "# δεύτερη παράγωγος της f\n",
    "d2f=diff(df,x)\n",
    "simplify(d2f)"
   ]
  },
  {
   "cell_type": "code",
   "execution_count": 11,
   "metadata": {
    "collapsed": false
   },
   "outputs": [
    {
     "data": {
      "image/png": "[encoded data removed]",
      "text/latex": [
       "$$\\left(\\left(2 x + 3\\right)^{2} + 2\\right) e^{x \\left(x + 3\\right)}$$"
      ],
      "text/plain": [
       "⎛         2    ⎞  x⋅(x + 3)\n",
       "⎝(2⋅x + 3)  + 2⎠⋅ℯ         "
      ]
     },
     "execution_count": 11,
     "metadata": {},
     "output_type": "execute_result"
    }
   ],
   "source": [
    "# δεύτερη παράγωγος της f (απευθείας κλήση συνάρτησης diff - α' τρόπος)\n",
    "diff(f,x,x)"
   ]
  },
  {
   "cell_type": "code",
   "execution_count": 12,
   "metadata": {
    "collapsed": false
   },
   "outputs": [
    {
     "data": {
      "image/png": "[encoded data removed]",
      "text/latex": [
       "$$\\left(\\left(2 x + 3\\right)^{2} + 2\\right) e^{x \\left(x + 3\\right)}$$"
      ],
      "text/plain": [
       "⎛         2    ⎞  x⋅(x + 3)\n",
       "⎝(2⋅x + 3)  + 2⎠⋅ℯ         "
      ]
     },
     "execution_count": 12,
     "metadata": {},
     "output_type": "execute_result"
    }
   ],
   "source": [
    "# δεύτερη παράγωγος της f (απευθείας κλήση συνάρτησης diff - β' τρόπος)\n",
    "diff(f,x,2)"
   ]
  },
  {
   "cell_type": "code",
   "execution_count": 13,
   "metadata": {
    "collapsed": false
   },
   "outputs": [
    {
     "data": {
      "image/png": "[encoded data removed]",
      "text/latex": [
       "$$\\left(2 x + 3\\right) \\left(\\left(2 x + 3\\right)^{2} + 6\\right) e^{x \\left(x + 3\\right)}$$"
      ],
      "text/plain": [
       "          ⎛         2    ⎞  x⋅(x + 3)\n",
       "(2⋅x + 3)⋅⎝(2⋅x + 3)  + 6⎠⋅ℯ         "
      ]
     },
     "execution_count": 13,
     "metadata": {},
     "output_type": "execute_result"
    }
   ],
   "source": [
    "# τρίτη παράγωγος της f\n",
    "diff(f,x,3)"
   ]
  },
  {
   "cell_type": "code",
   "execution_count": 14,
   "metadata": {
    "collapsed": false
   },
   "outputs": [
    {
     "data": {
      "image/png": "[encoded data removed]",
      "text/latex": [
       "$$\\left(\\left(2 x + 3\\right)^{10} + 90 \\left(2 x + 3\\right)^{8} + 2520 \\left(2 x + 3\\right)^{6} + 25200 \\left(2 x + 3\\right)^{4} + 75600 \\left(2 x + 3\\right)^{2} + 30240\\right) e^{x \\left(x + 3\\right)}$$"
      ],
      "text/plain": [
       "⎛         10               8                 6                  4             \n",
       "⎝(2⋅x + 3)   + 90⋅(2⋅x + 3)  + 2520⋅(2⋅x + 3)  + 25200⋅(2⋅x + 3)  + 75600⋅(2⋅x\n",
       "\n",
       "     2        ⎞  x⋅(x + 3)\n",
       " + 3)  + 30240⎠⋅ℯ         "
      ]
     },
     "execution_count": 14,
     "metadata": {},
     "output_type": "execute_result"
    }
   ],
   "source": [
    "# δέκατη παράγωγος της f\n",
    "diff(f,x,10)"
   ]
  },
  {
   "cell_type": "markdown",
   "metadata": {},
   "source": [
    "### Γ. Θεώρημα του Rolle\n",
    "Εϋρεση της τιμής $c \\in (2,5)$ που ικανοποιεί το συμπέρασμα από το θεώρημα Rolle για τη συνάρτηση $f(x)=-x^3+7x^2-10x$"
   ]
  },
  {
   "cell_type": "code",
   "execution_count": 15,
   "metadata": {
    "collapsed": false
   },
   "outputs": [
    {
     "data": {
      "image/png": "[encoded data removed]",
      "text/latex": [
       "$$- x^{3} + 7 x^{2} - 10 x$$"
      ],
      "text/plain": [
       "   3      2       \n",
       "- x  + 7⋅x  - 10⋅x"
      ]
     },
     "execution_count": 15,
     "metadata": {},
     "output_type": "execute_result"
    }
   ],
   "source": [
    "f = -x**3+7*x**2-10*x\n",
    "f"
   ]
  },
  {
   "cell_type": "code",
   "execution_count": 16,
   "metadata": {
    "collapsed": false
   },
   "outputs": [
    {
     "data": {
      "text/plain": [
       "True"
      ]
     },
     "execution_count": 16,
     "metadata": {},
     "output_type": "execute_result"
    }
   ],
   "source": [
    "f.subs(x,2)==f.subs(x,5)"
   ]
  },
  {
   "cell_type": "code",
   "execution_count": 17,
   "metadata": {
    "collapsed": false,
    "scrolled": true
   },
   "outputs": [
    {
     "data": {
      "image/png": "[encoded data removed]",
      "text/plain": [
       "<matplotlib.figure.Figure at 0x105c7b0b8>"
      ]
     },
     "metadata": {},
     "output_type": "display_data"
    }
   ],
   "source": [
    "%matplotlib inline\n",
    "from sympy.plotting import plot\n",
    "import warnings\n",
    "warnings.filterwarnings('ignore')\n",
    "p = plot(f, xlim=(-1,6), ylim=(-10,10))"
   ]
  },
  {
   "cell_type": "code",
   "execution_count": 18,
   "metadata": {
    "collapsed": false
   },
   "outputs": [
    {
     "data": {
      "image/png": "[encoded data removed]",
      "text/latex": [
       "$$- 3 x^{2} + 14 x - 10$$"
      ],
      "text/plain": [
       "     2            \n",
       "- 3⋅x  + 14⋅x - 10"
      ]
     },
     "execution_count": 18,
     "metadata": {},
     "output_type": "execute_result"
    }
   ],
   "source": [
    "df=diff(f,x)\n",
    "df"
   ]
  },
  {
   "cell_type": "code",
   "execution_count": 19,
   "metadata": {
    "collapsed": false
   },
   "outputs": [
    {
     "data": {
      "image/png": "[encoded data removed]",
      "text/latex": [
       "$$\\left [ - \\frac{\\sqrt{19}}{3} + \\frac{7}{3}, \\quad \\frac{\\sqrt{19}}{3} + \\frac{7}{3}\\right ]$$"
      ],
      "text/plain": [
       "⎡  √19   7  √19   7⎤\n",
       "⎢- ─── + ─, ─── + ─⎥\n",
       "⎣   3    3   3    3⎦"
      ]
     },
     "execution_count": 19,
     "metadata": {},
     "output_type": "execute_result"
    }
   ],
   "source": [
    "sols = solve(df,x)\n",
    "sols"
   ]
  },
  {
   "cell_type": "code",
   "execution_count": 20,
   "metadata": {
    "collapsed": false
   },
   "outputs": [
    {
     "data": {
      "image/png": "[encoded data removed]",
      "text/latex": [
       "$$\\left ( 0.880367018819776, \\quad 3.78629964784689\\right )$$"
      ],
      "text/plain": [
       "(0.880367018819776, 3.78629964784689)"
      ]
     },
     "execution_count": 20,
     "metadata": {},
     "output_type": "execute_result"
    }
   ],
   "source": [
    "(sols[0].evalf(), sols[1].evalf())"
   ]
  },
  {
   "cell_type": "code",
   "execution_count": 21,
   "metadata": {
    "collapsed": false
   },
   "outputs": [
    {
     "data": {
      "image/png": "[encoded data removed]",
      "text/latex": [
       "$$\\mathrm{False}$$"
      ],
      "text/plain": [
       "False"
      ]
     },
     "execution_count": 21,
     "metadata": {},
     "output_type": "execute_result"
    }
   ],
   "source": [
    "2<sols[0]<5"
   ]
  },
  {
   "cell_type": "code",
   "execution_count": 22,
   "metadata": {
    "collapsed": false
   },
   "outputs": [
    {
     "data": {
      "image/png": "[encoded data removed]",
      "text/latex": [
       "$$\\mathrm{True}$$"
      ],
      "text/plain": [
       "True"
      ]
     },
     "execution_count": 22,
     "metadata": {},
     "output_type": "execute_result"
    }
   ],
   "source": [
    "2<sols[1]<5"
   ]
  },
  {
   "cell_type": "code",
   "execution_count": 23,
   "metadata": {
    "collapsed": false
   },
   "outputs": [
    {
     "name": "stdout",
     "output_type": "stream",
     "text": [
      "άρα η τιμή που ικανοποιεί το θεώρημα του Rolle στο διαστημα (0,5) είναι η 3.79\n"
     ]
    }
   ],
   "source": [
    "print('άρα η τιμή που ικανοποιεί το θεώρημα του Rolle στο διαστημα (0,5) είναι η %.2f' % sols[1].evalf())"
   ]
  },
  {
   "cell_type": "markdown",
   "metadata": {},
   "source": [
    "### Δ. Θεώρημα Μέσης Τιμής\n",
    "Να βρεθεί μια τιμή στο διάστημα (1,4) που να ικανοποποιεί το συμπέρασμα του ΘΜΤ για τη συνάρτηση $f(x)=x^3$"
   ]
  },
  {
   "cell_type": "code",
   "execution_count": 24,
   "metadata": {
    "collapsed": false
   },
   "outputs": [
    {
     "data": {
      "image/png": "[encoded data removed]",
      "text/latex": [
       "$$\\left ( -2.64575131106459, \\quad 2.64575131106459\\right )$$"
      ],
      "text/plain": [
       "(-2.64575131106459, 2.64575131106459)"
      ]
     },
     "execution_count": 24,
     "metadata": {},
     "output_type": "execute_result"
    }
   ],
   "source": [
    "f=x**3\n",
    "df = diff(f,x)\n",
    "rhs = (f.subs(x,4)-f.subs(x,1))/3\n",
    "sols  = solve(Eq(df,rhs), x)\n",
    "sols[0].evalf(), sols[1].evalf()"
   ]
  },
  {
   "cell_type": "code",
   "execution_count": 25,
   "metadata": {
    "collapsed": false
   },
   "outputs": [
    {
     "data": {
      "image/png": "[encoded data removed]",
      "text/plain": [
       "<matplotlib.figure.Figure at 0x10ec43128>"
      ]
     },
     "metadata": {},
     "output_type": "display_data"
    }
   ],
   "source": [
    "x0=sols[1]\n",
    "fx0 = f.subs(x,x0)\n",
    "dfx0 = df.subs(x,x0)\n",
    "p1 = plot(f,xlim=(0,5),ylim=(0,100),show=False)\n",
    "p2 = plot(dfx0*(x-x0)+fx0,show=False, line_color='r')\n",
    "p1.extend(p2)\n",
    "p1.show()"
   ]
  },
  {
   "cell_type": "markdown",
   "metadata": {},
   "source": [
    "άρα η τιμή είναι η $x_0=2.65$ και η συνάρτηση της εφαπτομενης σε αυτό το σημείο είναι $y-f(x_0)=f'(x_0)(x-x_0)$"
   ]
  },
  {
   "cell_type": "markdown",
   "metadata": {},
   "source": [
    "### Ε. Να βρεθούν τα ολικά ακρότατα της συνάρτησης $x^3-12x^2+45x+1$ στο διάστημα [0,5]"
   ]
  },
  {
   "cell_type": "code",
   "execution_count": 26,
   "metadata": {
    "collapsed": false,
    "scrolled": true
   },
   "outputs": [
    {
     "data": {
      "image/png": "[encoded data removed]",
      "text/plain": [
       "<matplotlib.figure.Figure at 0x1059be2b0>"
      ]
     },
     "metadata": {},
     "output_type": "display_data"
    }
   ],
   "source": [
    "f = x**3-12*x**2+45*x+1\n",
    "p = plot(f, xlim=(0,5), ylim=(0,100))"
   ]
  },
  {
   "cell_type": "code",
   "execution_count": 27,
   "metadata": {
    "collapsed": false
   },
   "outputs": [
    {
     "data": {
      "image/png": "[encoded data removed]",
      "text/latex": [
       "$$3 x^{2} - 24 x + 45$$"
      ],
      "text/plain": [
       "   2            \n",
       "3⋅x  - 24⋅x + 45"
      ]
     },
     "execution_count": 27,
     "metadata": {},
     "output_type": "execute_result"
    }
   ],
   "source": [
    "df = diff(f,x)\n",
    "df"
   ]
  },
  {
   "cell_type": "code",
   "execution_count": 28,
   "metadata": {
    "collapsed": false
   },
   "outputs": [
    {
     "data": {
      "image/png": "[encoded data removed]",
      "text/latex": [
       "$$\\left [ 3, \\quad 5\\right ]$$"
      ],
      "text/plain": [
       "[3, 5]"
      ]
     },
     "execution_count": 28,
     "metadata": {},
     "output_type": "execute_result"
    }
   ],
   "source": [
    "sols =solve(df,x)\n",
    "sols"
   ]
  },
  {
   "cell_type": "code",
   "execution_count": 29,
   "metadata": {
    "collapsed": false
   },
   "outputs": [
    {
     "data": {
      "image/png": "[encoded data removed]",
      "text/latex": [
       "$$\\left ( 1, \\quad 51, \\quad 55, \\quad 51\\right )$$"
      ],
      "text/plain": [
       "(1, 51, 55, 51)"
      ]
     },
     "execution_count": 29,
     "metadata": {},
     "output_type": "execute_result"
    }
   ],
   "source": [
    "f.subs(x,0), f.subs(x,5), f.subs(x,sols[0]), f.subs(x,sols[1])"
   ]
  },
  {
   "cell_type": "markdown",
   "metadata": {},
   "source": [
    "άρα το ολικό μέγιστο είναι στο x=3 με τιμή 55 ενώ το ολικό ελάχιστο είναι στο x=0 με τιμή 1"
   ]
  },
  {
   "cell_type": "markdown",
   "metadata": {
    "collapsed": true
   },
   "source": [
    "### ΣΤ. Σημεία καμπής\n",
    "Να προσδιοριστούν τα διαστήματα στα οποία η συνάρτηση $f(x)=x^3-3x^2+x-2$ είναι κοίλη πάνω ή κοίλη κάτω και να βρεθούν τα σημεία καμπής της γραφικής της παράστασης"
   ]
  },
  {
   "cell_type": "code",
   "execution_count": 30,
   "metadata": {
    "collapsed": false
   },
   "outputs": [
    {
     "data": {
      "image/png": "[encoded data removed]",
      "text/latex": [
       "$$x^{3} - 3 x^{2} + x - 2$$"
      ],
      "text/plain": [
       " 3      2        \n",
       "x  - 3⋅x  + x - 2"
      ]
     },
     "execution_count": 30,
     "metadata": {},
     "output_type": "execute_result"
    }
   ],
   "source": [
    "f = x**3-3*x**2+x-2\n",
    "f"
   ]
  },
  {
   "cell_type": "code",
   "execution_count": 31,
   "metadata": {
    "collapsed": false
   },
   "outputs": [
    {
     "data": {
      "image/png": "[encoded data removed]",
      "text/latex": [
       "$$3 x^{2} - 6 x + 1$$"
      ],
      "text/plain": [
       "   2          \n",
       "3⋅x  - 6⋅x + 1"
      ]
     },
     "execution_count": 31,
     "metadata": {},
     "output_type": "execute_result"
    }
   ],
   "source": [
    "df = diff(f,x)\n",
    "df"
   ]
  },
  {
   "cell_type": "code",
   "execution_count": 32,
   "metadata": {
    "collapsed": false
   },
   "outputs": [
    {
     "name": "stdout",
     "output_type": "stream",
     "text": [
      "Τα κρίσιμα σημεία είναι: 0.184 και 1.816\n"
     ]
    },
    {
     "data": {
      "image/png": "[encoded data removed]",
      "text/latex": [
       "$$\\left [ - \\frac{\\sqrt{6}}{3} + 1, \\quad \\frac{\\sqrt{6}}{3} + 1\\right ]$$"
      ],
      "text/plain": [
       "⎡  √6      √6    ⎤\n",
       "⎢- ── + 1, ── + 1⎥\n",
       "⎣  3       3     ⎦"
      ]
     },
     "execution_count": 32,
     "metadata": {},
     "output_type": "execute_result"
    }
   ],
   "source": [
    "sols =solve(df,x)\n",
    "print(\"Τα κρίσιμα σημεία είναι: %.3f και %.3f\" % (sols[0].evalf() ,sols[1].evalf()))\n",
    "sols"
   ]
  },
  {
   "cell_type": "code",
   "execution_count": 33,
   "metadata": {
    "collapsed": false
   },
   "outputs": [
    {
     "data": {
      "image/png": "[encoded data removed]",
      "text/latex": [
       "$$6 \\left(x - 1\\right)$$"
      ],
      "text/plain": [
       "6⋅(x - 1)"
      ]
     },
     "execution_count": 33,
     "metadata": {},
     "output_type": "execute_result"
    }
   ],
   "source": [
    "d2f=diff(f,x,x)\n",
    "d2f"
   ]
  },
  {
   "cell_type": "code",
   "execution_count": 34,
   "metadata": {
    "collapsed": false
   },
   "outputs": [
    {
     "data": {
      "image/png": "[encoded data removed]",
      "text/latex": [
       "$$\\left [ 1\\right ]$$"
      ],
      "text/plain": [
       "[1]"
      ]
     },
     "execution_count": 34,
     "metadata": {},
     "output_type": "execute_result"
    }
   ],
   "source": [
    "solve(d2f,x)"
   ]
  },
  {
   "cell_type": "markdown",
   "metadata": {},
   "source": [
    "Σημείο καμπής είναι το x=1 διότι $f^{''}(x)<0$ για x < 1 (κοίλη κάτω) και $f^{''}(x)>0$ για x >1 (κοίλη επάνω) "
   ]
  },
  {
   "cell_type": "code",
   "execution_count": 35,
   "metadata": {
    "collapsed": false
   },
   "outputs": [
    {
     "data": {
      "image/png": "[encoded data removed]",
      "text/plain": [
       "<matplotlib.figure.Figure at 0x10f0e5320>"
      ]
     },
     "metadata": {},
     "output_type": "display_data"
    }
   ],
   "source": [
    "p1 =plot(f, xlim=(-2,4), ylim=(-10,10), show=False)\n",
    "p2 = plot_implicit(Eq(x, 1), show=False)\n",
    "p1.extend(p2)\n",
    "p1.show()"
   ]
  },
  {
   "cell_type": "code",
   "execution_count": 36,
   "metadata": {
    "collapsed": false
   },
   "outputs": [
    {
     "name": "stdout",
     "output_type": "stream",
     "text": [
      "Στο c=0.18 f''(c)=-4.90 < 0 άρα τοπικό μέγιστο  \n",
      "Στο c=1.82 f''(c)=4.90 > 0 άρα τοπικό ελάχιστο \n",
      "Η συνάρτηση είναι κοίλη πάνω από -οο έως 1 και κοίλη κάτω από 1 έως +οο\n"
     ]
    }
   ],
   "source": [
    "print(\"Στο c=%.2f f''(c)=%.2f < 0 άρα τοπικό μέγιστο  \" % (sols[0].evalf(), d2f.subs(x,sols[0]).evalf())) \n",
    "print(\"Στο c=%.2f f''(c)=%.2f > 0 άρα τοπικό ελάχιστο \" % (sols[1].evalf(), d2f.subs(x,sols[1]).evalf())) \n",
    "print(\"Η συνάρτηση είναι κοίλη πάνω από -οο έως 1 και κοίλη κάτω από 1 έως +οο\")"
   ]
  },
  {
   "cell_type": "markdown",
   "metadata": {},
   "source": [
    "### Ζ. Κανόνας L'Hopital\n",
    "Να υπολογιστεί το όριο $\\lim_{x\\to1}\\frac{2\\ln{x}}{x-1}$\n"
   ]
  },
  {
   "cell_type": "code",
   "execution_count": 37,
   "metadata": {
    "collapsed": false
   },
   "outputs": [
    {
     "data": {
      "image/png": "[encoded data removed]",
      "text/latex": [
       "$$2$$"
      ],
      "text/plain": [
       "2"
      ]
     },
     "execution_count": 37,
     "metadata": {},
     "output_type": "execute_result"
    }
   ],
   "source": [
    "f = 2*log(x)/(x-1)\n",
    "limit(f,x,1)"
   ]
  },
  {
   "cell_type": "code",
   "execution_count": 38,
   "metadata": {
    "collapsed": false
   },
   "outputs": [
    {
     "data": {
      "image/png": "[encoded data removed]",
      "text/latex": [
       "$$2$$"
      ],
      "text/plain": [
       "2"
      ]
     },
     "execution_count": 38,
     "metadata": {},
     "output_type": "execute_result"
    }
   ],
   "source": [
    "df_nominator=diff(2*log(x),x)\n",
    "df_denominator=diff(x-1,x)\n",
    "(df_nominator/ df_denominator).subs(x,1)"
   ]
  }
 ],
 "metadata": {
  "anaconda-cloud": {},
  "kernelspec": {
   "display_name": "Python [default]",
   "language": "python",
   "name": "python3"
  },
  "language_info": {
   "codemirror_mode": {
    "name": "ipython",
    "version": 3
   },
   "file_extension": ".py",
   "mimetype": "text/x-python",
   "name": "python",
   "nbconvert_exporter": "python",
   "pygments_lexer": "ipython3",
   "version": "3.5.2"
  }
 },
 "nbformat": 4,
 "nbformat_minor": 0
}
